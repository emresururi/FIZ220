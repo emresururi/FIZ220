{
 "cells": [
  {
   "cell_type": "markdown",
   "metadata": {},
   "source": [
    "# Uygulama Notları: 5.5 + π\n",
    "## FİZ220 - Bilgisayar Programlama II | 05/06/2020\n",
    "\n",
    "**Lineer Cebir Uygulamaları & Grafik Çizimi (II)**\n",
    "\n",
    "* 3\\. Yaylar ve <strike>insanlar</strike> kütleler\n",
    "   * Nedir bizim sorunumuz?\n",
    "   * Diagonalize this!..\n",
    "   * Yaylar (Rebooted)\n",
    "     * Ödev #4\n",
    "   * Dipten ve derinden\n",
    "   * Normal Koordinatlar / Modlar\n",
    "   * Hız analizi\n",
    "   * Grafikler\n",
    "   * Asıl Grafikler, Simülasyon, vs.\n",
    "   \n",
    "   \n",
    "Dr. Emre S. Taşcı, emre.tasci@hacettepe.edu.tr  \n",
    "Fizik Mühendisliği Bölümü  \n",
    "Hacettepe Üniversitesi"
   ]
  },
  {
   "cell_type": "markdown",
   "metadata": {},
   "source": [
    "# Köşegenleştirme\n",
    "\n",
    "Lineer cebirde \"köşegenleştirme\", denklem çözümü açısından çok büyük bir öneme sahiptir zira bir denklemi (daha doğru bir ifadeyle _denklemin katsayılarını_) temsil eden bir matrisi köşegenleştirmeyi başarabilirsek, o zaman denklemlerde iç içe geçmiş bilinmeyenler yerine, her birinde sadece bir (yeni) bilinmeyenin olduğu denklemler seti haline getirmiş olur. Yazıyla yazınca karışık gibi duruyor ama uygulama üzerinde görünce daha anlaşılır olacağını umut ediyorum. \n",
    "\n",
    "Elimizde diyelim ki bir\n",
    "\n",
    "$$A=\\begin{pmatrix}a_{11}&a_{12}\\\\a_{21}&a_{22}\\end{pmatrix}$$ \n",
    "\n",
    "matrisi olsun; eğer bu matrisi uygun bir $u$ matrisi bulup da, bir \n",
    "\n",
    "$$u^{-1}\\cdot A\\cdot u = D$$ \n",
    "\n",
    "dönüşümü ile:\n",
    "\n",
    "$$D=\\begin{pmatrix}d_{11}&0\\\\0&d_{22}\\end{pmatrix}$$ \n",
    "\n",
    "formuna getirebiliyorsak, matrisi köşegenleştirmiş olduğumuzu söyler ve herkesin takdirini kazanırız (neden? çünkü o zaman dolaşık haldeki parametreler yerine, kendilerini dolaşıklıktan kurtarmış daha uygun parametrelerle çalışabiliyoruz -- azzzz sonra. 8)\n",
    "\n",
    "Örnek olarak aşağıdaki denklem setini ele alalım:\n",
    "\n",
    "$$x+2y = 5\\\\3x+4y = 7$$ \n",
    "\n",
    "Bu denklem setini şu şekilde matris çarpımı olarak ifade edebiliriz:\n",
    "\n",
    "$$\\begin{pmatrix}1&2\\\\3&4\\end{pmatrix}\n",
    "\\begin{pmatrix}x\\\\y\\end{pmatrix} =\n",
    "\\begin{pmatrix}5\\\\7\\end{pmatrix}$$\n",
    "\n",
    "$x$ ve $y$'den daha uygun değişkenler bulup, dolaşıklığı ayırmaya çalışalım -- bunun için $A$'yı köşegenleştireceğiz:\n",
    "\n",
    "$\\newcommand{\\diff}{\\text{d}}\n",
    "\\newcommand{\\dydx}[2]{\\frac{\\text{d}#1}{\\text{d}#2}}\n",
    "\\newcommand{\\ddydx}[2]{\\frac{\\text{d}^2#1}{\\text{d}#2^2}}\n",
    "\\newcommand{\\pypx}[2]{\\frac{\\partial#1}{\\partial#2}}\n",
    "\\newcommand{\\unit}[1]{\\,\\text{#1}}$"
   ]
  },
  {
   "cell_type": "code",
   "execution_count": 1,
   "metadata": {},
   "outputs": [
    {
     "name": "stdout",
     "output_type": "stream",
     "text": [
      "A Matrisimiz:\n",
      "[[1 2]\n",
      " [3 4]]\n",
      "\n",
      " ------------------------------\n",
      "Özdeğerleri:\n",
      "[-0.37228132  5.37228132]\n",
      "\n",
      " ------------------------------\n",
      "Özvektörler Matrisi:\n",
      "[[-0.82456484 -0.41597356]\n",
      " [ 0.56576746 -0.90937671]]\n",
      "\n",
      " ------------------------------\n",
      "Matrisin Köşegenleştirilmiş Hali\n",
      "[[-0.37228132  0.        ]\n",
      " [ 0.          5.37228132]]\n",
      "\n",
      " ------------------------------\n",
      "u * D * inv(u):\n",
      "[[1. 2.]\n",
      " [3. 4.]]\n",
      "\n",
      "A gerçekten de u * D * inv(u)'ya eşitmiş!\n"
     ]
    }
   ],
   "source": [
    "import numpy as np\n",
    "\n",
    "A = np.array([[1,2],[3,4]])\n",
    "print(\"A Matrisimiz:\")\n",
    "print(A)\n",
    "print(\"\\n\",\"-\"*30)\n",
    "\n",
    "\n",
    "[l,u] = np.linalg.eig(A)\n",
    "print(\"Özdeğerleri:\")\n",
    "print(l) \n",
    "print(\"\\n\",\"-\"*30)\n",
    "print(\"Özvektörler Matrisi:\")\n",
    "print(u)\n",
    "\n",
    "D = np.diag(l)\n",
    "print(\"\\n\",\"-\"*30)\n",
    "print(\"Matrisin Köşegenleştirilmiş Hali\")\n",
    "print(D)\n",
    "\n",
    "print(\"\\n\",\"-\"*30)\n",
    "print(\"u * D * inv(u):\")\n",
    "print(np.linalg.multi_dot((u,D,np.linalg.inv(u))))\n",
    "print(\"\\nA gerçekten de u * D * inv(u)'ya eşitmiş!\")\n"
   ]
  },
  {
   "cell_type": "markdown",
   "metadata": {},
   "source": [
    "Yukarıda aslında $A$ matrisimizin özdeğer ve özvektörlerini bulduk. Özvektörler matrisi sütun sütun $A$'nın özvektörlerini içermekte, yani:\n",
    "\n",
    "$$A=\\begin{pmatrix}1&2\\\\3&4\\end{pmatrix}$$\n",
    "\n",
    "$$\\begin{matrix}\n",
    "u_1=\\begin{pmatrix}-0.82456484\\\\0.56576746\\end{pmatrix} & \\lambda_1 = -0.37228132\\\\\n",
    "u_2=\\begin{pmatrix}-0.41597356\\\\-0.90937671\\end{pmatrix}&\\lambda_2 = 5.37228132\\end{matrix}$$\n",
    "\n",
    "Özdeğer denkleminden\n",
    "\n",
    "$$A\\vec u_i = \\lambda_i u_i$$ \n",
    "\n",
    "olduğunu teyit edelim:"
   ]
  },
  {
   "cell_type": "code",
   "execution_count": 2,
   "metadata": {},
   "outputs": [
    {
     "data": {
      "text/plain": [
       "array([ 0.30697009, -0.21062466])"
      ]
     },
     "execution_count": 2,
     "metadata": {},
     "output_type": "execute_result"
    }
   ],
   "source": [
    "u1 = u[:,0]\n",
    "A_u1 = np.dot(A,u1)\n",
    "A_u1"
   ]
  },
  {
   "cell_type": "markdown",
   "metadata": {},
   "source": [
    "yani:\n",
    "\n",
    "$$\\begin{bmatrix}1&2\\\\3&4\\end{bmatrix}\\begin{bmatrix}-0.82456484\\\\0.56576746\\end{bmatrix}=\\begin{bmatrix}0.30697009\\\\-0.21062466\\end{bmatrix}$$\n",
    "\n",
    "imiş. Sonuç vektörünün x bileşenini $\\vec u$'nun x bileşenine; y bileşenini de $\\vec u$'nun y bileşenine bölelim, bakalım ne çıkacak? ;)"
   ]
  },
  {
   "cell_type": "code",
   "execution_count": 3,
   "metadata": {},
   "outputs": [
    {
     "data": {
      "text/plain": [
       "-0.3722813232690143"
      ]
     },
     "execution_count": 3,
     "metadata": {},
     "output_type": "execute_result"
    }
   ],
   "source": [
    "A_u1[0] / u1[0]"
   ]
  },
  {
   "cell_type": "code",
   "execution_count": 4,
   "metadata": {},
   "outputs": [
    {
     "data": {
      "text/plain": [
       "-0.3722813232690142"
      ]
     },
     "execution_count": 4,
     "metadata": {},
     "output_type": "execute_result"
    }
   ],
   "source": [
    "A_u1[1] / u1[1]"
   ]
  },
  {
   "cell_type": "markdown",
   "metadata": {},
   "source": [
    "$\\lambda_1$'in ta kendisi!!! \n",
    "\n",
    "Demek ki:\n",
    "\n",
    "$$\\begin{align*}\n",
    "A\\cdot \\vec u_1 &=\\begin{pmatrix}1&2\\\\3&4\\end{pmatrix}\\begin{pmatrix}-0.82456484\\\\0.56576746\\end{pmatrix}\\\\\n",
    "&=\\begin{pmatrix}0.30697009\\\\-0.21062466\\end{pmatrix}\\\\\n",
    "&=-0.3722813232 \\begin{pmatrix}-0.82456484\\\\0.56576746\\end{pmatrix}\\\\\n",
    "&=\\lambda_1 \\vec u_1\\end{align*}$$\n",
    "\n",
    "(benzer işlemlerle $\\lambda_2$ & $\\vec u_2$ ilişkisi de gösterilebilir)\n",
    "\n",
    "Bir başka deyişle, $\\vec u_i$'ler gerçekten $A$'nın özvektörleri, $\\lambda_i$'ler de karşılık gelen özdeğerleri imişler ve dahası, özdeğerlerin köşegenlerini oluşturduğu $D$ matrisi ve özvektörlerin sütunlarını oluşturduğu $u$ matrisi arasında şöyle bir ilişki varmış:\n",
    "\n",
    "$$\\boxed{u\\cdot D \\cdot u^{-1} = A}$$\n",
    "\n",
    "(matematikte bu formdaki dönüşümlere \"benzerlik dönüşümleri\" (_similarity transformation_) adı verilmekte olup, aslında koordinat dönüşümlerine işaret ederler)"
   ]
  },
  {
   "cell_type": "markdown",
   "metadata": {},
   "source": [
    "## Dolaşıklığın kaldırılması _(Uncoupling)_\n",
    "\n",
    "Bunca işi yapmamızın arkasındaki temel sebep, elimizdeki dolaşık denklem sistemini, yani içinde birden fazla bilinmeyen barındıran denklemleri, sadece tek bir cins bilinmeyen barındıran hale getirmek içindi. Örneğimizi tekrardan hatırlayacak olursak:\n",
    "\n",
    "$$x+2y = 5\\\\3x+4y = 7$$\n",
    "\n",
    "bir başka deyişle:\n",
    "\n",
    "$$\\begin{pmatrix}1&2\\\\3&4\\end{pmatrix}\n",
    "\\begin{pmatrix}x\\\\y\\end{pmatrix} =\n",
    "\\begin{pmatrix}5\\\\7\\end{pmatrix}$$\n",
    "\n",
    "lineer denklem seti vardı, temsili olarak $A\\cdot\\vec{x}=\\vec{b}$ şeklinde yazabildiğimiz. Bu durumda, $A$ gördüğümüz yere  $u\\cdot D\\cdot u^{-1}$ yazalım, nasıl olsa eşdeğerler:\n",
    "\n",
    "$$u\\cdot D\\cdot u^{-1} \\cdot\\vec{x}=\\vec{b}$$\n",
    "\n",
    "Biraz etrafı toparlayalım: $u^{-1} \\cdot\\vec{x}$ çarpımına $\\vec{x}'$ diyelim; bir de denklemin iki tarafını soldan $u^{-1}$ ile çarpalım. Böylelikle şunu elde ederiz:\n",
    "\n",
    "$$D\\cdot\\vec{x}'=u^{-1}\\vec{b}$$\n",
    "\n",
    "Son olarak da $u^{-1}\\vec{b}$ çarpımına $\\vec{b}'$ dersek, denklemimiz:\n",
    "\n",
    "$$D\\cdot\\vec{x}'=\\vec{b}'$$ \n",
    "\n",
    "şeklinde, yeni $x'$ koordinatlarının dolaşık olmadığı kolay bir lokma haline gelir. Bunu \n",
    "\n",
    "$$\\begin{pmatrix}1&2\\\\3&4\\end{pmatrix}\n",
    "\\begin{pmatrix}x\\\\y\\end{pmatrix} =\n",
    "\\begin{pmatrix}5\\\\7\\end{pmatrix}$$ \n",
    "\n",
    "sistemine uygulayalım:"
   ]
  },
  {
   "cell_type": "code",
   "execution_count": 5,
   "metadata": {},
   "outputs": [
    {
     "name": "stdout",
     "output_type": "stream",
     "text": [
      "inv(u):\n",
      "[[-0.92305231  0.42222915]\n",
      " [-0.57427572 -0.83696501]]\n",
      "\n",
      " ------------------------------\n",
      "D:\n",
      "[[-0.37228132  0.        ]\n",
      " [ 0.          5.37228132]]\n",
      "\n",
      " ------------------------------\n",
      "b':\n",
      "[[-1.65965752]\n",
      " [-8.73013367]]\n"
     ]
    }
   ],
   "source": [
    "import numpy as np\n",
    "\n",
    "A = np.array([[1,2],[3,4]])\n",
    "\n",
    "[l,u] = np.linalg.eig(A)\n",
    "u_inv = np.linalg.inv(u)\n",
    "\n",
    "\n",
    "print(\"inv(u):\")\n",
    "print(u_inv)\n",
    "print(\"\\n\",\"-\"*30)\n",
    "\n",
    "D = np.diag(l)\n",
    "\n",
    "b = np.array([[5],[7]])\n",
    "bu = np.dot(u_inv,b)\n",
    "\n",
    "print(\"D:\")\n",
    "print(D)\n",
    "print(\"\\n\",\"-\"*30)\n",
    "print(\"b':\")\n",
    "print(bu)"
   ]
  },
  {
   "cell_type": "markdown",
   "metadata": {},
   "source": [
    "yani:\n",
    "\n",
    "$$\\vec{x}'= \\begin{pmatrix}x'\\\\y'\\end{pmatrix}= u^{-1}\\vec{x} = \n",
    "\\begin{pmatrix}-0.92305231 & 0.42222915\\\\\n",
    "-0.57427572 & -0.83696501\\end{pmatrix}\\begin{pmatrix}x\\\\y\\end{pmatrix}$$\n",
    "\n",
    "$$\\Rightarrow\\begin{align*}x' &= -0.92305231x + 0.42222915y\\\\\n",
    "y' &= -0.57427572x  -0.83696501y \\end{align*}$$\n",
    "\n",
    "şeklinde yeni değişkenlerimiz $(x',y')$'nü tanımlayınca her birinde iki bilinmeyen olan iki dolaşık denklemden, her birinde bir bilinmeyen olan iki denkleme geçiş yapabiliyoruz:\n",
    "\n",
    "$$D\\cdot \\vec{x}' =\\vec{b}'$$ \n",
    "\n",
    "$$\\begin{pmatrix}-0.37228132&0\\\\0&5.37228132\\end{pmatrix}\n",
    "\\begin{pmatrix}x'\\\\y'\\end{pmatrix} =\n",
    "\\begin{pmatrix}-1.65965752\\\\-8.73013367\\end{pmatrix}$$ \n",
    "\n",
    "$$\\Rightarrow\\begin{align*}-0.37228132x' &= -1.65965752\\\\\n",
    "5.37228132y' &= -8.73013367\\end{align*}$$\n",
    "\n",
    "Hatta, bölme işlemlerini de yapalım:"
   ]
  },
  {
   "cell_type": "code",
   "execution_count": 6,
   "metadata": {},
   "outputs": [
    {
     "name": "stdout",
     "output_type": "stream",
     "text": [
      "4.458073544411624 -1.6250328574428012\n"
     ]
    }
   ],
   "source": [
    "xp = (bu[0]/l[0])[0]\n",
    "yp = (bu[1]/l[1])[0]\n",
    "print(xp,yp)"
   ]
  },
  {
   "cell_type": "markdown",
   "metadata": {},
   "source": [
    "$\\vec{x}' = u^{-1}\\cdot\\vec{x}$ ise, $u\\cdot \\vec{x}' = \\vec{x}$ olur:"
   ]
  },
  {
   "cell_type": "code",
   "execution_count": 7,
   "metadata": {},
   "outputs": [
    {
     "data": {
      "text/plain": [
       "array([-3.,  4.])"
      ]
     },
     "execution_count": 7,
     "metadata": {},
     "output_type": "execute_result"
    }
   ],
   "source": [
    "np.dot(u,np.array([xp,yp]))"
   ]
  },
  {
   "cell_type": "markdown",
   "metadata": {},
   "source": [
    "*Peki bu gerçek hayatta ne işimize yarayacak?..*  \n",
    "Tebrikler! 10 saat uğraşarak \n",
    "\n",
    "$$x+2y = 5\\\\3x+4y = 7$$ \n",
    "\n",
    "için $x=-3,\\;y=4$ olduğunu bulduk! 8P\n",
    "\n",
    "Bana sorsanız 1 dakikada çözerdim... hatta:"
   ]
  },
  {
   "cell_type": "code",
   "execution_count": 8,
   "metadata": {},
   "outputs": [
    {
     "data": {
      "text/plain": [
       "array([[-3.],\n",
       "       [ 4.]])"
      ]
     },
     "execution_count": 8,
     "metadata": {},
     "output_type": "execute_result"
    }
   ],
   "source": [
    "np.linalg.solve(np.array([[1,2],[3,4]]),np.array([[5],[7]]))"
   ]
  },
  {
   "cell_type": "markdown",
   "metadata": {},
   "source": [
    "*...e o zaman bu kadar uğraş niye?*\n",
    "\n",
    "Birazcık daha dikkat ederseniz, denklemlerin dolaşıklığını kaldırdığımızı ve denklem sistemimizi çok daha simetrik ve basit bir forma taşıdığımızı görüyorsunuz. Fizikte bunu çeşitli durumlarda oldukça sıklıkla yapıyoruz (en ünlülerinden biri de n-adet birbirine dolaşık elektronun Schrödinger denklemini n-adet bağımsız elektron denklemine yakınsayarak sayısal çözüm sunan yoğunluk fonksiyonel teorisi (_Density Functional Theory - DFT_)).\n",
    "\n",
    "O burun kıvırmakta olduğumuz $x'$ ve $y'$ yeni değişkenleri de karmaşıklıktan ötürü göremediğimiz simetrileri fark etmemizi sağlıyor: böylelikle çok karmaşık görünen davranışları birbirinden ayrılabilir basit davranışlar şeklinde yazabiliyoruz. Örnek olarak eğik atış problemini düşünün -- $x$ ve $y$ parametrelerinin dolaşık durumunda:\n",
    "\n",
    "$$y = \\tan\\theta\\, x - \\frac{gx^2}{2V_0^2\\cos^2\\theta}$$\n",
    "\n",
    "ile boğuşmak yerine (kaldı ki, o da aslında parabol denklemi, çok daha karışık olabilirdi):\n",
    "\n",
    "$$y = V_0\\sin\\theta\\, t - \\frac{1}{2}gt^2\\\\\n",
    "x = V_0\\cos\\theta\\, t$$\n",
    "\n",
    "denklemleri ile sanki bir topu yatayda, bir diğerini düşeyde atmışız gibi ayrı ayrı inceleyebiliyoruz. (Asıl bomba birazdan geliyor ;)"
   ]
  },
  {
   "attachments": {
    "2mass_3springs_normal_modes.svg": {
     "image/svg+xml": [
      "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"
     ]
    }
   },
   "cell_type": "markdown",
   "metadata": {},
   "source": [
    "# 3. Yaylar ve <strike>insanlar</strike> kütleler\n",
    "**(Nihayet!)**\n",
    "\n",
    "Açılışı büyük yapıp, üç yay ve iki kütleden oluşan aşağıdaki şeklin normal modlarını bulacağız:\n",
    "![2mass_3springs_normal_modes.svg](attachment:2mass_3springs_normal_modes.svg)"
   ]
  },
  {
   "cell_type": "markdown",
   "metadata": {},
   "source": [
    "Simetrik ve anlaşılır sonuçlar çıksın diye, bir de pek çok diatomik molekülü modelleyebiliyor diye birbirlerine $K$, duvarlara $k$ yay sabitli yaylarla bağlanmış, eşit $m$ kütleli iki cismin hareketini inceleyeceğiz.\n",
    "\n",
    "* 1. cismi (soldaki) sağa doğru $x_1$ kadar,\n",
    "* 2. cismi (sağdaki) sağa doğru $x_2$ kadar \n",
    "\n",
    "çektiğimizi düşünüp, Hooke yasasından kuvvetleri bulup, bunu Newton'ın 2. yasasına girelim (gerçek hayatlarında Newton ve Hooke birbirleri ile kanlı bıçaklılarmış):\n",
    "\n",
    "<u>1. cismin hareket denklemi</u>  \n",
    "$-kx_1-K(x_1 - x_2) = m\\ddot{x}_1$\n",
    "\n",
    "<u>2. cismin hareket denklemi</u>  \n",
    "$-kx_2-K(x_2 - x_1) = m\\ddot{x}_2$\n",
    "\n",
    "Bu denklemleri matris çarpımı ile gösterirsek:\n",
    "\n",
    "$$\\begin{pmatrix}-(k+K)&K\\\\K&-(k+K)\\end{pmatrix}\n",
    "\\begin{pmatrix}x_1\\\\x_2\\end{pmatrix} =\n",
    "m\\begin{pmatrix}\\ddot{x}_1\\\\\\ddot{x}_2\\end{pmatrix}$$"
   ]
  },
  {
   "cell_type": "markdown",
   "metadata": {},
   "source": [
    "Sol tarafta yerdeğiştirme vektörü, sağ tarafta ise ivme vektörü var. Neredeyse özdeğer denklemi çıkacakmış gibi görünüyor. İlk başta insanın aklına (ve maalesef bazı kitaplarda/sitelerde $x_i = A_i\\cos(\\omega t + \\phi)$ şeklinde bir çözümle başlamak gelse de, bu doğru bir yaklaşım değil, çünkü 1. cisim de, 2. cisim de aslında gayet karmaşık bir hareket yapıyorlar (birbirlerine doğru yaklaşırken aralarındaki yay sıkışıyor, hızları azalıyor, sonra yay bunları itiyor, bir anda hızlanıyorlar, vs. -- özetle, normal bir sinüzoidal dalga ile temsil edilemeyecek bir harekette bulunuyorlar).\n",
    "\n",
    "Peki acaba cisimlerin konumlarının hareketine değil de, \"başka yerlerin\" hareketine odaklansak? Desek ki: bu özel noktalar cisimler karmaşık hareketler yaparken bile gayet sinüzoidal salınımlarda bulunurlar.\n",
    "\n",
    "Bunun matematiksel açıklaması şu şekilde:\n",
    "\n",
    "$$\\begin{pmatrix}\\lambda_A&0\\\\0&\\lambda_B\\end{pmatrix}\n",
    "\\begin{pmatrix}x_A\\\\x_B\\end{pmatrix} =\n",
    "m\\begin{pmatrix}\\ddot{x}_A\\\\\\ddot{x}_B\\end{pmatrix}$$\n",
    "\n",
    "yani diyoruz ki: $x_A$ ve $x_B$ öyle özel noktaların pozisyonları ki, sadece onlara odaklandığımızda, diğer her şeyden (ve birbirlerinden de) bağımsız düzgün bir salınım yaptıklarını göreceğiz. Bu noktada $x_A$ ve $x_B$'nin neye benzediğini, ne olduğunu bilmiyoruz ama bildiğimiz şey kesinlikle $x_1$ ve $x_2$ olmadıkları. \n",
    "\n",
    "Saf halde salınım yaptıkları varsayımından yola çıktığımızdan, hareket denklemleri şu şekilde olmak zorundadır:\n",
    "\n",
    "$$\\begin{align*}x_A &= A_A\\cos(\\omega_A t+\\phi_A)\\\\\n",
    "x_B &= A_B\\cos(\\omega_B t+\\phi_B)\\end{align*}$$\n",
    "\n",
    "Zamana göre iki kere türevlerini aldığımızda:\n",
    "\n",
    "$$\\begin{align*}\\ddot{x}_A &= -\\omega_A^2A_A\\cos(\\omega_A t+\\phi_A)=-\\omega_A^2 x_A\n",
    "\\\\\n",
    "\\ddot{x}_B &= -\\omega_A^2A_B\\cos(\\omega_B t+\\phi_B)=-\\omega_B^2 x_B\\end{align*}$$\n",
    "\n",
    "Düzenleyip de temel denklemimizde yerine koyduğumuzda:\n",
    "\n",
    "$$\\begin{pmatrix}\\lambda_A&0\\\\0&\\lambda_B\\end{pmatrix}\n",
    "\\begin{pmatrix}x_A\\\\x_B\\end{pmatrix} =\n",
    "m\\begin{pmatrix}\\ddot{x}_A\\\\\\ddot{x}_B\\end{pmatrix}=\n",
    "m\\begin{pmatrix}-\\omega_A^2 x_A\\\\-\\omega_B^2 x_B\\end{pmatrix}$$\n",
    "\n",
    "Bu noktada bir durup, asıl çözmek istediğimiz problemi hatırlayalım:\n",
    "\n",
    "$$\\begin{pmatrix}-(k+K)&K\\\\K&-(k+K)\\end{pmatrix}\n",
    "\\begin{pmatrix}x_1\\\\x_2\\end{pmatrix} =\n",
    "m\\begin{pmatrix}\\ddot{x}_1\\\\\\ddot{x}_2\\end{pmatrix}$$\n",
    "\n",
    "Semboller üzerinden yazarsak:\n",
    "\n",
    "$$A\\vec x = m \\vec{\\ddot{x}}$$\n",
    "\n",
    "$A$ katsayılar matrisimizi nasıl köşegenleştireceğimizi yukarıda görmüştük: özvektörler matrisi $u$ ve köşegeninde özdeğerler olan özdeğerler matrisi $D$ ile:\n",
    "\n",
    "$$A = u\\cdot D \\cdot u^{-1}$$\n",
    "\n",
    "$A$'yı bu şekilde yazalım:\n",
    "\n",
    "$$\\left(u\\cdot D \\cdot u^{-1}\\right)\\vec x = m \\vec{\\ddot{x}}$$\n",
    "\n",
    "iki tarafı da soldan $u^{-1}$ ile çarpalım:\n",
    "\n",
    "$$D \\cdot u^{-1}\\vec x = m u^{-1}\\vec{\\ddot{x}}$$\n",
    "\n",
    "$D$ ile gösterdiğimiz matris, $A$'nın özdeğerler matrisinin ta kendisi ($A$ matrisini bildiğimizden, özdeğerlerini de rahatlıkla hesaplayabiliyoruz (_hesaplatabiliyoruz_ ;)), $u^{-1}$ de, özvektörler matrisinin tersi (bunu da aynı kolaylıkla hesaplayabiliyoruz). Bu denklemle, yukarıda en başta yazdığımız $x_A$ & $x_B$'ye dair olan temel denklemi kıyaslayalım:\n",
    "\n",
    "$$\\begin{pmatrix}\\lambda_A&0\\\\0&\\lambda_B\\end{pmatrix}\n",
    "\\begin{pmatrix}x_A\\\\x_B\\end{pmatrix} =\n",
    "m\\begin{pmatrix}\\ddot{x}_A\\\\\\ddot{x}_B\\end{pmatrix}$$\n",
    "\n",
    "Kıyasladığımızda, $\\lambda$ özdeğerlerini $A$'nın özdeğerleri olarak yorumladığımızda\n",
    "\n",
    "$$\\begin{pmatrix}x_A\\\\x_B\\end{pmatrix} = u^{-1} \\begin{pmatrix}x_1\\\\x_2\\end{pmatrix}$$\n",
    "\n",
    "ve\n",
    "\n",
    "$$\\begin{pmatrix}\\ddot{x_A}\\\\\\ddot{x_B}\\end{pmatrix} = u^{-1} \\begin{pmatrix}\\ddot{x_1}\\\\\\ddot{x_2}\\end{pmatrix}$$\n",
    "\n",
    "olduğu görülmekte -- yani $x_{A,B}$ ile asıl aradığımız $x_{1,2}$ arasındaki bağlantıyı bulduk!\n",
    "\n",
    "Bunun tersi de geçerli (soldan $u$ ile çarptığımızda):\n",
    "\n",
    "$$\\begin{pmatrix}x_A\\\\x_B\\end{pmatrix} = u^{-1} \\begin{pmatrix}x_1\\\\x_2\\end{pmatrix} \\leftrightarrow \\begin{pmatrix}x_1\\\\x_2\\end{pmatrix} = u \\begin{pmatrix}x_A\\\\x_B\\end{pmatrix} $$\n",
    "\n",
    "Elimizdeki verilere sayısal değerler vererek çözelim:"
   ]
  },
  {
   "attachments": {
    "2mass_3springs_normal_modes.svg": {
     "image/svg+xml": [
      "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"
     ]
    }
   },
   "cell_type": "markdown",
   "metadata": {},
   "source": [
    "# Yaylar (Rebooted)\n",
    "![2mass_3springs_normal_modes.svg](attachment:2mass_3springs_normal_modes.svg)\n",
    "\n",
    "$$\\underbrace{\\begin{pmatrix}-(k+K)&K\\\\K&-(k+K)\\end{pmatrix}}_A\n",
    "\\begin{pmatrix}x_1\\\\x_2\\end{pmatrix} =\n",
    "-m\\omega^2\\begin{pmatrix}x_1\\\\x_2\\end{pmatrix}$$ "
   ]
  },
  {
   "cell_type": "code",
   "execution_count": 9,
   "metadata": {},
   "outputs": [
    {
     "name": "stdout",
     "output_type": "stream",
     "text": [
      "A Matrisimiz:\n",
      "[[-40  30]\n",
      " [ 30 -40]]\n",
      "\n",
      " ------------------------------\n",
      "Özdeğerleri:\n",
      "[-10. -70.]\n",
      "\n",
      " ------------------------------\n",
      "Özvektörler Matrisi:\n",
      "[[ 0.70710678 -0.70710678]\n",
      " [ 0.70710678  0.70710678]]\n",
      "\n",
      " ------------------------------\n",
      "Matrisin Köşegenleştirilmiş Hali\n",
      "[[-10.   0.]\n",
      " [  0. -70.]]\n",
      "\n",
      " ------------------------------\n",
      "inv(u):\n",
      "[[ 0.70710678  0.70710678]\n",
      " [-0.70710678  0.70710678]]\n"
     ]
    }
   ],
   "source": [
    "import numpy as np\n",
    "\n",
    "m = 1 # kg\n",
    "k = 10 # N/m\n",
    "K = 30 # N/m\n",
    "\n",
    "A = np.array([[-(k+K),K],[K,-(k+K)]])\n",
    "print(\"A Matrisimiz:\")\n",
    "print(A)\n",
    "print(\"\\n\",\"-\"*30)\n",
    "\n",
    "\n",
    "[l,u] = np.linalg.eig(A)\n",
    "print(\"Özdeğerleri:\")\n",
    "print(l) \n",
    "print(\"\\n\",\"-\"*30)\n",
    "print(\"Özvektörler Matrisi:\")\n",
    "print(u)\n",
    "\n",
    "D = np.diag(l)\n",
    "print(\"\\n\",\"-\"*30)\n",
    "print(\"Matrisin Köşegenleştirilmiş Hali\")\n",
    "print(D)\n",
    "print(\"\\n\",\"-\"*30)\n",
    "\n",
    "u_inv = np.linalg.inv(u)\n",
    "print(\"inv(u):\")\n",
    "print(u_inv)\n",
    "\n"
   ]
  },
  {
   "cell_type": "markdown",
   "metadata": {},
   "source": [
    "### Özdeğerler\n",
    "İki tane özdeğerimiz var: $\\lambda_A=-10$ ve $\\lambda_B=-70$ (Sayısal değil de, analitik çözersek bunların $\\lambda_A = -k$ ile $\\lambda_B = -(k+2K)$ olduğunu fark ederiz ;). \n",
    "\n",
    "\n",
    "### Özvektörler\n",
    "İki tane de özvektörümüz var, sırası ile: \n",
    "\n",
    "$$\\vec{u}_1=\\begin{pmatrix}\\sqrt{2}/2\\\\\\sqrt{2}/2\\end{pmatrix} \\quad \\text{ve} \\quad\\vec{u}_2\\begin{pmatrix}-\\sqrt{2}/2\\\\\\sqrt{2}/2\\end{pmatrix}$$\n",
    "\n",
    "(özvektörleri istediğiniz herhangi bir sayıyla çarpabilirsiniz, özellikleri değişmez (neden?). Burada $\\sqrt{2}/2$ değerlerinin alınma sebebi, özvektörlerin boylarının 1'e normalize edilmiş olmasındandır).\n",
    "\n",
    "Tanımları itibarı ile de:\n",
    "$$A\\vec{u}_i = \\lambda_i\\vec{u}_i$$\n",
    "eşitliğini sağlarlar. Hatta bkz:"
   ]
  },
  {
   "cell_type": "code",
   "execution_count": 15,
   "metadata": {},
   "outputs": [
    {
     "name": "stdout",
     "output_type": "stream",
     "text": [
      "A.u1 / l1 =? u1\n",
      "[0.70710678 0.70710678]  =?  [0.70710678 0.70710678]\n",
      "\n",
      " ------------------------------\n",
      "A.u2 / l2 =? u2\n",
      "[-0.70710678  0.70710678]  =?  [-0.70710678  0.70710678]\n",
      "\n",
      " ------------------------------\n",
      "u.D.inv(u) =? A\n",
      "[[-40.  30.]\n",
      " [ 30. -40.]] \n",
      "\n",
      " [[-40  30]\n",
      " [ 30 -40]]\n"
     ]
    }
   ],
   "source": [
    "u1 = u[:,0]\n",
    "u2 = u[:,1]\n",
    "l1 = l[0]\n",
    "l2 = l[1]\n",
    "\n",
    "# A.u1 / l1 =? u1\n",
    "print(\"A.u1 / l1 =? u1\")\n",
    "print(np.dot(A,u1)/l1,\" =? \",u1)\n",
    "print(\"\\n\",\"-\"*30)\n",
    "\n",
    "# A.u2 / l2 =? u2\n",
    "print(\"A.u2 / l2 =? u2\")\n",
    "print(np.dot(A,u2)/l2,\" =? \",u2)\n",
    "print(\"\\n\",\"-\"*30)\n",
    "\n",
    "# u.D.inv(u) =? A\n",
    "print(\"u.D.inv(u) =? A\")\n",
    "print(np.linalg.multi_dot((u,D,np.linalg.inv(u))),\"\\n\\n\",A)"
   ]
  },
  {
   "cell_type": "markdown",
   "metadata": {},
   "source": [
    "## Çözüme devam...\n",
    "\n",
    "$D$ özdeğerler matrisini hesapladığımıza göre, $x_A$ ve $x_B$'nin frekanslarını artık çözebiliriz:\n",
    "\n",
    "$$\\begin{gathered}\n",
    "\\begin{pmatrix}\\lambda_A&0\\\\0&\\lambda_B\\end{pmatrix}\n",
    "\\begin{pmatrix}x_A\\\\x_B\\end{pmatrix} =\n",
    "m\\begin{pmatrix}\\ddot{x}_A\\\\\\ddot{x}_B\\end{pmatrix}=\n",
    "m\\begin{pmatrix}-\\omega_A^2 x_A\\\\-\\omega_B^2 x_B\\end{pmatrix}\n",
    "\\end{gathered}\n",
    "$$\n",
    "\n",
    "yani:\n",
    "\n",
    "$$\\begin{gathered}\n",
    "\\lambda_A x_A = -m\\omega_A^2 x_A\\Rightarrow \\omega_A = \\sqrt{-\\frac{\\lambda_A}{m}} = \\sqrt{-\\frac{(-10\\unit{N/m})}{1\\unit{kg}}}=\\sqrt{10}\\unit{Hz}\\\\\n",
    "\\lambda_B x_B = -m\\omega_B^2 x_B\\Rightarrow \\omega_B = \\sqrt{-\\frac{\\lambda_B}{m}} = \\sqrt{-\\frac{(-70\\unit{N/m})}{1\\unit{kg}}}=\\sqrt{70}\\unit{Hz}\n",
    "\\end{gathered}\n",
    "$$\n",
    "\n",
    "Birbirinden bağımsız (yani birbirine <u>normal</u>) modların frekanslarını hesapladığımıza göre, sıra geldi bu \"sihirli\" konumların neler olduklarını bulmaya! Onun için de $u^{-1}$ matrisini kullanacağız:\n",
    "\n",
    "$$\\begin{pmatrix}x_A\\\\x_B\\end{pmatrix} = u^{-1}  \\begin{pmatrix}x_1\\\\x_2\\end{pmatrix} = \\begin{pmatrix}\\sqrt{2}/2&\\sqrt{2}/2\\\\-\\sqrt{2}/2&\\sqrt{2}/2\\end{pmatrix}  \\begin{pmatrix}x_1\\\\x_2\\end{pmatrix}$$\n",
    "\n",
    "$$x_A = \\tfrac{\\sqrt{2}}{2} x_1 +  \\tfrac{\\sqrt{2}}{2} x_2\\\\\n",
    "x_B = -\\tfrac{\\sqrt{2}}{2} x_1 + \\tfrac{\\sqrt{2}}{2} x_2$$\n",
    "\n",
    "Görüyoruz ki, $x_A$ iki kütlenin ortasının (yani kütle merkezinin) hareketine bağlı imiş! (Benzer (ama aynı değil, aman dikkat) bir sistemin kütle merkezinin hareketi için [MIT'nin çok güzel bir videosu var](https://www.youtube.com/watch?v=amfw2nABke4), tavsiye ederim) \n",
    "\n",
    "$x_B$ ise bir cismin üzerine oturduğumuzda (kameramızı yerleştirdiğimizde) diğerinin ona göre konumuna bağlı imiş (aralarındaki mesafe $|x_2 - x_1|$ değişmediği sürece $x_B$'nin değişmediğine dikkat ederek, bunu görebilirsiniz).\n",
    "\n",
    "veya tersten gidersek:\n",
    "\n",
    "$$\\begin{pmatrix}x_1\\\\x_2\\end{pmatrix} = u  \\begin{pmatrix}x_A\\\\x_B\\end{pmatrix} = \\begin{pmatrix}\\sqrt{2}/2&-\\sqrt{2}/2\\\\\\sqrt{2}/2&\\sqrt{2}/2\\end{pmatrix}  \\begin{pmatrix}x_A\\\\x_B\\end{pmatrix}$$\n",
    "\n",
    "$$x_1 = \\tfrac{\\sqrt{2}}{2} x_A -  \\tfrac{\\sqrt{2}}{2} x_B\\\\\n",
    "x_2 = \\tfrac{\\sqrt{2}}{2} x_A + \\tfrac{\\sqrt{2}}{2} x_B$$\n",
    "\n",
    "Bu denklemler fena değil ama daha güzel bir hale getirebiliriz -- özvektörleri istediğimiz bir sayıyla çarpınca da özvektör olmaya devam ediyorlardı. Hatırlarsanız yukarıda \"neden?\" diye sormuştuk, bu vesileyle onu da cevaplayalım: tanım itibarı ile özvektör şu eşitliği sağlayan vektörlere deniyor:\n",
    "\n",
    "$$A\\vec u = \\lambda \\vec u$$\n",
    "\n",
    "şimdi denklemin iki tarafını da $\\alpha$ skaleriyle çarpalım ($\\alpha$ skaler olduğundan $A$ matrisiyle de, $\\lambda$ skaleriyle de çarpmada yer değiştirebilir):\n",
    "\n",
    "$$A\\alpha\\vec u = \\lambda \\alpha\\vec u$$\n",
    "\n",
    "$\\alpha\\vec u$'ya örneğin $\\vec v$ diye yeni bir isim verirsek:\n",
    "\n",
    "$$A\\vec v = \\lambda \\vec v$$\n",
    "\n",
    "özdeğer denkleminin de aynı şekilde sağlandığını ispatlamış oluruz.\n",
    "\n",
    "Bu durumda, özvektörü $\\sqrt{2}/2$ ile bölüp (özvektörü bir sayıya böldüğümüzde, tersini de aynı sayıyla çarpıyoruz demektir) $x_1$ ve $x_2$ için en temizinden çözümleri yazalım:\n",
    "\n",
    "$$x_1 =  x_A - x_B\\\\\n",
    "x_2 =  x_A +  x_B$$\n",
    "\n",
    "$x_A$ ile $x_B$'yi daha en başta saf salınım modları olarak tanımlamıştık (tanımlarken $\\omega_A$ ve $\\omega_B$ frekanslarını bilmiyorduk ama yolda onları da bulduk):\n",
    "\n",
    "$$\\begin{align*}x_A &= A_A\\cos(\\omega_A t+\\phi_A),\\quad\\omega_A=\\sqrt{k/m}\\\\\n",
    "x_B &= A_B\\cos(\\omega_B t+\\phi_B),\\quad\\omega_B=\\sqrt{(k+2K)/m}\\end{align*}$$\n",
    "\n",
    "Buradan da, nihai olarak:\n",
    "\n",
    "$$\\boxed{\\begin{align*}\n",
    "x_1 &= A_A\\cos(\\omega_A t+\\phi_A) - A_B\\cos(\\omega_B t+\\phi_B)\\\\\n",
    "x_2 &= A_A\\cos(\\omega_A t+\\phi_A) + A_B\\cos(\\omega_B t+\\phi_B)\n",
    "\\end{align*}\n",
    "}$$\n",
    "\n",
    "$$ \\Updownarrow\\\\\n",
    "\\begin{pmatrix}x_1\\\\x_2\\end{pmatrix}=A_A\\cos(\\omega_A t+\\phi_A)\\begin{pmatrix}1\\\\1\\end{pmatrix}+A_B\\cos(\\omega_B t+\\phi_B)\\begin{pmatrix}-1\\\\1\\end{pmatrix}$$\n",
    "\n",
    "Yukarıdaki çözüm en genel çözüm olup, $A_{A,B}$ ile $\\phi_{A,B}$ nicelikleri başlangıç ve sınır koşulları ile belirlenir.\n",
    "\n",
    "Dikkat edilecek olursa $\\omega_A$'lı kısmın katsayılarının $\\vec u_1$ ile, $\\omega_B$'li kısmın katsayılarının ise $\\vec u_2$ ile bağlantılı olduğu görülür, ki bu da doğrudan:\n",
    "\n",
    "$$\\begin{pmatrix}x_1\\\\x_2\\end{pmatrix}=u\\begin{pmatrix}x_A\\\\x_B\\end{pmatrix}$$\n",
    "\n",
    "eşitliğinin bir sonucudur."
   ]
  },
  {
   "cell_type": "markdown",
   "metadata": {},
   "source": [
    "### Özel durumlar (Saf salınımlar)\n",
    "\n",
    "* $x_A$ Modu:\n",
    "\n",
    "Sistemin sadece $x_A$ modunda hareket ettiğini varsayalım, bu durumda $A_B = 0$ olacağından:\n",
    "\n",
    "$$\\begin{align*}\n",
    "x_1 &= A_A\\cos(\\omega_A t+\\phi_A)\\\\\n",
    "x_2 &= A_A\\cos(\\omega_A t+\\phi_A)\n",
    "\\end{align*}$$\n",
    "\n",
    "yani bir başka deyişle: \n",
    "\n",
    "$$x_1 = x_2$$\n",
    "\n",
    "olacağından, bu modun: iki cismin de aynı miktarda aynı yöne doğru gittiği, aradaki yayın hiç sıkışmadığı duruma karşılık geldiği görülür.\n",
    "\n",
    "* $x_B$ Modu:\n",
    "\n",
    "Bu sefer de sistemin sadece $x_B$ modunda hareket ettiğini varsayalım, bu durumda $A_A = 0$ olacağından:\n",
    "\n",
    "$$\\begin{align*}\n",
    "x_1 &= -A_B\\cos(\\omega_B t+\\phi_B)\\\\\n",
    "x_2 &= A_B\\cos(\\omega_B t+\\phi_B)\n",
    "\\end{align*}$$\n",
    "\n",
    "yani bir başka deyişle: \n",
    "\n",
    "$$-x_1 = x_2$$\n",
    "\n",
    "olacağından, bu modun: iki cismin de aynı miktarda ama bu sefer **zıt** yönlere doğru gittiği, orta noktalarının (kütle merkezlerinin) hiç oynamadığı duruma karşılık geldiği görülür.\n",
    "\n",
    "**Not:**\n",
    "$$\\begin{pmatrix}x_1\\\\x_2\\end{pmatrix} = A_A\\cos(\\omega_A t+\\phi_A)\\begin{pmatrix}3\\\\2\\end{pmatrix} + A_{B}\\cos(\\omega_{B} t+\\phi_{B})\\begin{pmatrix}1\\\\-5\\end{pmatrix}$$\n",
    "\n",
    "Şeklindeki bir çözümün normal koordinatları: \n",
    "\n",
    "* $x_A$ modu için $x_A = 5x_1 + x_2$; \n",
    "* $x_B$ modu için $x_B = 2x_1-3x_2$ olur.\n",
    "\n",
    "Yani $A_A$'nın çarpıldığı özvektör aslında $x_B$ modunu; $A_B$'nin çarpıldığı özvektör ise aslında $x_A$ modunu bağlamaktadır.\n",
    "\n",
    "_Hesap:_\n",
    "\n",
    "$$\\left.\\begin{matrix}x_1 = 3x_A +x_B\\\\\n",
    "x_2 = 2x_A - 5x_B\\end{matrix}\\right\\}\\rightarrow \\left\\{\n",
    "\\begin{matrix}x_A = 5x_1 +x_2\\\\\n",
    "x_B = 2x_1 - 3x_2\\end{matrix}\\right.$$\n",
    "\n",
    "_(sağdaki eşitlik bir katsayı (1/17) mertebesinde yazılmıştır)_"
   ]
  },
  {
   "cell_type": "markdown",
   "metadata": {},
   "source": [
    "## Başlangıç ve sınır koşulları\n",
    "\n",
    "$$\\begin{align*}\n",
    "x_1 &= A_A\\cos(\\omega_A t+\\phi_A) - A_B\\cos(\\omega_B t+\\phi_B)\\\\\n",
    "x_2 &= A_A\\cos(\\omega_A t+\\phi_A) + A_B\\cos(\\omega_B t+\\phi_B)\n",
    "\\end{align*}$$\n",
    "\n",
    "Yukarıda, $A_{A,B}$ ve $\\phi_{A,B}$ büyüklüklerinin başlangıç ve sınır koşulları ile belirlendiğini belirtmiştik. Öncelikle denklemin zamana göre türevini alarak hız denklemlerini de yazalım:\n",
    "\n",
    "$$\\begin{align*}\n",
    "v_1 &= - A_A\\omega_A\\sin(\\omega_A t+\\phi_A) + A_B\\omega_B\\sin(\\omega_B t+\\phi_B)\\\\\n",
    "v_2 &= -A_A\\omega_A\\sin(\\omega_A t+\\phi_A) -A_B\\omega_B\\sin(\\omega_B t+\\phi_B)\n",
    "\\end{align*}$$\n",
    "\n",
    "Böylelikle 4 bilinmeyenimiz için 4 denklem çıkarmış olduk.\n",
    "\n",
    "Örnek olarak başlangıçtaki ($t=0$) konum ($x_{1,0},x_{2,0}$) ve hız ($v_{1,0},v_{2,0}$) bilgilerinin verildiği durumu ele alalım:\n",
    "\n",
    "$$\\begin{align}\n",
    "x_{1,0} &= A_A\\cos(\\phi_A) - A_B\\cos(\\phi_B)&(1)\\\\\n",
    "x_{2,0} &= A_A\\cos(\\phi_A) + A_B\\cos(\\phi_B)&(2)\\\\\n",
    "v_{1,0} &= -A_A\\omega_A\\sin(\\phi_A) + A_B\\omega_B\\sin(\\phi_B)&(3)\\\\\n",
    "v_{2,0} &= -A_A\\omega_A\\sin(\\phi_A) - A_B\\omega_B\\sin(\\phi_B)&(4)\n",
    "\\end{align}$$\n",
    "\n",
    "<hr>\n",
    "\n",
    "$(1)$ ile $(2)$ denklemlerini ve $(3)$ ile $(4)$ denklemlerini taraf tarafa toplarsak:\n",
    "\n",
    "$$\\begin{align}\n",
    "x_{1,0} + x_{2,0} &= 2A_A\\cos(\\phi_A) &(1)+(2)\\\\\n",
    "v_{1,0} + v_{2,0} &= -2A_A\\omega_A\\sin(\\phi_A)&(3)+(4)\n",
    "\\end{align}$$\n",
    "\n",
    "Biraz düzenleyip, ardından denklemlerin karelerini alıp toplarsak   \n",
    "($\\sin^2\\phi + \\cos^2\\phi = 1$ eşitliğini de kullanarak):\n",
    "\n",
    "$$\\left(\\frac{x_{1,0} + x_{2,0}}{2}\\right)^2 + \\left(- \\frac{v_{1,0}+v_{2,0}}{2\\omega_A}\\right)^2 = A_A^2$$\n",
    "\n",
    "denkleminden $A_A$ bulunur. Artık elimizde $A_A$ olduğundan $(1)+(2)$ denkleminde yerine konup, $\\phi_A$ da bulunur:\n",
    "\n",
    "$$\\phi_A = \\cos^{-1}\\frac{x_{1,0} + x_{2,0}}{2A_A}$$\n",
    "\n",
    "Benzer işlemler $A_B$ ve $\\phi_B$ için de yapılırsa:\n",
    "\n",
    "$$\\begin{align}\n",
    "x_{2,0} - x_{1,0} &= 2A_B\\cos(\\phi_B) &(2)-(1)\\\\\n",
    "v_{1,0} - v_{2,0} &= 2A_B\\omega_B\\sin(\\phi_B)&(3)-(4)\n",
    "\\end{align}$$\n",
    "\n",
    "Buradan da:\n",
    "\n",
    "$$\\left(\\frac{x_{2,0} - x_{1,0}}{2}\\right)^2 + \\left(- \\frac{v_{2,0}-v_{1,0}}{2\\omega_B}\\right)^2 = A_B^2$$\n",
    "\n",
    "ve sonrasında:\n",
    "\n",
    "$$\\phi_B = \\cos^{-1}\\frac{x_{2,0} - x_{1,0}}{2A_B}$$\n",
    "\n",
    "şeklinde bütün büyüklükler bulunmuş olur.\n",
    "\n",
    "Burada bizi bekleyen bazı tuzaklar var: \n",
    "1. $A_A$ veya $A_B$'nin karelerinin değerini biliyoruz ama bu, işaretlerini (pozitif mi, negatif mi olduklarını) bilmemize yetmiyor.\n",
    "2. $A_A$ veya $A_B$'nin sıfır olduğu durumda, karşılık gelen $\\phi$ değerinde paydaya gittiği için bu da hataya sebep oluyor.\n",
    "\n",
    "Bu tuzakları kolayca bertaraf etmek için işin için trigonometriyi sokup, alternatif formulasyona gidiyoruz."
   ]
  },
  {
   "cell_type": "markdown",
   "metadata": {},
   "source": [
    "### Alternatif formulasyon\n",
    "\n",
    "(\"Şayet çok istersek\") Yukarıdaki formülümüzü trigonometrik eşitlikleri *-ve güzel fiziğimizi-* kullanarak açıp, başka bir form haline getirebiliriz:\n",
    "\n",
    "$$\\boxed{\\cos(\\alpha\\pm\\beta) = \\cos\\alpha\\,\\cos\\beta\\mp\\sin\\alpha\\,\\sin\\beta}$$\n",
    "\n",
    "eşitliğini kullanarak (ve derin bir nefes alarak), $x_1$ ve $x_2$'yi açalım:\n",
    "\n",
    "$$\\begin{align*}x_1(t) &= A_A\\cos(\\omega_A t+\\phi_A) - A_{B}\\cos(\\omega_{B} t+\\phi_{B})\\\\\n",
    "&=A_A\\cos\\left(\\omega_A t\\right)\\cos\\phi_A -A_A\\sin\\left(\\omega_A t\\right)\\sin\\phi_A\n",
    "\\\\&-A_{B}\\cos\\left(\\omega_{B} t\\right)\\cos\\phi_{B} +A_B\\sin\\left(\\omega_{B} t\\right)\\sin\\phi_{B} \\\\\n",
    "\\\\\n",
    "x_2(t) &= A_A\\cos(\\omega_A t+\\phi_A) + A_{B}\\cos(\\omega_{B} t+\\phi_{B})\\\\\n",
    "&=A_A\\cos\\left(\\omega_A t\\right)\\cos\\phi_A -A_A\\sin\\left(\\omega_A t\\right)\\sin\\phi_A \n",
    "\\\\&+A_{B}\\cos\\left(\\omega_{B} t\\right)\\cos\\phi_{B} -A_B\\sin\\left(\\omega_{B} t\\right)\\sin\\phi_{B} \n",
    "\\end{align*}$$\n",
    "\n",
    "Şu tanımlamaları yaptığımızda:\n",
    "\n",
    "$$\\begin{gather}\n",
    "a\\equiv A_A\\cos(\\phi_A)\\\\\n",
    "b\\equiv A_A\\sin(\\phi_A)\\\\\n",
    "c\\equiv A_B\\cos(\\phi_B)\\\\\n",
    "d\\equiv A_B\\sin(\\phi_B)\n",
    "\\end{gather}\n",
    "$$\n",
    "\n",
    "konum formülleri:\n",
    "\n",
    "$$\\begin{align*}x_1(t) &= a\\cos(\\omega_A t) - b\\sin(\\omega_A t) - c\\cos(\\omega_B t) + d\\sin(\\omega_B t) \\\\\n",
    "x_2(t) &= a\\cos(\\omega_A t) - b\\sin(\\omega_A t) + c\\cos(\\omega_B t) - d\\sin(\\omega_B t)\n",
    "\\end{align*}$$\n",
    "\n",
    "halini alır. Hız formüllerini de denklemlerin zamana göre türevini alarak elde ederiz:\n",
    "\n",
    "$$\\begin{align*}v_1(t) &= -a\\omega_A \\sin(\\omega_A t) - b\\omega_A\\cos(\\omega_A t) + c\\omega_B\\sin(\\omega_B t) + d\\omega_B\\cos(\\omega_B t) \\\\\n",
    "v_2(t) &= -a\\omega_A \\sin(\\omega_A t) - b\\omega_A\\cos(\\omega_A t) - c\\omega_B\\sin(\\omega_B t) - d\\omega_B\\cos(\\omega_B t)\n",
    "\\end{align*}$$\n",
    "\n",
    "\n",
    "Başlangıç koşulları verilmiş olsun, yani $t=0$ anına karşılık gelen $x_{1,0},x_{2,0},v_{1,0},v_{2,0}$ biliniyor olsun. Bu durumda $\\cos(\\omega_{A,B}t)$ terimleri $1$; $\\sin(\\omega_{A,B}t)$ terimleri $0$ olacağından:\n",
    "\n",
    "$$\\begin{gather}\n",
    "x_{1,0} = a - c\\\\\n",
    "x_{2,0} = a + c\\\\\n",
    "v_{1,0} = -b\\omega_A + d\\omega_B\\\\\n",
    "v_{2,0} = -b\\omega_A - d\\omega_B\\\\\n",
    "\\end{gather}$$\n",
    "\n",
    "Niceliklerimizi çekersek:\n",
    "\n",
    "$$a = \\frac{x_{2,0}+x_{1,0}}{2},\\quad\n",
    "b = -\\frac{v_{2,0}+v_{1,0}}{2\\omega_A}\\\\\n",
    "c = \\frac{x_{2,0}-x_{1,0}}{2},\\quad\n",
    "d = -\\frac{v_{2,0}-v_{1,0}}{2\\omega_B}\n",
    "$$\n",
    "\n",
    "Bu yaklaşımın üsttekine göre avantajı: üstteki notasyonda $A_A$ ve $A_B$'yi kareleri üzerinden hesapladığımızdan, işaretleri doğru tahmin edememe riski vardı. Oysa, $\\cos(\\omega t+\\phi)$ terimlerini trigonometrik eşitlikten açınca, hep lineer denklemlerle iş yaptığımızdan bu sorun ortadan kalkmış oluyor!"
   ]
  },
  {
   "cell_type": "markdown",
   "metadata": {},
   "source": [
    "## Hız analizi\n",
    "Frekanslarına bakarak, zıt hareket modunun ($x_B$), aynı yöne hareket modundan ($x_A$) daha hızlı şekilde ilerlediğini görüyoruz."
   ]
  },
  {
   "cell_type": "markdown",
   "metadata": {},
   "source": [
    "## Grafikler\n",
    "Birinci mod $\\omega_A$ frekansıyla, ikinci mod da $\\omega_{B}$ frekansıyla salınacak, onları yay sabitlerinden buluruz. $A_A,A_B,\\phi_A,\\phi_B$ büyüklüklerini de başlangıç koşullarından:"
   ]
  },
  {
   "cell_type": "code",
   "execution_count": 67,
   "metadata": {
    "scrolled": false
   },
   "outputs": [
    {
     "data": {
      "image/png": "[encoded data removed]",
      "text/plain": [
       "<Figure size 432x288 with 1 Axes>"
      ]
     },
     "metadata": {
      "needs_background": "light"
     },
     "output_type": "display_data"
    },
    {
     "data": {
      "image/png": "[encoded data removed]",
      "text/plain": [
       "<Figure size 432x288 with 1 Axes>"
      ]
     },
     "metadata": {
      "needs_background": "light"
     },
     "output_type": "display_data"
    }
   ],
   "source": [
    "import numpy as np\n",
    "import matplotlib.pyplot as plt\n",
    "\n",
    "k=10 # N/m\n",
    "K=30 # N/m\n",
    "\n",
    "m = 1 # kg\n",
    "\n",
    "x1_0 =  0.3 # m\n",
    "x2_0 = -0.3 # m\n",
    "v1_0 = 0 # m/s\n",
    "v2_0 = 0 # m/s\n",
    "\n",
    "x2_0_x1_0a_gore = 5\n",
    "\n",
    "w_A = np.sqrt(k/m)\n",
    "w_B = np.sqrt((k+2*K)/m)\n",
    "\n",
    "N = 300\n",
    "t=np.linspace(0,10,N)\n",
    "\n",
    "\"\"\"\n",
    "A_A = -np.sqrt(((x1_0 + x2_0)/2)**2 + (-(v1_0+v2_0)/(2*w_A))**2)\n",
    "if(A_A == 0):\n",
    "    phi_A = 0\n",
    "else:\n",
    "    phi_A = np.arccos((x1_0 + x2_0)/(2*A_A))\n",
    "print(\"A_A, phi_A: \",A_A,phi_A)\n",
    "\n",
    "A_B = -np.sqrt(((x2_0 - x1_0)/2)**2 + (-(v2_0-v1_0)/(2*w_B))**2)\n",
    "if(A_B == 0):\n",
    "    phi_B = 0\n",
    "else:\n",
    "    phi_B = np.arccos((x2_0 - x1_0)/(2*A_B))\n",
    "print(\"A_B, phi_B: \",A_B,phi_B)\n",
    "\n",
    "x1 = A_A*np.cos(w_A*t+phi_A) - A_B*np.cos(w_B*t+phi_B)\n",
    "x2 = x2_0_x1_0a_gore + \\\n",
    "     A_A*np.cos(w_A*t+phi_A) + A_B*np.cos(w_B*t+phi_B)\n",
    "\"\"\"\n",
    "\n",
    "# Alternatif Formulasyon\n",
    "a = (x1_0+x2_0)/2\n",
    "b = - (v1_0+v2_0)/(2*w_A)\n",
    "c = (-x1_0+x2_0)/2\n",
    "d = (v1_0-v2_0)/(2*w_B)\n",
    "\n",
    "x1=a*np.cos(w_A*t)-b*np.sin(w_A*t)-c*np.cos(w_B*t)+d*np.sin(w_B*t)\n",
    "x2=x2_0_x1_0a_gore+\\\n",
    "   a*np.cos(w_A*t)-b*np.sin(w_A*t)+c*np.cos(w_B*t)-d*np.sin(w_B*t)\n",
    "\n",
    "plt.plot(t,x1)\n",
    "plt.show()\n",
    "\n",
    "plt.plot(t,x2)\n",
    "plt.show()"
   ]
  },
  {
   "cell_type": "markdown",
   "metadata": {},
   "source": [
    "# Asıl Grafikler, Simülasyon, vs.\n",
    "\n",
    "Hareketli simülasyonumuzu çizgi-film mantığıyla, ekran üzerinde peş peşe grafikleri yenileyerek gerçekleştirdiğimizden, Jupyter bu iş için pek uygun değil (burada yapacak olursak alt alta çizecek); bu nedenle, aşağıdaki kod ekrana çizdirmek yerine \"out\" klasörüne (veya sizin `cikti_klasoru` olarak tanımladığınız klasöre) kaydeder."
   ]
  },
  {
   "cell_type": "code",
   "execution_count": 89,
   "metadata": {
    "scrolled": false
   },
   "outputs": [
    {
     "data": {
      "image/png": "[encoded data removed]",
      "text/plain": [
       "<Figure size 432x288 with 1 Axes>"
      ]
     },
     "metadata": {
      "needs_background": "light"
     },
     "output_type": "display_data"
    },
    {
     "data": {
      "image/png": "[encoded data removed]",
      "text/plain": [
       "<Figure size 432x288 with 1 Axes>"
      ]
     },
     "metadata": {
      "needs_background": "light"
     },
     "output_type": "display_data"
    },
    {
     "data": {
      "image/png": "[encoded data removed]",
      "text/plain": [
       "<Figure size 432x288 with 1 Axes>"
      ]
     },
     "metadata": {
      "needs_background": "light"
     },
     "output_type": "display_data"
    }
   ],
   "source": [
    "import numpy as np\n",
    "import matplotlib.pyplot as plt\n",
    "\n",
    "k=10 # N/m\n",
    "K=30 # N/m\n",
    "\n",
    "m = 1 # kg\n",
    "# 1.0, 1.3, -0.8, 1.2\n",
    "x1_0 = 1 # m\n",
    "x2_0 = 0.0 # m\n",
    "v1_0 = 0.5 # m/s\n",
    "v2_0 = 0.5 # m/s\n",
    "\n",
    "x2_0_x1_0a_gore = 5\n",
    "\n",
    "w_A = np.sqrt(k/m)\n",
    "w_B = np.sqrt((k+2*K)/m)\n",
    "\n",
    "N = 300\n",
    "t=np.linspace(0,10,N)\n",
    "\n",
    "\"\"\"\n",
    "A_A = -np.sqrt(((x1_0 + x2_0)/2)**2 + ((v1_0+v2_0)/(2*w_A))**2)\n",
    "if(A_A == 0):\n",
    "    phi_A = 0.\n",
    "else:\n",
    "    phi_A = np.arccos((x1_0 + x2_0)/(2*A_A))\n",
    "print(\"A_A, phi_A: \",A_A,phi_A,np.rad2deg(phi_A))\n",
    "\n",
    "A_B = -np.sqrt(((x2_0 - x1_0)/2)**2 + ((v2_0-v1_0)/(2*w_B))**2)\n",
    "if(A_B == 0):\n",
    "    phi_B = np.pi/2\n",
    "else:\n",
    "    phi_B = np.arccos((x2_0 - x1_0)/(2*A_B))\n",
    "print(\"A_B, phi_B: \",A_B,phi_B,np.rad2deg(phi_B))\n",
    "\n",
    "x1 = A_A*np.cos(w_A*t+phi_A) - A_B*np.cos(w_B*t+phi_B)\n",
    "x2 = x2_0_x1_0a_gore + \\\n",
    "A_A*np.cos(w_A*t+phi_A) + A_B*np.cos(w_B*t+phi_B)\n",
    "\"\"\"\n",
    "\n",
    "# Alternatif formulasyon\n",
    "a = (x1_0+x2_0)/2\n",
    "b = - (v1_0+v2_0)/(2*w_A)\n",
    "c = (-x1_0+x2_0)/2\n",
    "d = (v1_0-v2_0)/(2*w_B)\n",
    "\n",
    "x1=a*np.cos(w_A*t)-b*np.sin(w_A*t)-c*np.cos(w_B*t)+d*np.sin(w_B*t)\n",
    "x2=x2_0_x1_0a_gore+\\\n",
    "   a*np.cos(w_A*t)-b*np.sin(w_A*t)+c*np.cos(w_B*t)-d*np.sin(w_B*t)\n",
    "\n",
    "plt.plot(t,x1)\n",
    "plt.show()\n",
    "\n",
    "plt.plot(t,x2)\n",
    "plt.show()\n",
    "\n",
    "import os\n",
    "# cikti_klasoru'nde tanımlı klasör yoksa, onu oluştur\n",
    "cikti_klasoru = \"out\"\n",
    "if(not os.path.exists(cikti_klasoru)):\n",
    "    os.makedirs(cikti_klasoru)\n",
    "\n",
    "minmin = np.min(x1)-1\n",
    "maxmax = np.max(x2)+1\n",
    "x_KM0 = (x1[0]+x2[0])/2\n",
    "for step in np.arange(x1.size):\n",
    "    #print (step,x1.size-step,t[step])\n",
    "    plt.clf()\n",
    "    #plt.figure(facecolor='white')\n",
    "    plt.plot([x1[step],x2[step]],[0,0],\"k-\")\n",
    "    plt.plot([minmin,x1[step]],[0,0],\"g--\")\n",
    "    plt.plot([maxmax,x2[step]],[0,0],\"g--\")\n",
    "    plt.plot([minmin,minmin],[-0.2,0.2],\"k-\")\n",
    "    plt.plot([maxmax,maxmax],[-0.2,0.2],\"k-\")\n",
    "    plt.plot(x1[step],0,\"ob\",x2[step],0,\"or\")\n",
    "    x_KM = (x1[step]+x2[step])/2\n",
    "    Delta_x_KM = x_KM - x_KM0\n",
    "    x_KM0 = x_KM\n",
    "    plt.plot(x_KM,0,\"dg\")\n",
    "    plt.xlim(minmin-0.1,maxmax+0.1)\n",
    "    plt.ylim(-1,1)\n",
    "    plt.title(\"t: %.3fs\"%(t[step]))\n",
    "    plt.xlabel(r\"$X_{KM}$: %.5f m  |  $\\Delta X_{KM}$: %.5f m\"%(x_KM,Delta_x_KM))\n",
    "    #plt.show()\n",
    "    plt.savefig(cikti_klasoru+\"/{:04d}.png\".format(step),facecolor=\"white\")\n"
   ]
  },
  {
   "cell_type": "code",
   "execution_count": null,
   "metadata": {},
   "outputs": [],
   "source": []
  }
 ],
 "metadata": {
  "kernelspec": {
   "display_name": "Python 3 (ipykernel)",
   "language": "python",
   "name": "python3"
  },
  "language_info": {
   "codemirror_mode": {
    "name": "ipython",
    "version": 3
   },
   "file_extension": ".py",
   "mimetype": "text/x-python",
   "name": "python",
   "nbconvert_exporter": "python",
   "pygments_lexer": "ipython3",
   "version": "3.8.5"
  }
 },
 "nbformat": 4,
 "nbformat_minor": 2
}
