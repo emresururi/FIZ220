{
 "cells": [
  {
   "cell_type": "markdown",
   "metadata": {},
   "source": [
    "# Uygulama Notları: 6\n",
    "## FİZ220 - Bilgisayar Programlama II | 21/04/2020\n",
    "\n",
    "**Matris Uygulamaları**\n",
    "\n",
    "* Gerçek Hayattan Bilgisayara\n",
    "* Yine: _n_ bilinmeyenli _n_ denklem\n",
    "  * _🎼 O yana da dönder, sar beni... (ya da: dönüş matrisi) ♫_\n",
    "      * Dönüş matrisinin sıfırdan çıkarımı\n",
    "      * _Bunları öğrendiğimize göre..._\n",
    "* Grup Teorisi\n",
    "    * Grup teorinin dört atlısı\n",
    "    * Yine gene dönelim\n",
    "    * Çarpım cetveli (Cayley tablosu)\n",
    "    * Niobyum Tetratellurid\n",
    "* Bağlantılar\n",
    "    \n",
    "Dr. Emre S. Taşcı, emre.tasci@hacettepe.edu.tr  \n",
    "Fizik Mühendisliği Bölümü  \n",
    "Hacettepe Üniversitesi"
   ]
  },
  {
   "cell_type": "markdown",
   "metadata": {},
   "source": [
    "## Gerçek Hayattan Bilgisayara\n",
    "Matematik kendi başına yeterince ilginç olsa da, üstüne bir de gerçek dünyamızda/evrenimizde gerçekleşen etkileşmeleri modelleme ve soyutlama yoluyla bilgisayara geçirip üzerlerinde oynamamıza, incelememize izin verir. Nicelikleri sayılarla, skalerler ve vektörlerle; bu niceliklerin üzerine etkiyip onları değiştiren, dönüştüren işlemleri ise matrislerle temsil ederiz."
   ]
  },
  {
   "cell_type": "markdown",
   "metadata": {},
   "source": [
    "## Yine: _n_ bilinmeyenli _n_ denklem\n",
    "[Geçen dönem fizik problemlerinin (eğik düzlem ve elektrik devreleri) çözümünde kullandığımız _n_ bilinmeyenli _n_ denklemden mürekkep doğrusal denklem takımlarını hatırlarsak](https://emresururi.github.io/FIZ219/FIZ219_EST_UygulamaNotlari_10_Gauss_Eleme_Yontemi_ile_nxn_Dogrusal_Denklem_Cozumu.html), aslında bütün o hikayelerin ardında basitçe bir çarpım işlemi yatıyordu:\n",
    "\n",
    "$$A\\cdot\\vec{x} = \\vec{b}$$\n",
    "\n",
    "Burada $\\vec{x}$ _n_-boyutlu bir bilinmeyen vektörü, _A_ $(n\\times n)$ boyutlu katsayılar matrisi, $\\vec{b}$ de sonuçları toplayan _n_-boyutlu sonuç matrisi idi. Örneğin:$$3x+2y = 7\\\\x-y=-1$$ şeklindeki doğrusal denklem takımımızı:\n",
    "$$\\begin{bmatrix}3&2\\\\1&-1\\end{bmatrix}\\cdot\\left( \\begin{matrix}x\\\\y\\end{matrix} \\right)= \\left(\\begin{matrix}7\\\\-1\\end{matrix}\\right)$$\n",
    "\n",
    "biçiminde, bir matrisle bir vektörün çarpımı şeklinde temsil edebiliriz. Her çarpma işleminde olduğu gibi, bilinmeyen kısmı yalnız bırakıp, sonuca ulaşabiliriz. $3\\times x = 12$ gibi skaler bir çarpma işlemimiz olsaydı, kafadan iki tarafı da 3'e bölüp, $x$'i yalnız bırakırdık ama matrislerde böyle \"kafadan bölme\" olmadığı için, aslında bunun altında yatan asıl sebep olan _iki tarafı da soldan, 3'ün çarpma işlemine göre tersiyle çarpıp, birim değeri elde ederiz:_\n",
    "\n",
    "$$ (3)^{-1} \\left[3\\times x = 12\\right] \\rightarrow \\mathbb{1}\\times x = 3^{-1}\\,.12\\Rightarrow x = \\frac{12}{3} = 4$$\n",
    "\n",
    "Bunu yapabildiğimize göre, yukarıdaki denklemde de iki tarafı soldan katsayılar matrisinin tersi ile çarpacak olursak:\n",
    "\n",
    "$$\n",
    "\\begin{bmatrix}3&2\\\\1&-1\\end{bmatrix}^{-1}\\left[\\begin{bmatrix}3&2\\\\1&-1\\end{bmatrix}\\cdot\\left( \\begin{matrix}x\\\\y\\end{matrix} \\right)= \\left(\\begin{matrix}7\\\\-1\\end{matrix}\\right)\\right]\\\\\n",
    "\\mathbb{1}\\cdot\\left( \\begin{matrix}x\\\\y\\end{matrix} \\right)= \\begin{bmatrix}3&2\\\\1&-1\\end{bmatrix}^{-1}\\left(\\begin{matrix}7\\\\-1\\end{matrix}\\right)\n",
    "$$\n"
   ]
  },
  {
   "cell_type": "code",
   "execution_count": 1,
   "metadata": {},
   "outputs": [
    {
     "name": "stdout",
     "output_type": "stream",
     "text": [
      "[[ 0.2  0.4]\n",
      " [ 0.2 -0.6]]\n"
     ]
    }
   ],
   "source": [
    "import numpy as np\n",
    "A = np.array([[3,2],[1,-1]])\n",
    "b = np.array([[7],[-1]])\n",
    "A_inv = np.linalg.inv(A)\n",
    "print(A_inv)"
   ]
  },
  {
   "cell_type": "code",
   "execution_count": 3,
   "metadata": {},
   "outputs": [
    {
     "data": {
      "text/plain": [
       "array([[ 1.00000000e+00, -5.55111512e-17],\n",
       "       [ 0.00000000e+00,  1.00000000e+00]])"
      ]
     },
     "execution_count": 3,
     "metadata": {},
     "output_type": "execute_result"
    }
   ],
   "source": [
    "np.dot(A_inv,A)"
   ]
  },
  {
   "cell_type": "markdown",
   "metadata": {},
   "source": [
    "$$\\left( \\begin{matrix}x\\\\y\\end{matrix} \\right)= \\begin{bmatrix}0.2&0.4\\\\0.2&-0.6\\end{bmatrix}\\left(\\begin{matrix}7\\\\-1\\end{matrix}\\right)$$"
   ]
  },
  {
   "cell_type": "code",
   "execution_count": 46,
   "metadata": {},
   "outputs": [
    {
     "name": "stdout",
     "output_type": "stream",
     "text": [
      "[[1.]\n",
      " [2.]]\n"
     ]
    }
   ],
   "source": [
    "print(np.dot(A_inv,b))"
   ]
  },
  {
   "cell_type": "markdown",
   "metadata": {},
   "source": [
    "$$\\left( \\begin{matrix}x\\\\y\\end{matrix} \\right)= \\begin{bmatrix}0.2&0.4\\\\0.2&-0.6\\end{bmatrix}\\left(\\begin{matrix}7\\\\-1\\end{matrix}\\right)=\\left(\\begin{matrix}1\\\\2\\end{matrix}\\right)\\\\\n",
    "\\boxed{x=1,\\;\\,y=2}$$"
   ]
  },
  {
   "cell_type": "markdown",
   "metadata": {},
   "source": [
    "Katsayılar matrisinin tersini bulup, bu işlemi otomatik olarak yapan bir komut da mevcut: **`np.linalg.solve()`**"
   ]
  },
  {
   "cell_type": "code",
   "execution_count": 47,
   "metadata": {},
   "outputs": [
    {
     "name": "stdout",
     "output_type": "stream",
     "text": [
      "x=  1.0 \n",
      "y=  2.0\n"
     ]
    }
   ],
   "source": [
    "[[x],[y]] = np.linalg.solve(A,b)\n",
    "print(\"x= \",x,\"\\ny= \",y)"
   ]
  },
  {
   "cell_type": "markdown",
   "metadata": {},
   "source": [
    "## _&#127932; O yana da dönder, sar beni... (ya da: dönüş matrisi) ♫_\n",
    "Elimizde iki boyutlu bir uzay, bu uzayda da bir $a$ noktamız var (diyelim $a(1,0)$ noktası). Bu noktayı saat yönünün tersine, 90 derece çevirmek istiyoruz.\n",
    "\n",
    "Kendimize en yakın fizik ya da matematik kitabını alıp açtığımızda _(ama en güzeli lineer cebir kitabını açmak olurdu bu arada ;)_, dönüş matrisi diye bir yaratıkla karşılaşıyoruz, şöyle bir şey:\n",
    "\n",
    "$$R_{\\theta}=\\begin{bmatrix}\\cos{\\theta}&-\\sin{\\theta}\\\\\\sin{\\theta}&\\cos{\\theta}\\end{bmatrix}$$\n",
    "\n",
    "Bu <strike>yaratık</strike> matris $(2\\times2)$'lik bir matris olduğundan, üzerine etkiyeceği vektör ancak 2 boyutlu bir vektör olabilir (neden?). Şansa bakın ki, elimizde tam da iki boyutlu bir vektör var (noktamızın ta kendisi).\n",
    "\n",
    "Noktamızı 90 derece çevirmek istersek, $\\theta$ yerine 90 derece (ya da _doğru_ birimlerle $\\pi /2$ radyan) yazarız, dönüş matrisimiz de şu hali alır:\n",
    "\n",
    "$$R_{\\pi/2}=\\begin{bmatrix}\\cos{\\frac{\\pi}{2}}&-\\sin{\\frac{\\pi}{2}}\\\\\\sin{\\frac{\\pi}{2}}&\\cos{\\frac{\\pi}{2}}\\end{bmatrix}=\\begin{bmatrix}0&-1\\\\1 & 0\\end{bmatrix}$$\n",
    "\n",
    "Bu halini $a(1,0)$ noktamız üzerine etki ettirelim bakalım ne çıkacak?\n",
    "\n",
    "$$b=R_{\\pi/2}\\cdot a=\\begin{bmatrix}0&-1\\\\1 & 0\\end{bmatrix}\\cdot\\left(\\begin{matrix}1\\\\0\\end{matrix}\\right)$$"
   ]
  },
  {
   "cell_type": "code",
   "execution_count": 48,
   "metadata": {},
   "outputs": [
    {
     "name": "stdout",
     "output_type": "stream",
     "text": [
      "[[0]\n",
      " [1]]\n"
     ]
    }
   ],
   "source": [
    "R_90 = np.array([[0,-1],[1,0]])\n",
    "a = np.array([[1],[0]])\n",
    "b = np.dot(R_90,a)\n",
    "print(b)"
   ]
  },
  {
   "attachments": {
    "R90.svg": {
     "image/svg+xml": [
      "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"
     ]
    }
   },
   "cell_type": "markdown",
   "metadata": {},
   "source": [
    "demek ki:\n",
    "$$b=R_{\\pi/2}\\cdot a=\\begin{bmatrix}0&-1\\\\1 & 0\\end{bmatrix}\\cdot\\left(\\begin{matrix}1\\\\0\\end{matrix}\\right)=\\left(\\begin{matrix}0\\\\1\\end{matrix}\\right)$$\n",
    "\n",
    "![R90.svg](attachment:R90.svg)"
   ]
  },
  {
   "cell_type": "markdown",
   "metadata": {},
   "source": [
    "Sağduyumuzu kullanırsak, bu sonuç epey mantıklı görünüyor. Dönüş operatörümüzü şimdi bir de $b(0,1)$ noktası üzerine vurdursak, bence kendimizi $(-1,0)$'da buluruz. Bakalım:"
   ]
  },
  {
   "cell_type": "code",
   "execution_count": 49,
   "metadata": {},
   "outputs": [
    {
     "name": "stdout",
     "output_type": "stream",
     "text": [
      "[[-1]\n",
      " [ 0]]\n"
     ]
    }
   ],
   "source": [
    "c = np.dot(R_90,b)\n",
    "print(c)"
   ]
  },
  {
   "cell_type": "markdown",
   "metadata": {},
   "source": [
    "Aynen de öyle oldu! 8)\n",
    "\n",
    "Allahtan o fizik/matematik/lineer cebir kitabı elimizin altındaymış da, hop diye dönüş matrisini bulabildik. Peki ya kitabı bulamamış olsaydı, internet de kesilmiş olsaydı? Gelsin denklem çözümü..."
   ]
  },
  {
   "attachments": {
    "Vicky_the_Viking.jpeg": {
     "image/jpeg": "[encoded data removed]"
    }
   },
   "cell_type": "markdown",
   "metadata": {},
   "source": [
    "### Dönüş matrisinin sıfırdan çıkarımı\n",
    "Elimizde iki boyutlu bir nokta var, onun da matematiksel temsili, iki boyutlu bir sütun vektörü, buraya kadar tamam. Dönüş operatörünün bu noktaya etki etmesiyle bir kuş, uçak ya da süpermen çıkmayacak, yine bir başka nokta çıkacak, bu da tamam (yani sonuç yine $(2\\times1)$lik bir sütun vektörü olacak. O zaman buna etki edecek dönüş operatörünün temsili de mutlaka $(2\\times2)$lik bir matris olmak zorunda!.. ama elimizin altında onun olduğu kitap olmadığından, sıfırdan çıkaracağız. $(2\\times2)$lik bir matrisin 4 elemanı olduğuna göre, en genel haliyle $R_{\\pi/2}$ matrisimizi:\n",
    "\n",
    "$$ R_{\\pi/2} = \\begin{bmatrix}R_{00}& R_{01}\\\\R_{10}&R_{11}\\end{bmatrix}$$\n",
    "\n",
    "olarak 4 bilinmeyen bileşeniyle yazıyoruz. Matrisin 4 bilinmeyen bileşenini çözmek için 4 adet denkleme ihtiyacımız var... ama nasıl bulacağız o bileşenleri? \n",
    "\n",
    "**Cevap:** Kafamızı kullanarak! 8)\n",
    "\n",
    "![Vicky_the_Viking.jpeg](attachment:Vicky_the_Viking.jpeg)\n",
    "(Vikingler'in Viki)\n",
    "\n",
    "Kafamızı kullanarak bu operatörün (1,0)'ı (0,1)'e götürdüğünü biliyoruz, yani:\n",
    "\n",
    "$$\\begin{bmatrix}R_{00}& R_{01}\\\\R_{10}&R_{11}\\end{bmatrix}\\cdot\\left(\\begin{matrix}1\\\\0\\end{matrix}\\right)=\\left(\\begin{matrix}0\\\\1\\end{matrix}\\right)$$"
   ]
  },
  {
   "cell_type": "markdown",
   "metadata": {},
   "source": [
    "Bu matris çarpımını açık olarak yazarsak:\n",
    "\\begin{align*}\n",
    "R_{00}\\,.\\,1 + R_{01}\\,.0 &= 0\\\\ \n",
    "R_{10}\\,.\\,1 + R_{11}\\,.0 &= 1\n",
    "\\end{align*}\n",
    "\n",
    "\\begin{align*}\n",
    "R_{00} &= 0\\\\ \n",
    "R_{10} &= 1\n",
    "\\end{align*}"
   ]
  },
  {
   "cell_type": "markdown",
   "metadata": {},
   "source": [
    "Elimizde iki denklem vardı, bu sebepten ancak iki bilinmeyeni bulabildik. Diğer ikisi için, iki denkleme daha ihtiyacımız var, onları da (0,1) noktasını orijin etrafında saat yönünün tersine 90 derece çevirince varacağımız (-1,0) noktasından bulabiliriz mesela:\n",
    "\n",
    "$$\\begin{bmatrix}0& R_{01}\\\\1&R_{11}\\end{bmatrix}\\cdot\\left(\\begin{matrix}0\\\\1\\end{matrix}\\right)=\\left(\\begin{matrix}-1\\\\0\\end{matrix}\\right)$$"
   ]
  },
  {
   "cell_type": "markdown",
   "metadata": {},
   "source": [
    "\\begin{align*}\n",
    "0\\,.\\,0 + R_{01}\\,.\\,1 &= -1\\\\ \n",
    "1\\,.\\,0 + R_{11}\\,.\\,1 &= 0\n",
    "\\end{align*}\n",
    "\n",
    "\\begin{align*}\n",
    "R_{01} &= -1\\\\ \n",
    "R_{11} &= 0\n",
    "\\end{align*}"
   ]
  },
  {
   "cell_type": "markdown",
   "metadata": {},
   "source": [
    "Böylelikle dönüş matrisimizin bütün bilinmeyen elemanlarını bulup, matrisi sıfırdan çıkarmış olduk:\n",
    "\n",
    "$$\\boxed{R_{\\pi/2} = \\begin{bmatrix} 0& -1 \\\\1 & 0\\end{bmatrix}}$$"
   ]
  },
  {
   "cell_type": "markdown",
   "metadata": {},
   "source": [
    "### _Bunları öğrendiğimize göre..._\n",
    "Dönüş matrislerini çıkarmanın aslında çok kolay ve doğrudan bir yolu var (üstte yaptığımız prosedürün gelişme kısmının atlanmış hali): matrisin ne yönde kaç derece döndürmesini istiyorsanız, önce (1,0) noktasına (sütun vektörüne) kafanızda uyarlayın, gittiğiniz yer dönüş matrisinizin 1. sütunu olacaktır; sonrasında da (0,1) noktasını olmasını istediğiniz şekilde döndürün, onun gittiği yerden de matrisinizin 2. sütununu bulmuş olursunuz:"
   ]
  },
  {
   "cell_type": "markdown",
   "metadata": {},
   "source": [
    "$$\\left(\\begin{matrix}1\\\\0\\end{matrix}\\right)\\mapsto\\left(\\begin{matrix}0\\\\1\\end{matrix}\\right)\\quad,\\quad\n",
    "\\left(\\begin{matrix}0\\\\1\\end{matrix}\\right)\\mapsto\\left(\\begin{matrix}-1\\\\0\\end{matrix}\\right)$$\n",
    "\n",
    "$$\\Rightarrow R_{\\pi/2} = \\left[\\left(\\begin{matrix}0\\\\1\\end{matrix}\\right)\\left(\\begin{matrix}-1\\\\0\\end{matrix}\\right)\\right]\n",
    "=\\begin{bmatrix} 0& -1 \\\\1 & 0\\end{bmatrix}$$"
   ]
  },
  {
   "cell_type": "markdown",
   "metadata": {},
   "source": [
    "# Grup Teorisi\n",
    "Grup teorisi, çok basit dört adet aksiyomun üzerine kurulan ve herhangi bir sistem (aritmetik işlemler, veriler, bileşikler/yapılar, elektron dağılımları, elektromanyetik davranışlar, insanların duyguları, geometrik şekiller, renk uyumları, vs..) bu dört aksiyomu sağladığı anda bir anda kaplan kesilen bir teoridir. Gücünü soyutlamalardan ve kısıtlamalardan alır. Uygulanan elemanlar küme elemanlarıdır, dört aksiyomu da sağlayan kümelere grup denir.\n",
    "\n",
    "## Grup teorinin dört atlısı\n",
    "Nedir bu aksiyomlar:\n",
    "1. **Birim eleman:** Öyle bir grup elemanı $\\mathbb{1}$ vardır ki, diğer elemanlarla işleme girdiği zaman işleme giren eleman aynı kalır:\n",
    "$$ a\\cdot \\mathbb{1} = \\mathbb{1}\\cdot a = a$$\n",
    "2. **Ters eleman:** Gruptaki her bir grup elemanı $a$ için öyle bir başka $b=a^{-1}$ elemanı vardır ki, birbirleriyle etkileşime girdikleri zaman sonuç birim eleman olur:\n",
    "$$ a\\cdot b = a \\cdot a^{-1} = a^{-1}\\cdot a = b\\cdot a = \\mathbb{1}$$\n",
    "3. **Kapalılık özelliği:** $a,b$ elemanları gruba dahilse, onların etkileşimlerinin sonucu da gruba dahildir:\n",
    "$$ {a,b}\\in G\\rightarrow a\\cdot b = c \\in G$$\n",
    "4. **Birleşme özelliği:** Elemanların yeri değiştirilmeden, işlem sırası değiştirilirse aynı sonuç çıkar:\n",
    "$$ a\\cdot(b\\cdot c) = (a\\cdot b)\\cdot c$$\n",
    "\n",
    "Gördüğünüz gibi hayli basit ama bir o kadar da güçlü kıstaslar bunlar. Herhangi bir simetri gördüğünüz her yerde grup teorisi hüküm sürmektedir. "
   ]
  },
  {
   "cell_type": "markdown",
   "metadata": {},
   "source": [
    "## Yine gene dönelim\n",
    "Biz yine dönüş matrisimizi ele alalım, bakalım bu işlemden bir grup çıkacak mı...\n",
    "\n",
    "İlk olarak yalnız bakalım: etkilediği noktayı orijin etrafında, saat yönünün tersine, 90 derece döndüren $R_{\\pi/2}$ operatörü:\n",
    "\n",
    "$$R_{\\pi/2} = \\begin{bmatrix} 0& -1 \\\\1 & 0\\end{bmatrix}$$"
   ]
  },
  {
   "cell_type": "markdown",
   "metadata": {},
   "source": [
    "Herhangi bir $(x,y)$ noktasını döndürelim, örneğin $a(0.3,0.7)$ noktasını:"
   ]
  },
  {
   "cell_type": "code",
   "execution_count": 50,
   "metadata": {},
   "outputs": [
    {
     "name": "stdout",
     "output_type": "stream",
     "text": [
      "[[ 0 -1]\n",
      " [ 1  0]]\n",
      "---------------------------------------------\n",
      "[[0.3]\n",
      " [0.7]]\n",
      "---------------------------------------------\n",
      "[[-0.7]\n",
      " [ 0.3]]\n"
     ]
    }
   ],
   "source": [
    "import numpy as np\n",
    "R_90 = np.array([[0,-1],[1,0]])\n",
    "print(R_90)\n",
    "print(\"-\"*45)\n",
    "a = np.array([[0.3],[0.7]])\n",
    "print(a)\n",
    "print(\"-\"*45)\n",
    "b = np.dot(R_90,a)\n",
    "print(b)"
   ]
  },
  {
   "cell_type": "markdown",
   "metadata": {},
   "source": [
    "Buraya kadar tamam, şimdi bu döndürülmüş $b(-0.7,0.3)$ noktasını 90 derece çevirelim:"
   ]
  },
  {
   "cell_type": "code",
   "execution_count": 51,
   "metadata": {},
   "outputs": [
    {
     "name": "stdout",
     "output_type": "stream",
     "text": [
      "[[-0.3]\n",
      " [-0.7]]\n"
     ]
    }
   ],
   "source": [
    "c = np.dot(R_90,b)\n",
    "print(c)"
   ]
  },
  {
   "cell_type": "markdown",
   "metadata": {},
   "source": [
    "Çevirmeye devam, bakalım $c(-0.3,-0.7)$'i çevirince nereye geleceğiz:"
   ]
  },
  {
   "cell_type": "code",
   "execution_count": 52,
   "metadata": {},
   "outputs": [
    {
     "name": "stdout",
     "output_type": "stream",
     "text": [
      "[[ 0.7]\n",
      " [-0.3]]\n"
     ]
    }
   ],
   "source": [
    "d = np.dot(R_90,c)\n",
    "print(d)"
   ]
  },
  {
   "cell_type": "markdown",
   "metadata": {},
   "source": [
    "İyi gidiyoruz! Devam, devam!.."
   ]
  },
  {
   "cell_type": "code",
   "execution_count": 53,
   "metadata": {},
   "outputs": [
    {
     "name": "stdout",
     "output_type": "stream",
     "text": [
      "[[0.3]\n",
      " [0.7]]\n"
     ]
    }
   ],
   "source": [
    "e = np.dot(R_90,d)\n",
    "print(e)"
   ]
  },
  {
   "cell_type": "markdown",
   "metadata": {},
   "source": [
    "Ama bu son bulduğumuz $e(0.3,0.7)$ tam da başladığımız nokta. Buraya ulaştıktan sonra ne kadar uğraşırsak uğraşalım şu dört noktadan başka bir yere gidemiyoruz:\n",
    "\n",
    "nokta|koordinat\n",
    "---|---\n",
    "$a$|(0.3,0.7)\n",
    "$b$|(-0.7,0.3)\n",
    "$c$|(-0.3,-0.7)\n",
    "$d$|(0.7,-0.3)\n",
    "\n",
    "$c$ noktasını ele alalım: $b$'nin 90 derece döndürülmüş hali; $b$ de $a$'nın 90 derece döndürülmüş haliydi, o halde $c$ için $a$'nın iki **kere** 90 derece döndürülmüş hali diyebiliriz:\n",
    "\n",
    "$$c = R_{\\pi/2} b = R_{\\pi/2} (R_{\\pi/2} a)$$\n",
    "\n",
    "Grup teorisinde (ve matris çarpımlarında) birleşim özelliği vardı hatırlarsanız, bu demektir ki:\n",
    "\n",
    "$$c = R_{\\pi/2} b = R_{\\pi/2} (R_{\\pi/2} a) = (R_{\\pi/2}R_{\\pi/2})a = {\\left(R_{\\pi/2}\\right)}^2 a$$\n",
    "\n",
    "Dönüş operatörümüzü matris olarak nasıl temsil edeceğimizi biliyoruz, o halde iki kere 90 derece döndürdüğümüz halinin neye karşılık geleceğini de hesaplayabiliriz:\n",
    "\n",
    "$$c = {\\left(R_{\\pi/2}\\right)}^2 a = \\left(\\begin{bmatrix} 0& -1 \\\\1 & 0\\end{bmatrix}\\right)^2 a=\\begin{bmatrix} 0& -1 \\\\1 & 0\\end{bmatrix} \\begin{bmatrix} 0& -1 \\\\1 & 0\\end{bmatrix} a$$"
   ]
  },
  {
   "cell_type": "code",
   "execution_count": 54,
   "metadata": {},
   "outputs": [
    {
     "name": "stdout",
     "output_type": "stream",
     "text": [
      "[[-1  0]\n",
      " [ 0 -1]]\n"
     ]
    }
   ],
   "source": [
    "R_90_2 = np.dot(R_90,R_90)\n",
    "print(R_90_2)"
   ]
  },
  {
   "cell_type": "markdown",
   "metadata": {},
   "source": [
    "$$\\rightarrow c = {\\left(R_{\\pi/2}\\right)}^2 a =\\begin{bmatrix} -1 & 0 \\\\ 0 & -1\\end{bmatrix} a\\Rightarrow \\boxed{R_{\\pi}=\\begin{bmatrix} -1 & 0 \\\\ 0 & -1\\end{bmatrix}}$$"
   ]
  },
  {
   "cell_type": "markdown",
   "metadata": {},
   "source": [
    "Tebrikler! 180 derece dönüş operatörünü de bulmuş olduk! Saat yönünün tersine (yani '+' yönde) 270<sup>o</sup> dönüş ile saat yönünde (yani '-' yönde) 90<sup>o</sup> dönmek eşdeğer, değil mi:\n",
    "\n",
    "$$ R_{3\\pi/2} = R_{-\\pi/2} = {\\left(R_{\\pi/2}\\right)}^3 = \\left(\\begin{bmatrix} 0& -1 \\\\1 & 0\\end{bmatrix}\\right)^3$$"
   ]
  },
  {
   "cell_type": "code",
   "execution_count": null,
   "metadata": {},
   "outputs": [],
   "source": [
    "#A,B,C\n",
    "#A.B.C\n",
    "np.dot(A,np.dot(B,C))"
   ]
  },
  {
   "cell_type": "code",
   "execution_count": 56,
   "metadata": {},
   "outputs": [
    {
     "name": "stdout",
     "output_type": "stream",
     "text": [
      "[[ 0  1]\n",
      " [-1  0]]\n"
     ]
    }
   ],
   "source": [
    "R_90_3 = np.linalg.matrix_power(R_90,3)\n",
    "print(R_90_3)"
   ]
  },
  {
   "cell_type": "markdown",
   "metadata": {},
   "source": [
    "yukarıda üç kere tek tek çarpmak yerine, `np.linalg.matrix_power()` komutu ile doğrudan kübünü almasını söyledik -- tek tek çarpmasını da `np.linalg.multi_dot()`la yapabilirdik, hatta gelin 4. kuvveti onunla bulalım:"
   ]
  },
  {
   "cell_type": "code",
   "execution_count": 58,
   "metadata": {},
   "outputs": [
    {
     "name": "stdout",
     "output_type": "stream",
     "text": [
      "[[1 0]\n",
      " [0 1]]\n"
     ]
    }
   ],
   "source": [
    "R_90_4 = np.linalg.multi_dot([R_90,R_90,R_90,R_90])\n",
    "print(R_90_4)"
   ]
  },
  {
   "cell_type": "markdown",
   "metadata": {},
   "source": [
    "...kaldı ki, bu sonuç bizi şaşırtmıyor zira bir noktayı $4\\times90^o = 360^o$ döndürdüğümüzde varacağımız yer noktanın ta kendisi olacak, biz de bulduğumuz birim matrisle bunu teyit etmiş olduk. "
   ]
  },
  {
   "cell_type": "markdown",
   "metadata": {},
   "source": [
    "## Çarpım cetveli (Cayley tablosu)\n",
    "Grubumuzun bütün elemanlarını birbirleriyle etkileştirip, ne çıktığını not edince mühendislikte 'Cayley Tablosu' olarak bilinen çarpım cetvelini ortaya çıkartmış oluruz. Örneğin bir noktayı önce 90 derece, sonra da 180 derece döndürürsek neticede 270 derece (ya da ters yönde 90 derece) döndürmüş oluruz:\n",
    "$$R_{\\pi}\\cdot R_{\\pi/2} \\,a=R_{3\\pi/2}\\,a \\equiv R_{-\\pi/2}\\,a$$\n",
    "\n",
    "Noktayı sağa koyduğumuz için operatör sırasının önceliğinin de sağdan sola doğru işlediğine aman dikkat edin (önce $R_{\\pi/2}$, sonra onun solundaki $R_{\\pi}$). Sadece dönüş işleminin olduğu gruplarda bu sorun çıkarmaz ama genel olarak $A\\cdot B\\ne B\\cdot A$.\n",
    "\n",
    "[Hermann-Mauguin](https://en.wikipedia.org/wiki/Hermann%E2%80%93Mauguin_notation) olarak anılan standard notasyonda dönüş operatörlerini kaç katlı olduklarını (yani kaçıncı kuvvetinin birim elemana eşit olduğunu) temsilen rakamlarla gösteririz, örneğin: $R_{\\pi/2}:4$, $R_{\\pi}:2$, $R_{3\\pi/2}:4^{-1},$ $R_{2\\pi/3}:3$."
   ]
  },
  {
   "cell_type": "markdown",
   "metadata": {},
   "source": [
    "Bütün operatörleri bu şekilde işlettiğimizde ortaya çıkan tablo:\n",
    "\n",
    "\\.|4|2|4<sup>-1</sup>|1\n",
    "---|---|---|---|---\n",
    "**4**\\||2|4<sup>-1</sup>|1|4\n",
    "**2**\\||4<sup>-1</sup>|1|4|2\n",
    "**4<sup>-1</sup>**\\||1|4|2|4<sup>-1</sup>\n",
    "**1**\\||4|2|4<sup>-1</sup>|1\n",
    "\n",
    "Bu tablodan, elimizdeki 90<sup>o</sup> dönüş operatörü ve arkadaşlarından mürekkep grubumuzun 4 grup aksiyomunu da sağladığını rahatlıkla teyit edebilirsiniz."
   ]
  },
  {
   "cell_type": "markdown",
   "metadata": {},
   "source": [
    "### Niobyum Tetratellurid\n",
    "`75\n",
    "9.197 9.197 20.505 90. 90. 90.\n",
    "24\n",
    "Te 1 4d 0.2222 0.0975 -.0016\n",
    "Te 2 4d 0.0906 0.2433 0.1683\n",
    "Te 3 4d 0.2471 0.0855 0.3293\n",
    "Te 4 4d 0.0979 0.2194 0.5000\n",
    "Te 5 4d 0.2433 0.0913 0.6680\n",
    "Te 6 4d 0.0864 0.2450 0.8330\n",
    "Te 7 4d 0.7442 0.5849 -.0016\n",
    "Te 8 4d 0.5944 0.7346 0.1627\n",
    "Te 9 4d 0.7199 0.5964 0.3307\n",
    "Te 10 4d 0.5840 0.7464 0.4999\n",
    "Te 11 4d 0.7339 0.5940 0.6623\n",
    "Te 12 4d 0.5955 0.7240 0.8326\n",
    "Nb 1 1a 0 0 0.0969\n",
    "Nb 2 1a 0 0 0.2517\n",
    "Nb 3 1a 0 0 0.4014\n",
    "Nb 4 1a 0 0 0.5929\n",
    "Nb 5 1a 0 0 0.7512\n",
    "Nb 6 1a 0 0 0.9067\n",
    "Nb 7 1b 0.5 0.5 0.0774\n",
    "Nb 8 1b 0.5 0.5 0.2376\n",
    "Nb 9 1b 0.5 0.5 0.4286\n",
    "Nb 10 1b 0.5 0.5 0.5778\n",
    "Nb 11 1b 0.5 0.5 0.735\n",
    "Nb 12 1b 0.5 0.5 0.925`\n",
    "\n",
    "Böhm, Horst, and Hans-Georg von Schnering. \"The modulated structure of niobium tetratelluride NbTe4.\" _Zeitschrift für Kristallographie-Crystalline Materials_ 171, no. 1-4 (1985): 41-64.\n",
    "\n",
    "(ICSD: #60603)"
   ]
  },
  {
   "cell_type": "code",
   "execution_count": 7,
   "metadata": {},
   "outputs": [
    {
     "name": "stdout",
     "output_type": "stream",
     "text": [
      "['Te' 'Te' 'Te' 'Te' 'Te' 'Te' 'Te' 'Te' 'Te' 'Te' 'Te' 'Te' 'Nb' 'Nb'\n",
      " 'Nb' 'Nb' 'Nb' 'Nb' 'Nb' 'Nb' 'Nb' 'Nb' 'Nb' 'Nb']\n",
      "[[ 0.2222  0.0975 -0.0016]\n",
      " [ 0.0906  0.2433  0.1683]\n",
      " [ 0.2471  0.0855  0.3293]\n",
      " [ 0.0979  0.2194  0.5   ]\n",
      " [ 0.2433  0.0913  0.668 ]\n",
      " [ 0.0864  0.245   0.833 ]\n",
      " [ 0.7442  0.5849 -0.0016]\n",
      " [ 0.5944  0.7346  0.1627]\n",
      " [ 0.7199  0.5964  0.3307]\n",
      " [ 0.584   0.7464  0.4999]\n",
      " [ 0.7339  0.594   0.6623]\n",
      " [ 0.5955  0.724   0.8326]\n",
      " [ 0.      0.      0.0969]\n",
      " [ 0.      0.      0.2517]\n",
      " [ 0.      0.      0.4014]\n",
      " [ 0.      0.      0.5929]\n",
      " [ 0.      0.      0.7512]\n",
      " [ 0.      0.      0.9067]\n",
      " [ 0.5     0.5     0.0774]\n",
      " [ 0.5     0.5     0.2376]\n",
      " [ 0.5     0.5     0.4286]\n",
      " [ 0.5     0.5     0.5778]\n",
      " [ 0.5     0.5     0.735 ]\n",
      " [ 0.5     0.5     0.925 ]]\n"
     ]
    }
   ],
   "source": [
    "atomcinsi = np.empty([24],dtype='U2')\n",
    "atomcinsi[0:12] = \"Te\"\n",
    "atomcinsi[12:] = \"Nb\"\n",
    "print(atomcinsi)\n",
    "koordinatlar = np.matrix(\"[0.2222,0.0975,-0.0016;\\\n",
    "0.0906,0.2433,0.1683;\\\n",
    "0.2471,0.0855,0.3293;\\\n",
    "0.0979,0.2194,0.5000;\\\n",
    "0.2433,0.0913,0.6680;\\\n",
    "0.0864,0.2450,0.8330;\\\n",
    "0.7442,0.5849,-0.0016;\\\n",
    "0.5944,0.7346,0.1627;\\\n",
    "0.7199,0.5964,0.3307;\\\n",
    "0.5840,0.7464,0.4999;\\\n",
    "0.7339,0.5940,0.6623;\\\n",
    "0.5955,0.7240,0.8326;\\\n",
    "0,0,0.0969;\\\n",
    "0,0,0.2517;\\\n",
    "0,0,0.4014;\\\n",
    "0,0,0.5929;\\\n",
    "0,0,0.7512;\\\n",
    "0,0,0.9067;\\\n",
    "0.5,0.5,0.0774;\\\n",
    "0.5,0.5,0.2376;\\\n",
    "0.5,0.5,0.4286;\\\n",
    "0.5,0.5,0.5778;\\\n",
    "0.5,0.5,0.735;\\\n",
    "0.5,0.5,0.925]\")\n",
    "koordinatlar = koordinatlar.A\n",
    "print(koordinatlar)"
   ]
  },
  {
   "cell_type": "code",
   "execution_count": 148,
   "metadata": {
    "scrolled": false
   },
   "outputs": [
    {
     "name": "stdout",
     "output_type": "stream",
     "text": [
      "Te [0.9025 0.2222 0.9984]\n",
      "Te [0.7778 0.9025 0.9984]\n",
      "Te [0.0975 0.7778 0.9984]\n",
      "Te [0.2222 0.0975 0.9984]\n",
      "--------------------------------------------------\n",
      "Te [0.7567 0.0906 0.1683]\n",
      "Te [0.9094 0.7567 0.1683]\n",
      "Te [0.2433 0.9094 0.1683]\n",
      "Te [0.0906 0.2433 0.1683]\n",
      "--------------------------------------------------\n",
      "Te [0.9145 0.2471 0.3293]\n",
      "Te [0.7529 0.9145 0.3293]\n",
      "Te [0.0855 0.7529 0.3293]\n",
      "Te [0.2471 0.0855 0.3293]\n",
      "--------------------------------------------------\n",
      "Te [0.7806 0.0979 0.5   ]\n",
      "Te [0.9021 0.7806 0.5   ]\n",
      "Te [0.2194 0.9021 0.5   ]\n",
      "Te [0.0979 0.2194 0.5   ]\n",
      "--------------------------------------------------\n",
      "Te [0.9087 0.2433 0.668 ]\n",
      "Te [0.7567 0.9087 0.668 ]\n",
      "Te [0.0913 0.7567 0.668 ]\n",
      "Te [0.2433 0.0913 0.668 ]\n",
      "--------------------------------------------------\n",
      "Te [0.755  0.0864 0.833 ]\n",
      "Te [0.9136 0.755  0.833 ]\n",
      "Te [0.245  0.9136 0.833 ]\n",
      "Te [0.0864 0.245  0.833 ]\n",
      "--------------------------------------------------\n",
      "Te [0.4151 0.7442 0.9984]\n",
      "Te [0.2558 0.4151 0.9984]\n",
      "Te [0.5849 0.2558 0.9984]\n",
      "Te [0.7442 0.5849 0.9984]\n",
      "--------------------------------------------------\n",
      "Te [0.2654 0.5944 0.1627]\n",
      "Te [0.4056 0.2654 0.1627]\n",
      "Te [0.7346 0.4056 0.1627]\n",
      "Te [0.5944 0.7346 0.1627]\n",
      "--------------------------------------------------\n",
      "Te [0.4036 0.7199 0.3307]\n",
      "Te [0.2801 0.4036 0.3307]\n",
      "Te [0.5964 0.2801 0.3307]\n",
      "Te [0.7199 0.5964 0.3307]\n",
      "--------------------------------------------------\n",
      "Te [0.2536 0.584  0.4999]\n",
      "Te [0.416  0.2536 0.4999]\n",
      "Te [0.7464 0.416  0.4999]\n",
      "Te [0.584  0.7464 0.4999]\n",
      "--------------------------------------------------\n",
      "Te [0.406  0.7339 0.6623]\n",
      "Te [0.2661 0.406  0.6623]\n",
      "Te [0.594  0.2661 0.6623]\n",
      "Te [0.7339 0.594  0.6623]\n",
      "--------------------------------------------------\n",
      "Te [0.276  0.5955 0.8326]\n",
      "Te [0.4045 0.276  0.8326]\n",
      "Te [0.724  0.4045 0.8326]\n",
      "Te [0.5955 0.724  0.8326]\n",
      "--------------------------------------------------\n",
      "Nb [0.     0.     0.0969]\n",
      "--------------------------------------------------\n",
      "Nb [0.     0.     0.2517]\n",
      "--------------------------------------------------\n",
      "Nb [0.     0.     0.4014]\n",
      "--------------------------------------------------\n",
      "Nb [0.     0.     0.5929]\n",
      "--------------------------------------------------\n",
      "Nb [0.     0.     0.7512]\n",
      "--------------------------------------------------\n",
      "Nb [0.     0.     0.9067]\n",
      "--------------------------------------------------\n",
      "Nb [0.5    0.5    0.0774]\n",
      "--------------------------------------------------\n",
      "Nb [0.5    0.5    0.2376]\n",
      "--------------------------------------------------\n",
      "Nb [0.5    0.5    0.4286]\n",
      "--------------------------------------------------\n",
      "Nb [0.5    0.5    0.5778]\n",
      "--------------------------------------------------\n",
      "Nb [0.5   0.5   0.735]\n",
      "--------------------------------------------------\n",
      "Nb [0.5   0.5   0.925]\n",
      "--------------------------------------------------\n"
     ]
    }
   ],
   "source": [
    "atomcinsi = np.empty([24],dtype='U2')\n",
    "atomcinsi[0:12] = \"Te\"\n",
    "atomcinsi[12:] = \"Nb\"\n",
    "#print(atomcinsi)\n",
    "#print(\"-\"*45)\n",
    "koordinatlar = np.matrix(\"[0.2222,0.0975,-0.0016;\\\n",
    "0.0906,0.2433,0.1683;\\\n",
    "0.2471,0.0855,0.3293;\\\n",
    "0.0979,0.2194,0.5000;\\\n",
    "0.2433,0.0913,0.6680;\\\n",
    "0.0864,0.2450,0.8330;\\\n",
    "0.7442,0.5849,-0.0016;\\\n",
    "0.5944,0.7346,0.1627;\\\n",
    "0.7199,0.5964,0.3307;\\\n",
    "0.5840,0.7464,0.4999;\\\n",
    "0.7339,0.5940,0.6623;\\\n",
    "0.5955,0.7240,0.8326;\\\n",
    "0,0,0.0969;\\\n",
    "0,0,0.2517;\\\n",
    "0,0,0.4014;\\\n",
    "0,0,0.5929;\\\n",
    "0,0,0.7512;\\\n",
    "0,0,0.9067;\\\n",
    "0.5,0.5,0.0774;\\\n",
    "0.5,0.5,0.2376;\\\n",
    "0.5,0.5,0.4286;\\\n",
    "0.5,0.5,0.5778;\\\n",
    "0.5,0.5,0.735;\\\n",
    "0.5,0.5,0.925]\")\n",
    "koordinatlar = koordinatlar.A\n",
    "#print(koordinatlar)\n",
    "\n",
    "O4 = np.array([[0,-1,0],[1,0,0],[0, 0, 1]])\n",
    "O2 = np.linalg.matrix_power(O4,2)\n",
    "O4i = np.linalg.matrix_power(O4,3)\n",
    "O1 = np.eye(3,3)\n",
    "\n",
    "operatorler = np.array([O4,O2,O4i,O1])\n",
    "#print(operatorler)\n",
    "\n",
    "uretilen_koordinatlar = np.empty((0,3))\n",
    "uretilen_cinsler = np.empty((0,3),dtype='U2')\n",
    "i = 0\n",
    "for xyz in koordinatlar:\n",
    "    atomcins = atomcinsi[i]\n",
    "    i+=1\n",
    "    for op in operatorler:\n",
    "        yeni_koordinat = np.dot(op,xyz)\n",
    "        yeni_koordinat[yeni_koordinat<0] += 1\n",
    "        #print(yeni_koordinat)\n",
    "        if(not(np.any(np.isin(uretilen_koordinatlar,yeni_koordinat).all(1)))):\n",
    "            print(atomcins,yeni_koordinat)\n",
    "            uretilen_koordinatlar = np.append(uretilen_koordinatlar,[yeni_koordinat],axis=0)\n",
    "            uretilen_cinsler = np.append(uretilen_cinsler,atomcins)\n",
    "    print(\"-\"*50)"
   ]
  },
  {
   "cell_type": "markdown",
   "metadata": {},
   "source": [
    "# Bağlantılar\n",
    "* Bilbao Kristallografi Sunucusu: https://www.cryst.ehu.es/\n",
    "* VESTA görüntüleme programı: http://jp-minerals.org/vesta/en/\n",
    "* ICSD veritabanı: https://icsd.products.fiz-karlsruhe.de/\n",
    "* Materials Project: https://www.materialsproject.org/materials/mp-650328/"
   ]
  }
 ],
 "metadata": {
  "kernelspec": {
   "display_name": "Python 3",
   "language": "python",
   "name": "python3"
  },
  "language_info": {
   "codemirror_mode": {
    "name": "ipython",
    "version": 3
   },
   "file_extension": ".py",
   "mimetype": "text/x-python",
   "name": "python",
   "nbconvert_exporter": "python",
   "pygments_lexer": "ipython3",
   "version": "3.8.5"
  }
 },
 "nbformat": 4,
 "nbformat_minor": 2
}
