{
 "cells": [
  {
   "cell_type": "markdown",
   "metadata": {},
   "source": [
    "# Ödev: 2\n",
    "## FİZ220 - Bilgisayar Programlama II | 10/05/2020\n",
    "\n",
    "**Matrisler, Operatörler**\n",
    "\n",
    "**Son gönderim tarihi:** 20 Mayıs Perşembe, 23:59  \n",
    "**Gönderim şekli:** FIZ220_Odev_02_Grup_#.ipynb isimli jupyter ipynb formatında dosyayı ödev sayfasından göndermek suretiyle  \n",
    "**Gönderecek kişi:** <u>Grup temsilcisi</u>\n",
    "\n",
    "Dr. Emre S. Taşcı, emre.tasci@hacettepe.edu.tr  \n",
    "Fizik Mühendisliği Bölümü  \n",
    "Hacettepe Üniversitesi\n",
    "\n",
    "## Matrisler, operatörler"
   ]
  },
  {
   "cell_type": "markdown",
   "metadata": {},
   "source": [
    "### 1. Soru: Dönüş operatörü\n",
    "1. x-ekseninde, x=1, y=0 noktasında başlıyoruz. (1000x2)'lik bir `noktalar` matrisi tanımlıyoruz.\n",
    "2. $\\theta \\in [0,360)$ aralığında rasgele bir $\\theta$ değeri seçip ($\\theta$'nın tam sayı olması gerekmiyor), noktamızı o kadar döndürüyoruz.\n",
    "3. Geldiği noktanın x ve y değerlerini `noktalar` matrisinde kaydediyoruz: matrisin her bir satırı, o elde gelinen koordinatı gösteriyor.\n",
    "4. 2-3 adımlarını 1000 kere tekrarlıyoruz (noktanın bir önceki elde geldiği noktadan devam ederek)\n",
    "5. noktalar matrisinin x ve y değerlerini tuttuğumuz 0 ve 1 sütunlarının ortalamalarını ekrana yazdırıyoruz\n",
    "6. 1-5 adımlarını 30 kere tekrarlıyoruz."
   ]
  },
  {
   "cell_type": "markdown",
   "metadata": {},
   "source": [
    "### 2. Soru: 65.419 (veya -114.581) _özvektörse_, 145.544 ne? _Üveydeğer_ mi? 8~(\n",
    "\n",
    "$$A=\\begin{pmatrix}1&2\\\\3&4\\end{pmatrix}$$\n",
    "\n",
    "matrisini ele alalım: bu matrisin iki tane özdeğeri, onlara karşılık gelen de iki tane özvektörü var. Derste öğrendiğimiz `eig()` fonksiyonu ile bunları bulalım:"
   ]
  },
  {
   "cell_type": "code",
   "execution_count": 2,
   "metadata": {},
   "outputs": [
    {
     "name": "stdout",
     "output_type": "stream",
     "text": [
      "[-0.37228132  5.37228132] \n",
      " [[-0.82456484 -0.41597356]\n",
      " [ 0.56576746 -0.90937671]]\n"
     ]
    }
   ],
   "source": [
    "import numpy as np\n",
    "A = np.matrix([[1,2],[3,4]])\n",
    "[ozdegerler, ozvektorler] = np.linalg.eig(A)\n",
    "print(ozdegerler,\"\\n\",ozvektorler)"
   ]
  },
  {
   "cell_type": "markdown",
   "metadata": {},
   "source": [
    "yani:\n",
    "\n",
    "$$\\lambda_1 = -0.372\\leftrightarrow u_1 = \\begin{bmatrix}-0.825\\\\0.566\\end{bmatrix}$$\n",
    "$$\\lambda_2 = 5.372\\leftrightarrow u_2 = \\begin{bmatrix}-0.416\\\\-0.909\\end{bmatrix}$$"
   ]
  },
  {
   "cell_type": "markdown",
   "metadata": {},
   "source": [
    "0. Her bir özvektörün x-ekseni ile yaptığı açıyı hesaplayın. (145.544 ve -114.581 derece bulacaksınız - buraya kadar bir sıkıntı yok 8)"
   ]
  },
  {
   "cell_type": "markdown",
   "metadata": {},
   "source": [
    "Özvektörleri yine derste öğrendiğimiz \"vura vura buldurma\" metoduyla bulmaya çalışalım:\n",
    "1. Bileşenleri ${x,y}\\in [-1,1]$ aralığında olan iki boyutlu rasgele bir `k` vektörü oluşturun (bileşenler tamsayı olmak zorunda değil)\n",
    "2. Bu vektörün yatayla yaptığı açıyı hesaplayın\n",
    "3. Vektörün üzerine A matrisini etki ettirin, ortaya çıkan vektörün yatayla yaptığı açıyı hesaplayın -- bu açıyla, bir önceki hesapladığınız açı arasındaki fark 0.0001 dereceden küçük olana kadar bu adımı tekrarlayın (kaç adımda bu küçük farka ulaştığınızı ekrana yazdırın). Yani `k` vektörüne matrisimizi etki ettirdik, diyelim ki `k'` vektörünü elde ettik, aralarındaki açı 0.0001 dereceden büyükse, matrisi `k'` vektörüne vurdurup, bu sefer `k''` vektörünü bulduk. Şimdi açı kontrolünü `k'` ile `k''` arasında yapıyoruz: yani hep şimdi hesapladığımız açı ile bir önceki hesapladığımız açı arasında oluyor bu kontrol.\n",
    "4. En son elde ettiğiniz vektörün boyunu 1 olacak şekilde ayarlayın, yönü aynı kalsın (anahtar terim: \"normalize etmek\" 8) Açıyı ve vektörü yazdırın.\n",
    "5. 1-4 arasını 20 kere tekrarlayın. Bulduğunuz açı 145.544 veya -114.581'den biri mi? Değilse niye değil, durumu kurtarabiliyor musunuz? ;)\n",
    "\n",
    "**Ultra Bonus Soru:** 1-4 adımlarını 1000 kere tekrarlayın -- her seferinde aynı özvektöre mi gitti? Eğer öyle ise bu metotla diğerine nasıl ulaşırız?"
   ]
  },
  {
   "cell_type": "code",
   "execution_count": null,
   "metadata": {},
   "outputs": [],
   "source": []
  }
 ],
 "metadata": {
  "kernelspec": {
   "display_name": "Python 3",
   "language": "python",
   "name": "python3"
  },
  "language_info": {
   "codemirror_mode": {
    "name": "ipython",
    "version": 3
   },
   "file_extension": ".py",
   "mimetype": "text/x-python",
   "name": "python",
   "nbconvert_exporter": "python",
   "pygments_lexer": "ipython3",
   "version": "3.8.5"
  }
 },
 "nbformat": 4,
 "nbformat_minor": 2
}
