{
 "cells": [
  {
   "cell_type": "markdown",
   "metadata": {},
   "source": [
    "# Uygulama Notları: 3\n",
    "## FİZ220 - Bilgisayar Programlama II | 20/03/2020\n",
    "\n",
    "**Matrisler (NumPy Matrix (_numpy.matrix_) Nesneleri)**\n",
    "\n",
    "* NumPy Kütüphanesine Giriş\n",
    "  * NumPy ve SciPy kütüphaneleri\n",
    "  * Matrix değişken tipi\n",
    "  * Temel Matris İşlemleri\n",
    "    * Matris hakkında bilgi almak için kullanılan metotlar\n",
    "      * ndim\n",
    "      * shape\n",
    "      * size\n",
    "    * Matris elemanlarına erişim ve değiştirme\n",
    "    * Transpozesini (devriğini) almak\n",
    "    * Tersini (inverse) almak\n",
    "    * Matrislerin birbirleri ile toplanması ve çarpılması\n",
    "      * Toplama işlemi\n",
    "      * Çarpma işlemi\n",
    "      * Matrisin üssünü alma\n",
    "      * Matrisin 'şeklini değiştirme'\n",
    "  * Yolun sonu\n",
    "  * Kurtuluş: NumPy dizileri\n",
    "  * Aklınızdaki \"o soru\"\n",
    " \n",
    "Dr. Emre S. Taşcı, emre.tasci@hacettepe.edu.tr  \n",
    "Fizik Mühendisliği Bölümü  \n",
    "Hacettepe Üniversitesi"
   ]
  },
  {
   "cell_type": "markdown",
   "metadata": {},
   "source": [
    "# NumPy Kütüphanesine Giriş\n"
   ]
  },
  {
   "cell_type": "markdown",
   "metadata": {},
   "source": [
    "## NumPy ve SciPy kütüphaneleri\n",
    "Python'da matematiksel işlemler için iki adet temel kütüphane vardır: NumPy ve SciPy. NumPy, temel matematik ve asıl olarak sayısal hesaplamaların olmazsa olmazı matris işlemlerini içerirken, SciPy daha ileri özel fonksiyonlarını ve çözüm yöntemlerini bünyesinde barındırır. Dersimizde işlemlerimize NumPy ile başlayıp, daha ileri seviyedeki problemler için ileride SciPy'dan da yararlanacağız.\n",
    "\n",
    "NumPy nesneleri ve işlemleri, GNU Octave ile büyük parallellik gösterir. Bu benzerliği daha ilk aşamada \"matrix\" değişkeni ile hemen görmek mümkündür."
   ]
  },
  {
   "cell_type": "markdown",
   "metadata": {},
   "source": [
    "### Matrix değişken tipi\n",
    "NumPy'da `matrix` türündeki matrisler tırnak içinde, -tıpkı Octave'da olduğu gibi- sütunlar virgül veya boşlukla; satırlar ise noktalı virgülle ayrılır (Octave'ın aksine, satır ayrımı yapmak için bir alt satıra geçmek hataya sebep olur). \n",
    "\n",
    "Tırnağın içerisinde köşeli parantez kullanmak opsiyoneldir.\n",
    "\n",
    "3x3'lük bir matris tanımlayalım:"
   ]
  },
  {
   "cell_type": "code",
   "execution_count": 1,
   "metadata": {},
   "outputs": [
    {
     "name": "stdout",
     "output_type": "stream",
     "text": [
      "[[1 2 3]\n",
      " [4 5 6]\n",
      " [7 8 9]]\n",
      "---------------\n",
      "[[1 2 3]\n",
      " [4 5 6]\n",
      " [7 8 9]]\n"
     ]
    }
   ],
   "source": [
    "import numpy as np\n",
    "\n",
    "# Koseli parantez kullanmadan tanimlayalim:\n",
    "a = np.matrix(\"1 2, 3;4 5 6 ; 7 8 9\")\n",
    "print(a)\n",
    "\n",
    "print(\"---------------\")\n",
    "\n",
    "# Ayni matrisi bu sefer koseli parantez\n",
    "# kullanarak tanimlayalim:\n",
    "a_2 = np.matrix(\"[1 2, 3;4 5 6 ; 7 8 9]\")\n",
    "print(a_2)"
   ]
  },
  {
   "cell_type": "markdown",
   "metadata": {},
   "source": [
    "### Temel Matris İşlemleri"
   ]
  },
  {
   "cell_type": "markdown",
   "metadata": {},
   "source": [
    "**Matris hakkında bilgi almak için kullanılan metotlar(*):**  \n",
    "* `ndim` ile matrisimizin kaç boyutlu olduğunu,\n",
    "* `shape` ile kaça kaçlık bir matris olduğunu,\n",
    "* `size` ile de matrisimizdeki eleman sayısını  \n",
    "öğreniriz:"
   ]
  },
  {
   "cell_type": "code",
   "execution_count": 2,
   "metadata": {
    "scrolled": true
   },
   "outputs": [
    {
     "name": "stdout",
     "output_type": "stream",
     "text": [
      "Matrisimiz 2 boyutlu bir matris olup,\n",
      "3 x 3 dağılımlı bir matristir.\n",
      "Matrisimizde toplam  9 adet eleman vardır.\n"
     ]
    }
   ],
   "source": [
    "a = np.matrix(\"1 2, 3;4 5 6 ; 7 8 9\")\n",
    "print(\"Matrisimiz\",a.ndim,\"boyutlu bir matris olup,\")\n",
    "kaca_kac = a.shape\n",
    "print(kaca_kac[0],\"x\",kaca_kac[1],\"dağılımlı bir matristir.\")\n",
    "print(\"Matrisimizde toplam \",a.size,\"adet eleman vardır.\")"
   ]
  },
  {
   "cell_type": "markdown",
   "metadata": {},
   "source": [
    "_(\\*) Her ne kadar \"metot\" terimini kullanmış olsam da, teknik olarak `matrix` nesnesinin özelliklerinden (\"attribute\") bahsetmekteyiz -- işleri fazla karıştırmamak için nesne özellikleri ve metotları geçişli olarak kullanılacaktır._"
   ]
  },
  {
   "cell_type": "markdown",
   "metadata": {},
   "source": [
    "**Matris elemanlarına erişim ve değiştirme**  \n",
    "Matris elemanlarına köşeli parantez içerisinde indisi belirterek erişebiliriz (indislerin 0'dan başladığına ve bütün indislerin aynı köşeli parantez içinde belirtildiğine dikkat edin!). \n",
    "\n",
    "Örneğin, matrisimizin 2. satırının 3. elemanına erişmek için:"
   ]
  },
  {
   "cell_type": "code",
   "execution_count": 3,
   "metadata": {},
   "outputs": [
    {
     "name": "stdout",
     "output_type": "stream",
     "text": [
      "[[1 2 3]\n",
      " [4 5 6]\n",
      " [7 8 9]]\n",
      "Matrisimizin 2. satırının 3. sütundaki elemanı: 6\n",
      "----------\n",
      "Matrisimizin 2. satırının 3. sütundaki elemanı: 12\n",
      "[[ 1  2  3]\n",
      " [ 4  5 12]\n",
      " [ 7  8  9]]\n"
     ]
    }
   ],
   "source": [
    "a = np.matrix(\"1 2, 3;4 5 6 ; 7 8 9\")\n",
    "print(a)\n",
    "print(\"Matrisimizin 2. satırının 3. sütundaki elemanı:\",a[1,2])\n",
    "print(\"----------\")\n",
    "# Bu elemana yeni bir deger atayalim:\n",
    "a[1,2] = 12\n",
    "print(\"Matrisimizin 2. satırının 3. sütundaki elemanı:\",a[1,2])\n",
    "print(a)"
   ]
  },
  {
   "cell_type": "markdown",
   "metadata": {},
   "source": [
    "Matrisimizin bir kısmına erişmek için aralıkları kullanabiliriz:"
   ]
  },
  {
   "cell_type": "code",
   "execution_count": 4,
   "metadata": {},
   "outputs": [
    {
     "name": "stdout",
     "output_type": "stream",
     "text": [
      "Matrisimizin 2. ve 3. satırlarının, 1. ve 2. elemanları:\n",
      "[[4 5]\n",
      " [7 8]]\n"
     ]
    }
   ],
   "source": [
    "a = np.matrix(\"1 2, 3;4 5 6 ; 7 8 9\")\n",
    "print(\"Matrisimizin 2. ve 3. satırlarının, 1. ve 2. elemanları:\")\n",
    "print(a[1:3,0:2])"
   ]
  },
  {
   "cell_type": "markdown",
   "metadata": {},
   "source": [
    "Aralıkları belirtirken bitiş elemanının \"kadar\" anlamına geldiğini, onu **içermediğini** unutmayın!\n",
    "\n",
    "Hazır aralıklardan söz açmışken, aralıklardaki artış miktarını 3. parametre olarak belirtiriz _(GNU Octave'da bu parametre başlangıç ve bitiş parametrelerinin ortasında yer almaktaydı)_."
   ]
  },
  {
   "cell_type": "code",
   "execution_count": 5,
   "metadata": {},
   "outputs": [
    {
     "name": "stdout",
     "output_type": "stream",
     "text": [
      "[[1 2 3 9]\n",
      " [4 5 6 9]\n",
      " [7 8 9 9]]\n",
      "Matrisimizin 1. ve 3. satırlarının, 2. ve 4. sütunları\n",
      "[[2 9]\n",
      " [8 9]]\n"
     ]
    }
   ],
   "source": [
    "b = np.matrix(\"1 2, 3,9;4 5 6,9 ; 7 8 9 9\")\n",
    "print(b)\n",
    "print(\"Matrisimizin 1. ve 3. satırlarının, 2. ve 4. sütunları\")\n",
    "print(b[0:4:2,1:4:2])"
   ]
  },
  {
   "cell_type": "markdown",
   "metadata": {},
   "source": [
    "**Transpozesini (_devriğini_) almak:** 'T' metodu bu iş içindir:"
   ]
  },
  {
   "cell_type": "code",
   "execution_count": 6,
   "metadata": {
    "scrolled": false
   },
   "outputs": [
    {
     "name": "stdout",
     "output_type": "stream",
     "text": [
      "[[1 4 7]\n",
      " [2 5 8]\n",
      " [3 6 9]]\n"
     ]
    }
   ],
   "source": [
    "a = np.matrix(\"1 2, 3;4 5 6 ; 7 8 9\")\n",
    "print(a.T)"
   ]
  },
  {
   "cell_type": "markdown",
   "metadata": {},
   "source": [
    "Aynı işi uzun uzadıya `transpose()` fonksiyonu ile de yapabiliriz:"
   ]
  },
  {
   "cell_type": "code",
   "execution_count": 7,
   "metadata": {},
   "outputs": [
    {
     "name": "stdout",
     "output_type": "stream",
     "text": [
      "[[1 4 7]\n",
      " [2 5 8]\n",
      " [3 6 9]]\n"
     ]
    }
   ],
   "source": [
    "a = np.matrix(\"1 2, 3;4 5 6 ; 7 8 9\")\n",
    "print(np.transpose(a))"
   ]
  },
  {
   "cell_type": "markdown",
   "metadata": {},
   "source": [
    "Fonksiyon NumPy kütüphanesinde tanımlı olduğundan, çağırırken 'np' isim alanı (_namespace_) ile `np.transpose()` şeklinde çağırdığımıza dikkat edin.\n",
    "\n",
    "(Matrisin kompleks eşlenik transpozesini almak içinse 'H' metodu kullanılır)"
   ]
  },
  {
   "cell_type": "markdown",
   "metadata": {},
   "source": [
    "**Tersini (_inverse_) almak: 'I' metodu kullanılır:**"
   ]
  },
  {
   "cell_type": "code",
   "execution_count": 8,
   "metadata": {},
   "outputs": [
    {
     "name": "stdout",
     "output_type": "stream",
     "text": [
      "[[ 0.   1.   0. ]\n",
      " [ 0.5  1.  -0.5]\n",
      " [-0.  -2.   1. ]]\n"
     ]
    }
   ],
   "source": [
    "a = np.matrix(\"0 2 1;1 0 0;2, 0 1\")\n",
    "print(a.I)"
   ]
  },
  {
   "cell_type": "markdown",
   "metadata": {},
   "source": [
    "**Matrislerin birbirleri ile toplanması ve çarpılması**  \n",
    "İki matris (boyutları uyumlu olduğu sürece) birbirleri ile toplanabilir, çarpılabilir (bir matrisin üssü de alınabilir)."
   ]
  },
  {
   "cell_type": "markdown",
   "metadata": {},
   "source": [
    "* **Toplama işlemi:**"
   ]
  },
  {
   "cell_type": "code",
   "execution_count": 9,
   "metadata": {},
   "outputs": [
    {
     "name": "stdout",
     "output_type": "stream",
     "text": [
      "a matrisi:\n",
      " [[1 2 3]\n",
      " [4 5 6]\n",
      " [7 8 9]]\n",
      "b matrisi:\n",
      " [[9 1 2]\n",
      " [3 2 5]\n",
      " [1 2 0]]\n",
      "---------\n",
      "a+b matrisi:\n",
      " [[10  3  5]\n",
      " [ 7  7 11]\n",
      " [ 8 10  9]]\n"
     ]
    }
   ],
   "source": [
    "a = np.matrix(\"1 2, 3;4 5 6 ; 7 8 9\")\n",
    "b = np.matrix(\"9 1 2; 3 2 5;1 2 0\")\n",
    "print(\"a matrisi:\\n\",a)\n",
    "print(\"b matrisi:\\n\",b)\n",
    "print(\"---------\")\n",
    "print(\"a+b matrisi:\\n\",a+b)"
   ]
  },
  {
   "cell_type": "markdown",
   "metadata": {},
   "source": [
    "* **Çarpma işlemi:**"
   ]
  },
  {
   "cell_type": "code",
   "execution_count": 10,
   "metadata": {},
   "outputs": [
    {
     "name": "stdout",
     "output_type": "stream",
     "text": [
      "a matrisi:\n",
      " [[1 2 3]\n",
      " [4 5 6]]\n",
      "b matrisi:\n",
      " [[9 1]\n",
      " [3 2]\n",
      " [1 2]]\n",
      "---------\n",
      "a*b matrisi:\n",
      " [[18 11]\n",
      " [57 26]]\n"
     ]
    }
   ],
   "source": [
    "a = np.matrix(\"1 2, 3;4 5 6\")\n",
    "b = np.matrix(\"9 1; 3 2;1 2\")\n",
    "print(\"a matrisi:\\n\",a)\n",
    "print(\"b matrisi:\\n\",b)\n",
    "print(\"---------\")\n",
    "print(\"a*b matrisi:\\n\",a*b)"
   ]
  },
  {
   "cell_type": "markdown",
   "metadata": {},
   "source": [
    "* **Matrisin üssünü alma:**"
   ]
  },
  {
   "cell_type": "code",
   "execution_count": 11,
   "metadata": {},
   "outputs": [
    {
     "name": "stdout",
     "output_type": "stream",
     "text": [
      "a matrisi:\n",
      " [[1 2]\n",
      " [3 4]]\n",
      "a^2 matrisi:\n",
      " [[ 7 10]\n",
      " [15 22]]\n",
      "a^3 matrisi:\n",
      " [[ 37  54]\n",
      " [ 81 118]]\n"
     ]
    }
   ],
   "source": [
    "a = np.matrix(\"1 2;3 4\")\n",
    "print(\"a matrisi:\\n\",a)\n",
    "print(\"a^2 matrisi:\\n\",a**2)\n",
    "print(\"a^3 matrisi:\\n\",a**3)"
   ]
  },
  {
   "cell_type": "markdown",
   "metadata": {},
   "source": [
    "(Sadece tam sayı üsler alınabilir -- örneğin matrisin kökünü hesaplamak için 0.5 üssünü kullanamayız -- biraz sabır, bu sorunun da üstesinden geleceğiz! 8)"
   ]
  },
  {
   "cell_type": "markdown",
   "metadata": {},
   "source": [
    "**Matrisin 'şeklini değiştirme':**  \n",
    "Elimizde 3x4'lük bir matris olsun. Bu matrisin düzenini değiştirip, onu 6x2'lik bir matrise dönüştürmek istiyoruz. Bu durumda `shape()` metotu yardımımıza koşar:"
   ]
  },
  {
   "cell_type": "code",
   "execution_count": 12,
   "metadata": {},
   "outputs": [
    {
     "name": "stdout",
     "output_type": "stream",
     "text": [
      "[[ 1  2  3  4]\n",
      " [ 5  6  7  8]\n",
      " [ 9 10 11 12]]\n",
      "3 x 4 dağılımlı bir matristir.\n",
      "-------------\n",
      "[[ 1  2]\n",
      " [ 3  4]\n",
      " [ 5  6]\n",
      " [ 7  8]\n",
      " [ 9 10]\n",
      " [11 12]]\n",
      "6 x 2 dağılımlı bir matristir.\n"
     ]
    }
   ],
   "source": [
    "a = np.matrix(\"1,2,3,4;5,6,7,8;9,10,11,12\")\n",
    "print(a)\n",
    "kaca_kac = a.shape\n",
    "print(kaca_kac[0],\"x\",kaca_kac[1],\"dağılımlı bir matristir.\")\n",
    "print(\"-------------\")\n",
    "b = a.reshape(6,2)\n",
    "print(b)\n",
    "kaca_kac = b.shape\n",
    "print(kaca_kac[0],\"x\",kaca_kac[1],\"dağılımlı bir matristir.\")"
   ]
  },
  {
   "cell_type": "markdown",
   "metadata": {},
   "source": [
    "Bazen de matrisimizi tamamıyla _düzleştirmek_ yani onu 1 boyutlu bir matrise indirmek ihtiyacını duyarız. Bu durumda `flat` metotunu kullanırız:"
   ]
  },
  {
   "cell_type": "code",
   "execution_count": 13,
   "metadata": {},
   "outputs": [
    {
     "name": "stdout",
     "output_type": "stream",
     "text": [
      "[[ 1  2  3  4]\n",
      " [ 5  6  7  8]\n",
      " [ 9 10 11 12]]\n",
      "3 x 4 dağılımlı bir matristir.\n",
      "-------------\n",
      "[[ 1  2  3  4  5  6  7  8  9 10 11 12]]\n",
      "1 x 12 dağılımlı bir matristir.\n"
     ]
    }
   ],
   "source": [
    "a = np.matrix(\"1,2,3,4;5,6,7,8;9,10,11,12\")\n",
    "print(a)\n",
    "kaca_kac = a.shape\n",
    "print(kaca_kac[0],\"x\",kaca_kac[1],\"dağılımlı bir matristir.\")\n",
    "print(\"-------------\")\n",
    "b = np.matrix(a.flat)\n",
    "print(b)\n",
    "kaca_kac = b.shape\n",
    "print(kaca_kac[0],\"x\",kaca_kac[1],\"dağılımlı bir matristir.\")"
   ]
  },
  {
   "cell_type": "markdown",
   "metadata": {},
   "source": [
    "`flat` metotu diğer metotların aksine bir `matrix` nesnesi değil, daha özel bir nesne (`flatiter`) döndürür (`matrix` nesnesi olmadığından ötürü de `matrix` nesnesinin sahip olduğu metotlara (örn. `shape`) sahip değildir). Bu nedenle yeni b matrisini tanımlarken `b = np.matrix(a.flat)` şeklinde, `flat`in sonucunu tekrardan `matrix` olarak atamaktayız.\n",
    "\n",
    "Herhangi bir nesnenin cinsini `type()` fonksiyonu ile öğrenebiliriz:"
   ]
  },
  {
   "cell_type": "code",
   "execution_count": 14,
   "metadata": {},
   "outputs": [
    {
     "name": "stdout",
     "output_type": "stream",
     "text": [
      "a'nın cinsi: <class 'numpy.matrix'>\n",
      "'a.flat'ın cinsi: <class 'numpy.flatiter'>\n",
      "b'nin cinsi: <class 'numpy.matrix'>\n"
     ]
    }
   ],
   "source": [
    "a = np.matrix(\"1,2,3,4;5,6,7,8;9,10,11,12\")\n",
    "print(\"a'nın cinsi:\",type(a))\n",
    "print(\"'a.flat'ın cinsi:\",type(a.flat))\n",
    "b = np.matrix(a.flat)\n",
    "print(\"b'nin cinsi:\",type(b))"
   ]
  },
  {
   "cell_type": "markdown",
   "metadata": {},
   "source": [
    "## Yolun Sonu\n",
    "\n",
    "NumPy'ın `matrix` nesnesi çok başta, dil ilk kurulurken çalışmalara hız kazandırsın diye oluşturulmuş bir nesne idi: sonrasında yeterli gelmediği için, daha gelişmiş olan _NumPy dizileri_ geliştirildi (bir sonraki dersimizin konusu).\n",
    "\n",
    "Bu yetersizliği anlamak için, 1 boyutlu bir `matrix` nesnesi tanımlayalım:"
   ]
  },
  {
   "cell_type": "code",
   "execution_count": 15,
   "metadata": {},
   "outputs": [
    {
     "name": "stdout",
     "output_type": "stream",
     "text": [
      "1 boyutlu matrisimiz:\n",
      " [[1 2 3]]\n"
     ]
    }
   ],
   "source": [
    "a1 = np.matrix([1,2,3])\n",
    "print(\"1 boyutlu matrisimiz:\\n\",a1)"
   ]
  },
  {
   "cell_type": "markdown",
   "metadata": {},
   "source": [
    "buraya kadar bir sıkıntı yok. \n",
    "\n",
    "Şimdi de 2 boyutlu bir `matrix` nesnesi tanımlayalım:"
   ]
  },
  {
   "cell_type": "code",
   "execution_count": 16,
   "metadata": {},
   "outputs": [
    {
     "name": "stdout",
     "output_type": "stream",
     "text": [
      "2 boyutlu matrisimiz:\n",
      " [[1 2 3]\n",
      " [4 5 6]]\n",
      "2 boyutlu matrisimiz:\n",
      " [[1 2 3]\n",
      " [4 5 6]]\n"
     ]
    }
   ],
   "source": [
    "a2 = np.matrix(\"[1,2,3;4,5,6]\")\n",
    "print(\"2 boyutlu matrisimiz:\\n\",a2)\n",
    "\n",
    "# veya, alternatif olarak:\n",
    "a2_2 = np.matrix([[1,2,3],[4,5,6]])\n",
    "print(\"2 boyutlu matrisimiz:\\n\",a2_2)\n"
   ]
  },
  {
   "cell_type": "markdown",
   "metadata": {},
   "source": [
    "Hâlâ iyi gidiyoruz. \n",
    "\n",
    "Daha da yüksek boyuta çıkalım:"
   ]
  },
  {
   "cell_type": "code",
   "execution_count": 17,
   "metadata": {},
   "outputs": [
    {
     "ename": "ValueError",
     "evalue": "matrix must be 2-dimensional",
     "output_type": "error",
     "traceback": [
      "\u001b[0;31m---------------------------------------------------------------------------\u001b[0m",
      "\u001b[0;31mValueError\u001b[0m                                Traceback (most recent call last)",
      "\u001b[0;32m<ipython-input-17-9c82791b4b4c>\u001b[0m in \u001b[0;36m<module>\u001b[0;34m\u001b[0m\n\u001b[0;32m----> 1\u001b[0;31m \u001b[0ma3\u001b[0m \u001b[0;34m=\u001b[0m \u001b[0mnp\u001b[0m\u001b[0;34m.\u001b[0m\u001b[0mmatrix\u001b[0m\u001b[0;34m(\u001b[0m\u001b[0;34m[\u001b[0m\u001b[0;34m[\u001b[0m\u001b[0;34m[\u001b[0m\u001b[0;36m1\u001b[0m\u001b[0;34m,\u001b[0m\u001b[0;36m2\u001b[0m\u001b[0;34m,\u001b[0m\u001b[0;36m3\u001b[0m\u001b[0;34m]\u001b[0m\u001b[0;34m,\u001b[0m\u001b[0;34m[\u001b[0m\u001b[0;36m4\u001b[0m\u001b[0;34m,\u001b[0m\u001b[0;36m5\u001b[0m\u001b[0;34m,\u001b[0m\u001b[0;36m6\u001b[0m\u001b[0;34m]\u001b[0m\u001b[0;34m]\u001b[0m\u001b[0;34m,\u001b[0m\u001b[0;34m[\u001b[0m\u001b[0;34m[\u001b[0m\u001b[0;36m1\u001b[0m\u001b[0;34m,\u001b[0m\u001b[0;36m2\u001b[0m\u001b[0;34m,\u001b[0m\u001b[0;36m3\u001b[0m\u001b[0;34m]\u001b[0m\u001b[0;34m,\u001b[0m\u001b[0;34m[\u001b[0m\u001b[0;36m4\u001b[0m\u001b[0;34m,\u001b[0m\u001b[0;36m5\u001b[0m\u001b[0;34m,\u001b[0m\u001b[0;36m6\u001b[0m\u001b[0;34m]\u001b[0m\u001b[0;34m]\u001b[0m\u001b[0;34m]\u001b[0m\u001b[0;34m)\u001b[0m\u001b[0;34m\u001b[0m\u001b[0;34m\u001b[0m\u001b[0m\n\u001b[0m",
      "\u001b[0;32m~/anaconda3/lib/python3.8/site-packages/numpy/matrixlib/defmatrix.py\u001b[0m in \u001b[0;36m__new__\u001b[0;34m(subtype, data, dtype, copy)\u001b[0m\n\u001b[1;32m    147\u001b[0m         \u001b[0mshape\u001b[0m \u001b[0;34m=\u001b[0m \u001b[0marr\u001b[0m\u001b[0;34m.\u001b[0m\u001b[0mshape\u001b[0m\u001b[0;34m\u001b[0m\u001b[0;34m\u001b[0m\u001b[0m\n\u001b[1;32m    148\u001b[0m         \u001b[0;32mif\u001b[0m \u001b[0;34m(\u001b[0m\u001b[0mndim\u001b[0m \u001b[0;34m>\u001b[0m \u001b[0;36m2\u001b[0m\u001b[0;34m)\u001b[0m\u001b[0;34m:\u001b[0m\u001b[0;34m\u001b[0m\u001b[0;34m\u001b[0m\u001b[0m\n\u001b[0;32m--> 149\u001b[0;31m             \u001b[0;32mraise\u001b[0m \u001b[0mValueError\u001b[0m\u001b[0;34m(\u001b[0m\u001b[0;34m\"matrix must be 2-dimensional\"\u001b[0m\u001b[0;34m)\u001b[0m\u001b[0;34m\u001b[0m\u001b[0;34m\u001b[0m\u001b[0m\n\u001b[0m\u001b[1;32m    150\u001b[0m         \u001b[0;32melif\u001b[0m \u001b[0mndim\u001b[0m \u001b[0;34m==\u001b[0m \u001b[0;36m0\u001b[0m\u001b[0;34m:\u001b[0m\u001b[0;34m\u001b[0m\u001b[0;34m\u001b[0m\u001b[0m\n\u001b[1;32m    151\u001b[0m             \u001b[0mshape\u001b[0m \u001b[0;34m=\u001b[0m \u001b[0;34m(\u001b[0m\u001b[0;36m1\u001b[0m\u001b[0;34m,\u001b[0m \u001b[0;36m1\u001b[0m\u001b[0;34m)\u001b[0m\u001b[0;34m\u001b[0m\u001b[0;34m\u001b[0m\u001b[0m\n",
      "\u001b[0;31mValueError\u001b[0m: matrix must be 2-dimensional"
     ]
    }
   ],
   "source": [
    "a3 = np.matrix([[[1,2,3],[4,5,6]],[[1,2,3],[4,5,6]]])"
   ]
  },
  {
   "cell_type": "markdown",
   "metadata": {},
   "source": [
    "Hata mesajına (\"ValueError: matrix must be 2-dimensional\"), hatta daha da açık olarak, orijinal tanımın içine yerleştirilmiş kontrol mekanizmasına (\"if (ndim > 2):\") bakacak olursanız, `matrix` nesnelerinin en fazla 2 boyutlu olabileceğini, daha yüksek boyutlara izin verilmediğini göreceksiniz."
   ]
  },
  {
   "cell_type": "markdown",
   "metadata": {},
   "source": [
    "Daha da dramatik olarak, [bizzat resmi NumPy matrix nesnesinin dökümanında](https://docs.scipy.org/doc/numpy/reference/generated/numpy.matrix.html) kullanıcı bu nesneye karşı uyarılmakta:"
   ]
  },
  {
   "cell_type": "markdown",
   "metadata": {},
   "source": [
    "**Note:** \n",
    "\n",
    "It is no longer recommended to use this class, even for linear algebra. Instead use regular arrays. The class may be removed in the future.\n",
    "\n",
    "_(Bu nesnenin lineer cebirde dahi kullanılması artık tavsiye edilmemektedir. Bunun yerine normal dizileri kullanın. Bu nesne gelecekte kaldırılabilir.)_"
   ]
  },
  {
   "cell_type": "markdown",
   "metadata": {},
   "source": [
    "## Kurtuluş: NumPy dizileri\n",
    "Biz ne yapacağız? Tavsiyeyi dinleyip, çok daha esnek ve daha geniş desteklenen NumPy dizilerini kullanacağız (bkz. bir sonraki ders). Elimizdeki bir `matrix` nesnesini doğrudan ve kolaylıkla NumPy dizisine çevirmek için 'A' metotu tanımlıdır:"
   ]
  },
  {
   "cell_type": "code",
   "execution_count": 18,
   "metadata": {},
   "outputs": [
    {
     "name": "stdout",
     "output_type": "stream",
     "text": [
      "[[ 1  2  3  4]\n",
      " [ 5  6  7  8]\n",
      " [ 9 10 11 12]]\n",
      "a nesnesinin cinsi: <class 'numpy.matrix'>\n",
      "------------\n",
      "[[ 1  2  3  4]\n",
      " [ 5  6  7  8]\n",
      " [ 9 10 11 12]]\n",
      "b nesnesinin cinsi: <class 'numpy.ndarray'>\n"
     ]
    }
   ],
   "source": [
    "a = np.matrix(\"1,2,3,4;5,6,7,8;9,10,11,12\")\n",
    "print(a)\n",
    "print(\"a nesnesinin cinsi:\",type(a))\n",
    "print(\"------------\")\n",
    "b = a.A\n",
    "print(b)\n",
    "print(\"b nesnesinin cinsi:\",type(b))"
   ]
  },
  {
   "cell_type": "markdown",
   "metadata": {},
   "source": [
    "Paniğe mahal yok: şimdiye kadar gördüğümüz pek çok `matrix` metodu NumPy dizilerinde de geçerlidir (olmayanlar da numpy.linalg kütüphanesi ile gelecek -- bir sonraki derste 8)"
   ]
  },
  {
   "cell_type": "code",
   "execution_count": 19,
   "metadata": {},
   "outputs": [
    {
     "name": "stdout",
     "output_type": "stream",
     "text": [
      "a matrisinden cevirdigimiz b dizisi:\n",
      " [[ 1  2  3  4]\n",
      " [ 5  6  7  8]\n",
      " [ 9 10 11 12]]\n",
      "2. satirin, 3. elemani: 7\n",
      "Cinsi: <class 'numpy.ndarray'>\n",
      "Boyut sayisi: 2\n",
      "Eleman sayisi: 12 \n",
      "------------\n",
      "Kaca kaclik: ( 3 x 4 )\n",
      "Transpozesi:\n",
      " [[ 1  5  9]\n",
      " [ 2  6 10]\n",
      " [ 3  7 11]\n",
      " [ 4  8 12]] \n",
      "------------\n",
      "Toplama islemi\n",
      " [[ 2  4  6  8]\n",
      " [10 12 14 16]\n",
      " [18 20 22 24]] \n",
      "------------\n",
      "Carpma islemi\n",
      " [[  1   4   9  16]\n",
      " [ 25  36  49  64]\n",
      " [ 81 100 121 144]] \n",
      "------------\n",
      "Us alma islemi\n",
      " [[  1   4   9  16]\n",
      " [ 25  36  49  64]\n",
      " [ 81 100 121 144]] \n",
      "------------\n",
      "Artik kok alma gibi tam sayi olmayan usler de desteklenmekte:\n",
      "Koku\n",
      " [[1.         1.41421356 1.73205081 2.        ]\n",
      " [2.23606798 2.44948974 2.64575131 2.82842712]\n",
      " [3.         3.16227766 3.31662479 3.46410162]] \n",
      "------------\n"
     ]
    }
   ],
   "source": [
    "a = np.matrix(\"1,2,3,4;5,6,7,8;9,10,11,12\")\n",
    "b = a.A\n",
    "print(\"a matrisinden cevirdigimiz b dizisi:\\n\",b)\n",
    "print(\"2. satirin, 3. elemani:\",b[1,2])\n",
    "print(\"Cinsi:\",type(b))\n",
    "print(\"Boyut sayisi:\",b.ndim)\n",
    "print(\"Eleman sayisi:\",b.size,\"\\n------------\")\n",
    "kaca_kac = b.shape\n",
    "print(\"Kaca kaclik: (\",kaca_kac[0],\"x\",kaca_kac[1],\")\")\n",
    "print(\"Transpozesi:\\n\",b.T,\"\\n------------\")\n",
    "print(\"Toplama islemi\\n\",b+b,\"\\n------------\")\n",
    "print(\"Carpma islemi\\n\",b*b,\"\\n------------\")\n",
    "print(\"Us alma islemi\\n\",b**2,\"\\n------------\")\n",
    "print(\"Artik kok alma gibi tam sayi olmayan usler de desteklenmekte:\")\n",
    "print(\"Koku\\n\",b**(0.5),\"\\n------------\")"
   ]
  },
  {
   "cell_type": "markdown",
   "metadata": {},
   "source": [
    "## Aklınızdaki \"o soru\"##\n",
    "**_Madem ileride `matrix` nesnesini kullanmayıp dizileri (`ndarray`) kullanacaktık, ne demeye bu kadar şeyi gördük?_** \n",
    "\n",
    "Programlama dillerinde dizi kavramı çok geniş bir kavram. Baştan o kapıdan geçseydik, \"dizi... dizi...\" dedikçe kafanız karışacaktı (çünkü NumPy'da dizi dediğimiz şey pratikte matrisin ta kendisi). Kaldı ki -bir sonraki derste göreceğimiz üzere- dizi tanımında bizim Octave'dan alışageldiğimiz ve matrislerde kullandığımız satır/sütun - noktalı virgül/virgül tanımına izin verilmemekte. Bu nedenle yumuşak bir geçiş olsun istedim. 'A' metotu yardımıyla hiçbir kayıp vermeden elimizdeki matrisleri hop diye diziye çevirebildiğimiz için, bu dersi dizilere bir giriş olarak ele aldık."
   ]
  },
  {
   "cell_type": "markdown",
   "metadata": {},
   "source": [
    "### -Çok düşük ihtimalle de olsa- aklınızda olabilecek bir başka soru:\n",
    "**Hocam, \"nesne... nesne...\" (_object... object... ;) deyip duruyorsunuz, ama sonra `type()` fonksiyonu ile cinsini sorduğumuzda bize \"bir şey bir şey sınıfı (class)\" diye yanıt geliyor. Nesne ile sınıf arasındaki fark nedir?**\n",
    "\n",
    "(Öncelikle bu güzel soruyu sorduğunuz için teşekkür ederim... <kem küm...> 8) Sınıf dediğimiz şey, nesnenin ait olduğu yapıdır: nesne ise, bu yapıdan tanımladığımız bir elemandır, projeksiyon/anlık-gerçeklemedir (_instance_). Örneğin \"araba\" bir sınıftır: siz programınızda (hayatınızda) kullanmak üzere kendinize bu sınıftan bir eleman çektiğinizde (bir anlık-gerçekleme yaptığınızda) \"Volkswagen\", \"Anadol\", \"Renault\" gibi adı konulmuş bir nesne oluşturmuş olursunuz. Kafanız karıştıysa boşverin, teknik ve semantik bir ayrım var. Özetle: Sınıflar soyut (_abstract_) tanımlardır (üzerine binip bir yere gidemezsiniz), nesneler ise bu tanımlar doğrultusunda oluşturduğunuz, elle tutulur, üzerlerinde işlemler yapıp değerler atayabileceğiniz elemanlardır. Bu nedenle bir nesnenin cinsini sorduğumuzda cevap olarak onun sınıfı verilmektedir."
   ]
  },
  {
   "cell_type": "code",
   "execution_count": null,
   "metadata": {},
   "outputs": [],
   "source": []
  }
 ],
 "metadata": {
  "kernelspec": {
   "display_name": "Python 3",
   "language": "python",
   "name": "python3"
  },
  "language_info": {
   "codemirror_mode": {
    "name": "ipython",
    "version": 3
   },
   "file_extension": ".py",
   "mimetype": "text/x-python",
   "name": "python",
   "nbconvert_exporter": "python",
   "pygments_lexer": "ipython3",
   "version": "3.8.5"
  }
 },
 "nbformat": 4,
 "nbformat_minor": 2
}
