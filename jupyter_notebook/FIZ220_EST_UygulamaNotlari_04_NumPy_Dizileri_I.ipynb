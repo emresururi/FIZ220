{
 "cells": [
  {
   "cell_type": "markdown",
   "metadata": {},
   "source": [
    "# Uygulama Notları: 4\n",
    "## FİZ220 - Bilgisayar Programlama II | 01/04/2020\n",
    "\n",
    "**Matrisler I (NumPy Dizi (_numpy.ndarray_) Nesneleri)**\n",
    "\n",
    "NumPy'ın N-boyutlu Dizileri (ndarray)\n",
    "* Tanımlama\n",
    "* Matris Elemanlarına Erişim ve Değiştirme\n",
    "  * Bölgesel erişim\n",
    "  * Matris Elemanlarını Değiştirmek\n",
    "* Matrise Eleman Ekleme\n",
    "  * Sihirbazlık: Değişkenleri kopyalamak ('copy')\n",
    "  * append\n",
    "  * insert\n",
    "  * concatenate\n",
    "* Matristen Eleman Silme\n",
    "* Gelecek program...\n",
    "\n",
    "Dr. Emre S. Taşcı, emre.tasci@hacettepe.edu.tr  \n",
    "Fizik Mühendisliği Bölümü  \n",
    "Hacettepe Üniversitesi"
   ]
  },
  {
   "cell_type": "markdown",
   "metadata": {},
   "source": [
    "## NumPy'ın N-boyutlu Dizileri (ndarray)\n",
    "Bu dersimizde bundan böyle epey bir zaman kullanacağımız etkili ve hızlı NumPy dizilerini göreceğiz. Aslında teknik olarak _dizi_ dense de, bizim temel kullanım amacımız matrisler şeklinde olacak."
   ]
  },
  {
   "cell_type": "markdown",
   "metadata": {},
   "source": [
    "### Tanımlama\n",
    "Bir NumPy dizisini, cinsiyle (yani \"np.ndarray\"), boş veya ilk değerli olarak tanımlarız. Python dizileri ile benzer olarak, bir liste bir kez oluşturulduktan sonra eleman ekleme/çıkarma yaparken aslında -çok da çaktırmadan- yerine yeni bir liste oluşturulur.\n",
    "\n",
    "Tanımlama için normal dizilerdeki gibi köşeli parantezler kullanırız:"
   ]
  },
  {
   "cell_type": "code",
   "execution_count": 1,
   "metadata": {},
   "outputs": [
    {
     "name": "stdout",
     "output_type": "stream",
     "text": [
      "[0 1 2 3 4]\n"
     ]
    }
   ],
   "source": [
    "import numpy as np\n",
    "mat1 = np.array([0,1,2,3,4])\n",
    "print(mat1)"
   ]
  },
  {
   "cell_type": "markdown",
   "metadata": {},
   "source": [
    "İki boyutlu bir matrisi iç içe geçmiş köşeli parantezler içinde (satır gruplu olarak) belirtiyoruz:"
   ]
  },
  {
   "cell_type": "code",
   "execution_count": 2,
   "metadata": {},
   "outputs": [
    {
     "name": "stdout",
     "output_type": "stream",
     "text": [
      "[[0 1 2]\n",
      " [3 4 5]]\n"
     ]
    }
   ],
   "source": [
    "mat2 = np.array([[0,1,2],[3,4,5]])\n",
    "print(mat2)"
   ]
  },
  {
   "cell_type": "markdown",
   "metadata": {},
   "source": [
    "Peki ya üç boyutlu bir matrisi?... (Siz düşünün cevabı sonra 8)"
   ]
  },
  {
   "cell_type": "markdown",
   "metadata": {},
   "source": [
    "### Matris Elemanlarına Erişim ve Değiştirme\n",
    "Matrisimizin elemanlarına tıpkı normal dizilerde veya matrix nesnelerinde olduğu gibi köşeli parantezlerle erişebiliriz. Yalnız, onlardan farklı olarak, birden yüksek boyutlu olan matrislerin -tek bir elemana dair(!)- çoklu indislerini belirtirken, hepsini aynı köşeli parantezlerde yazabileceğimiz gibi, ayrı köşeli parantezlerde de belirtebiliriz (fakat ileride bahsedileceği üzere, özellikle çoklu seçimlerde ayrı köşeli parantezlerin bambaşka bir anlamı olduğundan, mümkün mertebe aynı parantezler içindeki notasyonu kullanın)."
   ]
  },
  {
   "cell_type": "code",
   "execution_count": 3,
   "metadata": {
    "scrolled": true
   },
   "outputs": [
    {
     "name": "stdout",
     "output_type": "stream",
     "text": [
      "Matrisimiz mat2:\n",
      " [[0 1 2]\n",
      " [3 4 5]]\n",
      "---------\n",
      "Matrisimizin sağ alttaki elemanı: mat2[1,2] =  5\n",
      "Aynı elemanı bir de mat2[1][2] ile çağıralım:  5\n"
     ]
    }
   ],
   "source": [
    "import numpy as np\n",
    "\n",
    "mat2 = np.array([[0,1,2],[3,4,5]])\n",
    "print(\"Matrisimiz mat2:\\n\",mat2)\n",
    "print(\"---------\")\n",
    "print(\"Matrisimizin sağ alttaki elemanı: mat2[1,2] = \",mat2[1,2])\n",
    "print(\"Aynı elemanı bir de mat2[1][2] ile çağıralım: \",mat2[1][2])"
   ]
  },
  {
   "cell_type": "markdown",
   "metadata": {},
   "source": [
    "#### Bölgesel erişim\n",
    "Matrisimizin elemanlarına 'bölgesel' (yani, aralık belirterek) de erişebiliriz: bunun için \":\" aralık operatörünü kullanabiliriz (aralık operatörünün kullanımı ve özelliklerine dair detaylı bilgiyi 2. kısım olan Listeler'in \"Liste elemanlarına ulaşma\" bölümünde bulabilirsiniz):"
   ]
  },
  {
   "cell_type": "code",
   "execution_count": 4,
   "metadata": {},
   "outputs": [
    {
     "name": "stdout",
     "output_type": "stream",
     "text": [
      "[[0 1 2]\n",
      " [3 4 5]\n",
      " [6 7 8]]\n",
      "[[4 5]\n",
      " [7 8]]\n"
     ]
    }
   ],
   "source": [
    "import numpy as np\n",
    "\n",
    "mat2 = np.array([[0,1,2],[3,4,5],[6,7,8]])\n",
    "print(mat2)\n",
    "print(mat2[1:3,1:3])"
   ]
  },
  {
   "cell_type": "markdown",
   "metadata": {},
   "source": [
    "Eğer çağrı aralığımız bir sütun vektörü döndürüyorsa, Python bunu satır vektörü olarak sunacaktır:"
   ]
  },
  {
   "cell_type": "code",
   "execution_count": 5,
   "metadata": {},
   "outputs": [
    {
     "name": "stdout",
     "output_type": "stream",
     "text": [
      "[[0 1 2]\n",
      " [3 4 5]\n",
      " [6 7 8]]\n",
      "[2 5 8]\n",
      "[[1 2]\n",
      " [4 5]\n",
      " [7 8]]\n"
     ]
    }
   ],
   "source": [
    "mat2 = np.array([[0,1,2],[3,4,5],[6,7,8]])\n",
    "print(mat2)\n",
    "\n",
    "# Butun satirlarin son sutunu\n",
    "mat2_son_sutun = mat2[:,2]\n",
    "print(mat2_son_sutun) \n",
    "\n",
    "# Butun satirlarin son iki sutunu\n",
    "mat2_son_2sutun = mat2[:,1:3]\n",
    "print(mat2_son_2sutun) "
   ]
  },
  {
   "cell_type": "markdown",
   "metadata": {},
   "source": [
    "Bu (tek sütunlu vektörlerin satır vektörü olarak dönmesi) çok büyük bir sorun değil, çaresini şimdi verelim, detayını ileride göreceğiz: `reshape()` metodu:"
   ]
  },
  {
   "cell_type": "code",
   "execution_count": 6,
   "metadata": {},
   "outputs": [
    {
     "name": "stdout",
     "output_type": "stream",
     "text": [
      "[[0 1 2]\n",
      " [3 4 5]\n",
      " [6 7 8]]\n",
      "[2 5 8]\n",
      "\n",
      "Sihirli 'reshape' çekelim:\n",
      " [[2]\n",
      " [5]\n",
      " [8]]\n"
     ]
    }
   ],
   "source": [
    "mat2 = np.array([[0,1,2],[3,4,5],[6,7,8]])\n",
    "print(mat2)\n",
    "\n",
    "# Butun satirlarin son sutunu\n",
    "mat2_son_sutun = mat2[:,2]\n",
    "print(mat2_son_sutun) \n",
    "\n",
    "print(\"\\nSihirli 'reshape' çekelim:\\n\",mat2_son_sutun.reshape(-1,1))"
   ]
  },
  {
   "cell_type": "markdown",
   "metadata": {},
   "source": [
    "Dizilerin aksine, bir blok olmayan (yani aralarında boşluk olan) bölgelerden de elemanlara erişebiliriz. Örneğin, `mat2` matrisimizin ilk ve son sütunlarını alalım:"
   ]
  },
  {
   "cell_type": "code",
   "execution_count": 7,
   "metadata": {},
   "outputs": [
    {
     "name": "stdout",
     "output_type": "stream",
     "text": [
      "[[0 1 2]\n",
      " [3 4 5]\n",
      " [6 7 8]]\n",
      "\n",
      "İlk (0.) ve son (2.) sütunlar:\n",
      "[[0 2]\n",
      " [3 5]\n",
      " [6 8]]\n"
     ]
    }
   ],
   "source": [
    "mat2 = np.array([[0,1,2],[3,4,5],[6,7,8]])\n",
    "print(mat2)\n",
    "\n",
    "print(\"\\nİlk (0.) ve son (2.) sütunlar:\")\n",
    "mat2_ilk_ve_son_sutunlar = mat2[:,[0,2]]\n",
    "print(mat2_ilk_ve_son_sutunlar) "
   ]
  },
  {
   "cell_type": "markdown",
   "metadata": {},
   "source": [
    "İndis belirtirken, başlangıç için nasıl 0 kullanıyorsak, sonuncu için de `end` veya `-1` kullanabiliriz; benzer şekilde `-2` \"sondan ikinci\", `-3` \"sondan üçüncü\", vs.. olarak işlenir. Uygulama olarak $(3\\times5)$'lik bir matrisin sondan 2. ve 3. sütunlarına erişelim:"
   ]
  },
  {
   "cell_type": "code",
   "execution_count": 8,
   "metadata": {},
   "outputs": [
    {
     "name": "stdout",
     "output_type": "stream",
     "text": [
      "[[ 0  1  2  3  4]\n",
      " [ 5  6  7  8  9]\n",
      " [10 11 12 13 14]]\n",
      "---------\n",
      "Matrisimizin sondan 2. ve 3. sütunları:\n",
      "[[ 3  2]\n",
      " [ 8  7]\n",
      " [13 12]]\n"
     ]
    }
   ],
   "source": [
    "mat_3x5 = np.arange(0,15).reshape(3,5)\n",
    "mat_3x5 = np.array([[ 0,  1,  2,  3,  4],\n",
    " [ 5,  6,  7,  8,  9],\n",
    " [10, 11, 12, 13, 14]])\n",
    "print(mat_3x5)\n",
    "print(\"---------\")\n",
    "print(\"Matrisimizin sondan 2. ve 3. sütunları:\")\n",
    "print(mat_3x5[:,[-2,-3]])"
   ]
  },
  {
   "cell_type": "markdown",
   "metadata": {},
   "source": [
    "Aralıkları tersten arttırarak matrisimizin sütunlarının sırasını tersine de çevirebiliriz:"
   ]
  },
  {
   "cell_type": "code",
   "execution_count": 9,
   "metadata": {
    "scrolled": true
   },
   "outputs": [
    {
     "name": "stdout",
     "output_type": "stream",
     "text": [
      "[[ 0  1  2  3  4]\n",
      " [ 5  6  7  8  9]\n",
      " [10 11 12 13 14]]\n",
      "---------\n",
      "Matrisimizin sütunlarının tersten sıralanmış hali:\n",
      "[[ 4  3  2  1  0]\n",
      " [ 9  8  7  6  5]\n",
      " [14 13 12 11 10]]\n"
     ]
    }
   ],
   "source": [
    "mat_3x5 = np.arange(0,15).reshape(3,5)\n",
    "mat_3x5 = np.array([[ 0,  1,  2,  3,  4],\n",
    " [ 5,  6,  7,  8,  9],\n",
    " [10, 11, 12, 13, 14]])\n",
    "print(mat_3x5)\n",
    "print(\"---------\")\n",
    "print(\"Matrisimizin sütunlarının tersten sıralanmış hali:\")\n",
    "print(mat_3x5[:,4::-1])"
   ]
  },
  {
   "cell_type": "markdown",
   "metadata": {},
   "source": [
    "Yukarıdaki örnekte 0. sütun dahil olduğu için aralığımızı `4:0:-1` şeklinde yazamadık çünkü bu (aralık tanımının {başlangıç}:{bitiş (kadar/dahil değil}:{artış miktarı} olmasından ötürü): 4,3,2,1 değerlerini içerir. `0` yerine `-1` koymak başta makul görünse de, -1'in özel bir anlamı var (yukarıda, satır vektörünü sütun vektörüne çevirirken de kullanmıştık, daha sonra kapsamlı olarak değineceğiz), onu da kullanamıyoruz, indislerin tam sayı (ve $\\ge0$ - yani -1 de olmuyor teknik olarak ;) olma zorunluluğundan ötürü `-0.2` gibi bir cinlik de yapamıyoruz. Bu tür durumlarda işi \"oluruna\" yani _boş_ bırakıyoruz: boş bıraktığımızda \"tümü\" ya da biraz daha gevşek bir deyişle \"_gittiği yere kadar..._\" şeklinde bir anlam çıkmakta."
   ]
  },
  {
   "cell_type": "markdown",
   "metadata": {},
   "source": [
    "#### Matris Elemanlarını Değiştirmek\n",
    "Erişebilmeyi öğrendikten sonra, değiştirmek çok kolay. Eriştiğiniz matris elemanları ile aynı boyutta olduktan sonra, istediğiniz gibi değiştirebilirsiniz:"
   ]
  },
  {
   "cell_type": "code",
   "execution_count": 10,
   "metadata": {},
   "outputs": [
    {
     "name": "stdout",
     "output_type": "stream",
     "text": [
      "[[ 0  1  2  3  4]\n",
      " [ 5  6  7  8  9]\n",
      " [10 11 12 13 14]]\n",
      "---------\n",
      "Baştan 2. (indis:1), sondan 2. sütunlar:\n",
      "[[ 1  3]\n",
      " [ 6  8]\n",
      " [11 13]]\n",
      "\n",
      "Bu kısmın değiştirilmiş olduğu hali:\n",
      "[[ 0 11  2 13  4]\n",
      " [ 5 21  7 23  9]\n",
      " [10 31 12 33 14]]\n"
     ]
    }
   ],
   "source": [
    "import numpy as np\n",
    "\n",
    "mat_3x5 = np.arange(0,15).reshape(3,5)\n",
    "mat_3x5 = np.array([[ 0,  1,  2,  3,  4],\n",
    " [ 5,  6,  7,  8,  9],\n",
    " [10, 11, 12, 13, 14]])\n",
    "print(mat_3x5)\n",
    "print(\"---------\")\n",
    "print(\"Baştan 2. (indis:1), sondan 2. sütunlar:\")\n",
    "print(mat_3x5[:,[1,-2]])\n",
    "# Erisebildigimize gore, bunlari degistirelim:\n",
    "# --(3x2)'lik matris olduguna dikkat ederek--\n",
    "mat_3x5[:,[1,-2]] = np.array([[11, 13],[21,23], [31,33]])\n",
    "print(\"\\nBu kısmın değiştirilmiş olduğu hali:\")\n",
    "print(mat_3x5)"
   ]
  },
  {
   "cell_type": "markdown",
   "metadata": {},
   "source": [
    "### Matrise Eleman Ekleme\n",
    "Bir matrisi (NumPy dizisini) oluşturmayı, mevcut olan elemanlara erişip, onları değiştirmeyi gördük. Peki ya yeni bir eleman eklemek istersek? İlk akla gelen şekilde \"olmayanı yoktran tanımlamak\" işe yarar mı? (pek olacak gibi görünmüyor, bir deneyelim bakalım...)"
   ]
  },
  {
   "cell_type": "code",
   "execution_count": 11,
   "metadata": {},
   "outputs": [
    {
     "name": "stdout",
     "output_type": "stream",
     "text": [
      "Matrisimiz:\n",
      " [0 1 2 3 4]\n",
      "Matrisimizin sonuncu elemanı:  4\n",
      "Matrisimiz:\n",
      " [0 1 2 3 9]\n",
      "----------------------\n"
     ]
    },
    {
     "ename": "IndexError",
     "evalue": "index 5 is out of bounds for axis 0 with size 5",
     "output_type": "error",
     "traceback": [
      "\u001b[0;31m---------------------------------------------------------------------------\u001b[0m",
      "\u001b[0;31mIndexError\u001b[0m                                Traceback (most recent call last)",
      "\u001b[0;32m<ipython-input-11-22aef85917ec>\u001b[0m in \u001b[0;36m<module>\u001b[0;34m\u001b[0m\n\u001b[1;32m     14\u001b[0m \u001b[0;34m\u001b[0m\u001b[0m\n\u001b[1;32m     15\u001b[0m \u001b[0;31m# 6. elemani (indisi: 5) tanimlayarak eklemeye calisalim:\u001b[0m\u001b[0;34m\u001b[0m\u001b[0;34m\u001b[0m\u001b[0;34m\u001b[0m\u001b[0m\n\u001b[0;32m---> 16\u001b[0;31m \u001b[0mmatris\u001b[0m\u001b[0;34m[\u001b[0m\u001b[0;36m5\u001b[0m\u001b[0;34m]\u001b[0m \u001b[0;34m=\u001b[0m \u001b[0;36m5\u001b[0m \u001b[0;31m# Bu noktada elimize gecen hata! husran! gozyasi! :~(\u001b[0m\u001b[0;34m\u001b[0m\u001b[0;34m\u001b[0m\u001b[0m\n\u001b[0m\u001b[1;32m     17\u001b[0m \u001b[0mprint\u001b[0m\u001b[0;34m(\u001b[0m\u001b[0;34m\"Matrisimiz:\\n\"\u001b[0m\u001b[0;34m,\u001b[0m\u001b[0mmatris\u001b[0m\u001b[0;34m)\u001b[0m\u001b[0;34m\u001b[0m\u001b[0;34m\u001b[0m\u001b[0m\n",
      "\u001b[0;31mIndexError\u001b[0m: index 5 is out of bounds for axis 0 with size 5"
     ]
    }
   ],
   "source": [
    "import numpy as np\n",
    "\n",
    "# (1x5)'lik saf bir matris (vektor) tanimlayalim\n",
    "matris = np.array([0,1,2,3,4])\n",
    "print(\"Matrisimiz:\\n\",matris)\n",
    "\n",
    "print(\"Matrisimizin sonuncu elemanı: \",matris[4])\n",
    "\n",
    "# 5. elemani (indisi: 4) degistirelim:\n",
    "matris[4] = 9\n",
    "print(\"Matrisimiz:\\n\",matris)\n",
    "\n",
    "print(\"----------------------\")\n",
    "\n",
    "# 6. elemani (indisi: 5) tanimlayarak eklemeye calisalim:\n",
    "matris[5] = 5 # Bu noktada elimize gecen hata! husran! gozyasi! :~(\n",
    "print(\"Matrisimiz:\\n\",matris)"
   ]
  },
  {
   "cell_type": "markdown",
   "metadata": {},
   "source": [
    "Aldığımız hatanın gerisinde yatan temel sebep, _teknik olarak_ bir matrisin (NumPy dizisinin - bir daha bu ek açıklamayı yapmayacağım) sadece ilk tanımlanışı sırasında boyutunun belirlenebilmesi. \n",
    "\n",
    "Pratikte tabii ki bu sıkıntıya düşmüyoruz, birazdan göreceğimiz üzere, genişleme de yapacağız, boyutunu da değiştireceğiz, sileceğiz de, ekleyebileceğiz de. Ama bu teknik kısıtlamanın altında ince bir programlama numarası yatmakta. \"Listeler ve sözlükler\" başlıklı 2. uygulama notlarında bundan bahsettiysek de, onun ders değil de aslında bir referans notu olmasından ötürü burada bir kez daha değineceğim."
   ]
  },
  {
   "cell_type": "markdown",
   "metadata": {},
   "source": [
    "**Sihirbazlık: Değişkenleri kopyalamak ('copy')**  \n",
    "Bu sihirbazlık numarası için yardımınıza ihtiyacım var:  \n",
    "1. `a` diye bir değişken düşünüp, ona bir değer atayın (örneğin 3)\n",
    "2. `b` diye bir değişken düşünüp, onu da `a`ya eşitleyin.  \n",
    "_(şu anda `a` da, `b` de 3'e eşit, buraya kadar hemfikirizdir umarım)_\n",
    "3. `a`nın değerini başka bir sayı yapın (örneğin 5).\n",
    "4. `b`nin şu andaki değeri nedir?\n",
    "\n",
    "Psikoloji bilimi doğru çalışıyorsa, büyük ihtimalle \"5\" demişsinizdir (\"hoca sorduğuna göre o kadar bariz (3) cevap olamaz, vardır bir şaşırtmaca/hinlik) ama gerçekten de o kadar bariz (yani `b` değerimiz hala 3'e eşit), kendi gözlerinizle görün:"
   ]
  },
  {
   "cell_type": "code",
   "execution_count": 12,
   "metadata": {},
   "outputs": [
    {
     "name": "stdout",
     "output_type": "stream",
     "text": [
      "a: 3\tb: 3\n",
      "Şimdi a'nın değerini 5 yapıyoruz...\n",
      "(b'ye dokunmuyoruz)\n",
      "a: 5\tb: 3\n",
      "\n",
      "¯\\_(ツ)_/¯ -- Duh!\n"
     ]
    }
   ],
   "source": [
    "a = 3\n",
    "b = a\n",
    "print(\"a: %d\\tb: %d\"%(a,b))\n",
    "print(\"Şimdi a'nın değerini 5 yapıyoruz...\\n(b'ye dokunmuyoruz)\")\n",
    "a = 5\n",
    "print(\"a: %d\\tb: %d\"%(a,b))\n",
    "print(\"\\n¯\\_(ツ)_/¯ -- Duh!\")"
   ]
  },
  {
   "cell_type": "markdown",
   "metadata": {},
   "source": [
    "E sihirbazlık neresinde kaldı bu işin? Tekrar deneyelim... Bir şans daha. Bu sefer dizilerle yapalım:"
   ]
  },
  {
   "cell_type": "code",
   "execution_count": 13,
   "metadata": {},
   "outputs": [
    {
     "name": "stdout",
     "output_type": "stream",
     "text": [
      "a dizisi:  [3]\n",
      "b dizisi:  [3]\n",
      "\n",
      "Şimdi a dizisinin elemanının değerini 5 yapıyoruz...\n",
      "(b dizisine dokunmuyoruz)\n",
      "\n",
      "a dizisi:  [5]\n",
      "b dizisi:  [5]\n"
     ]
    }
   ],
   "source": [
    "import numpy as np\n",
    "\n",
    "dizi_a = np.array([3])\n",
    "dizi_b = dizi_a\n",
    "print(\"a dizisi: \",dizi_a)\n",
    "print(\"b dizisi: \",dizi_b)\n",
    "print(\"\\nŞimdi a dizisinin elemanının değerini 5 yapıyoruz...\\n(b dizisine dokunmuyoruz)\\n\")\n",
    "dizi_a[0] = 5\n",
    "print(\"a dizisi: \",dizi_a)\n",
    "print(\"b dizisi: \",dizi_b)\n"
   ]
  },
  {
   "attachments": {
    "JamesHence_Beaker_Scream.jpg": {
     "image/jpeg": "[encoded data removed]"
    }
   },
   "cell_type": "markdown",
   "metadata": {},
   "source": [
    "![JamesHence_Beaker_Scream.jpg](attachment:JamesHence_Beaker_Scream.jpg)  \n",
    "(James Hence - \"The Meep\")"
   ]
  },
  {
   "cell_type": "markdown",
   "metadata": {},
   "source": [
    "Nasıl oldu? Biz b dizisine dokunmamıştık, nasıl oldu da gitti a'yı değiştirince b de değişiverdi? Cevap: dizilerin (yani birden fazla elemanı olan değişkenlerin) hafızada nasıl tutulduğu. Bize ad diye verilen şey aslında onun hafızada tutulduğu yeri gösteren bir işaretçi (_pointer_). Birebir aynı olmasa da bu ilişkiyi _id_'lere bakarak gözlemleyebiliriz:"
   ]
  },
  {
   "cell_type": "code",
   "execution_count": 14,
   "metadata": {},
   "outputs": [
    {
     "name": "stdout",
     "output_type": "stream",
     "text": [
      "a dizisi:  [3]\n",
      "a dizisinin id'si:  139837491547072\n",
      "b dizisi:  [3]\n",
      "b dizisinin id'si:  139837491547072\n",
      "\n",
      "\n",
      "Şimdi a dizisinin elemanının değerini 5 yapıyoruz...\n",
      "(b dizisine dokunmuyoruz)\n",
      "\n",
      "a dizisi:  [5]\n",
      "a dizisinin id'si:  139837491547072\n",
      "b dizisi:  [5]\n",
      "b dizisinin id'si:  139837491547072\n"
     ]
    }
   ],
   "source": [
    "import numpy as np\n",
    "\n",
    "dizi_a = np.array([3])\n",
    "dizi_b = dizi_a\n",
    "print(\"a dizisi: \",dizi_a)\n",
    "print(\"a dizisinin id'si: \",id(dizi_a))\n",
    "print(\"b dizisi: \",dizi_b)\n",
    "print(\"b dizisinin id'si: \",id(dizi_b))\n",
    "print()\n",
    "print(\"\\nŞimdi a dizisinin elemanının değerini 5 yapıyoruz...\\n(b dizisine dokunmuyoruz)\\n\")\n",
    "dizi_a[0] = 5\n",
    "print(\"a dizisi: \",dizi_a)\n",
    "print(\"a dizisinin id'si: \",id(dizi_a))\n",
    "print(\"b dizisi: \",dizi_b)\n",
    "print(\"b dizisinin id'si: \",id(dizi_b))\n"
   ]
  },
  {
   "cell_type": "markdown",
   "metadata": {},
   "source": [
    "Görüldüğü üzere, ikisi de değişiklik yapıldıktan sonra bile aynı yeri işaret ediyorlar. Halbuki ilk örneğimizde:"
   ]
  },
  {
   "cell_type": "code",
   "execution_count": 15,
   "metadata": {},
   "outputs": [
    {
     "name": "stdout",
     "output_type": "stream",
     "text": [
      "a: 3\tb: 3\n",
      "a'nın id'si:  10914560\n",
      "b'nin id'si:  10914560\n",
      "Şimdi a'nın değerini 5 yapıyoruz...\n",
      "(b'ye dokunmuyoruz)\n",
      "\n",
      "a: 5\tb: 3\n",
      "a'nın id'si:  10914624\n",
      "b'nin id'si:  10914560\n"
     ]
    }
   ],
   "source": [
    "a = 3\n",
    "b = a\n",
    "print(\"a: %d\\tb: %d\"%(a,b))\n",
    "print(\"a'nın id'si: \",id(a))\n",
    "print(\"b'nin id'si: \",id(b))\n",
    "print(\"Şimdi a'nın değerini 5 yapıyoruz...\\n(b'ye dokunmuyoruz)\")\n",
    "a = 5\n",
    "print()\n",
    "print(\"a: %d\\tb: %d\"%(a,b))\n",
    "print(\"a'nın id'si: \",id(a))\n",
    "print(\"b'nin id'si: \",id(b))\n",
    "\n"
   ]
  },
  {
   "cell_type": "markdown",
   "metadata": {},
   "source": [
    "Python'da bir değişken tanımladığımızda, hafızada onun büyüklüğünde bir alan aranır ve o bölgenin başlangıç adresi o değişkenin adı ile ilişkilendirilir. Örneğin (3x4)'lük bir tamsayılar matrisi tanımladığınızda 3x4=12'lik tamsayının kapladığı yer bulunur, o yerin başlangıcı da matrisinizin adına atanır. Yani matrisin adı dediğimiz şey -hemen hemen- onun tutulduğu bölge. `dizi_b = dizi_a` demekle, a dizisinin adresini b dizisine de atamış olduk -- bu bir anahtarı çoğaltmak gibi bir şey! Bu yüzden a dizisinde yaptığımız değişiklik b dizisini de etkiliyor çünkü ikisi de aynı evi gösteriyor! Kardeşinizde de, sizde de birer anahtar var, kardeşiniz halıya vişne suyu döktüğünde, siz eve girince bu lekeyi görüyorsunuz! 8) "
   ]
  },
  {
   "cell_type": "markdown",
   "metadata": {},
   "source": [
    "Peki değerleri cinsinden birbirinin aynı ama göbekleri birbirlerine bağlı olmayan iki diziyi nasıl tanımlayacağız o halde? Cevap: `copy` komutu ile:"
   ]
  },
  {
   "cell_type": "code",
   "execution_count": 16,
   "metadata": {},
   "outputs": [
    {
     "name": "stdout",
     "output_type": "stream",
     "text": [
      "a dizisi:  [3]\n",
      "a dizisinin id'si:  139837491008656\n",
      "b dizisi:  [3]\n",
      "b dizisinin id'si:  139837491009376\n",
      "\n",
      "\n",
      "Şimdi a dizisinin elemanının değerini 5 yapıyoruz...\n",
      "(b dizisine dokunmuyoruz)\n",
      "\n",
      "a dizisi:  [5]\n",
      "a dizisinin id'si:  139837491008656\n",
      "b dizisi:  [3]\n",
      "b dizisinin id'si:  139837491009376\n"
     ]
    }
   ],
   "source": [
    "import numpy as np\n",
    "\n",
    "dizi_a = np.array([3])\n",
    "dizi_b = np.copy(dizi_a)\n",
    "print(\"a dizisi: \",dizi_a)\n",
    "print(\"a dizisinin id'si: \",id(dizi_a))\n",
    "print(\"b dizisi: \",dizi_b)\n",
    "print(\"b dizisinin id'si: \",id(dizi_b))\n",
    "print()\n",
    "print(\"\\nŞimdi a dizisinin elemanının değerini 5 yapıyoruz...\\n(b dizisine dokunmuyoruz)\\n\")\n",
    "dizi_a[0] = 5\n",
    "print(\"a dizisi: \",dizi_a)\n",
    "print(\"a dizisinin id'si: \",id(dizi_a))\n",
    "print(\"b dizisi: \",dizi_b)\n",
    "print(\"b dizisinin id'si: \",id(dizi_b))"
   ]
  },
  {
   "cell_type": "markdown",
   "metadata": {},
   "source": [
    "Yine bu hafıza/adres meselesi yüzünden, kafamıza göre olmayan bir elemanı yoktan tanımlayamıyoruz: bilgisayar bize diyelim 12'lik yer bulup ayırmış, hemen dibinden bir başka değişken başlıyor, siz kalkıp da 13. elemanı tanımlayamazsınız, kalkıp yandaki komşunun odasına girecek haliniz yok (bu vesileyle son yıllarda hayli güvenli bilgisayarları yakıp kavuran [Heartbleed bug'ı](https://en.wikipedia.org/wiki/Heartbleed) tam da bu şekilde çalışıp bilgileri sızdırıyordu). O nedenle siz \"bana 12 odalı ev yetmiyor, 13. odaya ihtiyacım var\" dediğinizde, Python da 13 odalı bir ev oluşturup, sizi -pek de çaktırmadan- oraya taşıyor (adresiniz değişiyor haliyle ama no prob. ;)."
   ]
  },
  {
   "cell_type": "markdown",
   "metadata": {},
   "source": [
    "* **append()** komutu ile eleman ekleme\n",
    "`append` ile bir matrisin sonuna elemanlar eklenebilir. Dikkat edilmesi gereken husus, bu komutun yeni bir matris döndürdüğüdür: girdi olarak kullanılan matris doğal olarak -siz çıktı olarak kendisini işaret etmezseniz- değişiklik göstermez."
   ]
  },
  {
   "cell_type": "code",
   "execution_count": 17,
   "metadata": {},
   "outputs": [
    {
     "name": "stdout",
     "output_type": "stream",
     "text": [
      "dizi: \n",
      " [0 1 2 3 4]\n",
      "diziye ek yapılmış hali:\n",
      " [0 1 2 3 4 5 6 7]\n",
      "dizide bir değişiklik yok: \n",
      " [0 1 2 3 4]\n",
      "-----------\n",
      "dizi: \n",
      " [0 1 2 3 4 5 6 7]\n"
     ]
    }
   ],
   "source": [
    "import numpy as np\n",
    "\n",
    "dizi = np.array([0,1,2,3,4])\n",
    "print(\"dizi: \\n\",dizi)\n",
    "print(\"diziye ek yapılmış hali:\\n\",np.append(dizi,[5,6,7]))\n",
    "print(\"dizide bir değişiklik yok: \\n\",dizi)\n",
    "\n",
    "print(\"-----------\")\n",
    "\n",
    "# Degisikligin diziye yapilmasi icin:\n",
    "dizi = np.append(dizi,[5,6,7])\n",
    "print(\"dizi: \\n\",dizi)"
   ]
  },
  {
   "cell_type": "markdown",
   "metadata": {},
   "source": [
    "(tahmin edeceğiniz üzere, baştaki `dizi` ile, ekleme yapılmış `dizi`nin adresleri de, id'leri de farklı)."
   ]
  },
  {
   "cell_type": "markdown",
   "metadata": {},
   "source": [
    "* **insert()** komutu ile eleman ekleme  \n",
    "`insert` komutu işleyiş açısından `append`e benzese de, ondan temel farkı ille de sona değil, listenin herhangi bir yerine aradan ekleme yapma imkanı vermesindedir. İlk parametre olarak ekleme yapılacak dizi; ikinci parametre olarak hangi indisin yerinden ekleme yapılacağı (örneğin \"2\" dersek, 2 indisli (3.) elemanın soluna eklenir, yani eski 2 indisindeki (3.) eleman sağa kayar:"
   ]
  },
  {
   "cell_type": "code",
   "execution_count": 18,
   "metadata": {},
   "outputs": [
    {
     "name": "stdout",
     "output_type": "stream",
     "text": [
      "dizi: \n",
      " [0 1 2 3 4]\n",
      "--------\n",
      "dizi: \n",
      " [ 0  1 99 98 97  2  3  4]\n"
     ]
    }
   ],
   "source": [
    "import numpy as np\n",
    "\n",
    "dizi = np.array([0,1,2,3,4])\n",
    "print(\"dizi: \\n\",dizi)\n",
    "\n",
    "print(\"--------\")\n",
    "\n",
    "dizi = np.insert(dizi,2,[99,98,97])\n",
    "print(\"dizi: \\n\",dizi)"
   ]
  },
  {
   "cell_type": "markdown",
   "metadata": {},
   "source": [
    "* **concatenate()** ile dizi birleştirme  \n",
    "Python'da \"normal\" (standard) dizileri `+` operatörü ile birleştirebiliyorduk. NumPy matrislerinde bu operatör ile gerçek toplama yapabildiğimizden ötürü, yeni bir komuta gerek olmuş, o komut da işte `concatenate`:"
   ]
  },
  {
   "cell_type": "code",
   "execution_count": 19,
   "metadata": {},
   "outputs": [
    {
     "name": "stdout",
     "output_type": "stream",
     "text": [
      "dizi3: \n",
      " [ 0  1  2  3  4  9 10 15]\n"
     ]
    }
   ],
   "source": [
    "import numpy as np\n",
    "\n",
    "dizi1 = np.array([0,1,2,3,4])\n",
    "dizi2 = np.array([9,10,15])\n",
    "dizi3 = np.concatenate((dizi1,dizi2))\n",
    "print(\"dizi3: \\n\",dizi3)"
   ]
  },
  {
   "cell_type": "markdown",
   "metadata": {},
   "source": [
    "  * `concatenate` ile yaptığımız her türlü işlemi `append` ile yapabileceğimiz doğrudur fakat `append` fonksiyonu bizzat concatenate ile tanımlanmıştır. [Kaynak koduna](https://github.com/numpy/numpy/blob/master/numpy/ma/core.py) bakacak olursanız (append en altta yer alıyor; korkmayın, bir bakın bence, açık kaynağın, özgür yazılımın en güzel yanlarından biri de bu! 8):\n",
    "  \n",
    " `def append(a, b, axis=None):` \n",
    " \n",
    " şeklinde başlıyor tanımı, bir dolu açıklama metni ve tüm bir fonksiyonun kod olarak aslında tek bir satırda tanımlandığını görüyorsunuz: \n",
    " \n",
    " `return concatenate([a, b], axis)`\n",
    " \n",
    " \n",
    "  * `concatenate`'i burada, bir boyutlu matrisler üzerinde çalışırken gördük ama ileride hem daha yüksek boyutlu matrislere ekleme yapacağız, hem de `vstack` olsun, `hstack` olsun, daha ince işler, kurulumlar yapacağız."
   ]
  },
  {
   "cell_type": "markdown",
   "metadata": {},
   "source": [
    "### Matristen Eleman Silme\n",
    "Silme işlemini `delete` komutu ile yapıyoruz ama hemen kullanmaya kalkmadan biraz düşünelim:\n",
    "\n",
    "- `Silmek` ile ne kast ediyoruz?\n",
    "\n",
    "Tamam, `[0,1,2,3,4,5]` gibi bir dizinin diyelim _2 ve 4 indisli elemanlarını silmekten_ bahsedebiliriz, o zaman `[0,1,3,5]` gibi bir şey olur elimize dönen, hatta:"
   ]
  },
  {
   "cell_type": "code",
   "execution_count": 20,
   "metadata": {},
   "outputs": [
    {
     "name": "stdout",
     "output_type": "stream",
     "text": [
      "dizi1:\n",
      " [0 1 2 3 4 5]\n",
      "------------\n",
      "[0 1 3 5]\n"
     ]
    }
   ],
   "source": [
    "import numpy as np\n",
    "\n",
    "dizi1 = np.array([0,1,2,3,4,5])\n",
    "print(\"dizi1:\\n\",dizi1)\n",
    "print(\"------------\")\n",
    "print(np.delete(dizi1,[2,4]))"
   ]
  },
  {
   "cell_type": "markdown",
   "metadata": {},
   "source": [
    "Nefis!... Bravo... vs..\n",
    "\n",
    "Peki ya elimizde 2 boyutlu bir dizi varsa? "
   ]
  },
  {
   "cell_type": "code",
   "execution_count": 21,
   "metadata": {},
   "outputs": [
    {
     "name": "stdout",
     "output_type": "stream",
     "text": [
      "dizi2:\n",
      " [[1 2]\n",
      " [3 4]\n",
      " [5 6]]\n"
     ]
    }
   ],
   "source": [
    "dizi2 = np.array([[1,2],[3,4],[5,6]])\n",
    "print(\"dizi2:\\n\",dizi2)"
   ]
  },
  {
   "cell_type": "markdown",
   "metadata": {},
   "source": [
    "Bunun _2 ve 4 indisli elemanlarını silmek_ ne demek??? (bkz. _what ne demek?_ 8P).. _1. satırı silelim_, bunu anlarız (Python da anlar), haydi _2. sütunu silelim_ bu da tamam ama _2 ve 4 indisi_ bırakın, _2 indisli elemanı silelim_'in bile 2 boyutlu bir matriste anlamı yok (jenga oynayanlarınız bilir, yapıyı korumak lazım: bir satırında 2 elemanı, bir başka satırında 1 elemanı olan bir matris matematik dünyasında yok (olana da hilkat garibesi muamelesi çekiliyor, girmiyorum o konuya ama çok istiyorsanız bkz. dizi dizileri ya da hücre dizileri)).\n",
    "\n",
    "Önce bir satırı, sonra bir sütunu uçurup, sonra da tek bir elemanı uçurmaya kalkıp sonuçlara bakalım:"
   ]
  },
  {
   "cell_type": "code",
   "execution_count": 22,
   "metadata": {},
   "outputs": [
    {
     "name": "stdout",
     "output_type": "stream",
     "text": [
      "dizi2:\n",
      " [[1 2 3]\n",
      " [4 5 6]\n",
      " [7 8 9]]\n",
      "---------\n",
      "2. satırı uçurduğumuz hali:\n",
      " [[1 2 3]\n",
      " [7 8 9]]\n",
      "---------\n",
      "2. sütunu uçurduğumuz hali:\n",
      " [[1 3]\n",
      " [4 6]\n",
      " [7 9]]\n",
      "---------\n",
      "1. & 3. sütunu uçurduğumuz hali:\n",
      " [[2]\n",
      " [5]\n",
      " [8]]\n"
     ]
    }
   ],
   "source": [
    "dizi2 = np.array([[1,2,3],[4,5,6],[7,8,9]])\n",
    "print(\"dizi2:\\n\",dizi2)\n",
    "\n",
    "print(\"---------\")\n",
    "print(\"2. satırı uçurduğumuz hali:\\n\",np.delete(dizi2,1,0))\n",
    "\n",
    "print(\"---------\")\n",
    "print(\"2. sütunu uçurduğumuz hali:\\n\",np.delete(dizi2,1,1))\n",
    "\n",
    "print(\"---------\")\n",
    "print(\"1. & 3. sütunu uçurduğumuz hali:\\n\",np.delete(dizi2,[0,2],1))\n"
   ]
  },
  {
   "cell_type": "markdown",
   "metadata": {},
   "source": [
    "Satırlar ve sütunlar gayet iyi uçuyor (satır uçururken `0`, sütun uçururken `1` değerini alan parametre \"eksen\" parametresi: 2-boyutlu bir matriste birincil (0) eksen x-ekseni (yani satırlar); ikincil (1) eksen y-ekseni (yani sütunlar)).\n",
    "\n",
    "Şimdi gelelim bir tek, diyelim 2. elemanı uçurmaya:"
   ]
  },
  {
   "cell_type": "code",
   "execution_count": 23,
   "metadata": {},
   "outputs": [
    {
     "name": "stdout",
     "output_type": "stream",
     "text": [
      "dizi2:\n",
      " [[1 2 3]\n",
      " [4 5 6]\n",
      " [7 8 9]]\n",
      "---------\n",
      "2. elemanı uçurduğumuz hali:\n",
      " [1 3 4 5 6 7 8 9]\n"
     ]
    }
   ],
   "source": [
    "dizi2 = np.array([[1,2,3],[4,5,6],[7,8,9]])\n",
    "print(\"dizi2:\\n\",dizi2)\n",
    "\n",
    "print(\"---------\")\n",
    "print(\"2. elemanı uçurduğumuz hali:\\n\",np.delete(dizi2,1))"
   ]
  },
  {
   "cell_type": "markdown",
   "metadata": {},
   "source": [
    "2\\. eleman olan 2 (indis:1) hakikaten de uçtu ama artık matrisin bütünlüğü bozulduğundan, otomatik olarak 1 boyuta indirgendi ki, siz de takdir ederseniz, en mantıklı çözüm bu."
   ]
  },
  {
   "cell_type": "markdown",
   "metadata": {},
   "source": [
    "## Gelecek Program...\n",
    "İleride hemen hemen bütün işlerimizi matrisler ile halledeceğimizden dolayı, bir müddet daha matrisler üzerinde çalışacağız. Gelecek derste matrislerin özellikleri, tipik matrisler, 3+ boyutlu matrisleri ve temel işlemleri göreceğiz, sonrasında da ileri matris işlemleri & fonksiyonları var... _ha- ha- ha- haftayaaaa, buluşalım haftaayaaaa, vikingler geeeeliyoooor, devamı haaaaftayaaaaaa..._ 8)"
   ]
  }
 ],
 "metadata": {
  "kernelspec": {
   "display_name": "Python 3",
   "language": "python",
   "name": "python3"
  },
  "language_info": {
   "codemirror_mode": {
    "name": "ipython",
    "version": 3
   },
   "file_extension": ".py",
   "mimetype": "text/x-python",
   "name": "python",
   "nbconvert_exporter": "python",
   "pygments_lexer": "ipython3",
   "version": "3.8.5"
  }
 },
 "nbformat": 4,
 "nbformat_minor": 2
}
