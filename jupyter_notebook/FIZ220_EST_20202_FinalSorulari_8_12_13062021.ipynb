{
 "cells": [
  {
   "cell_type": "markdown",
   "metadata": {},
   "source": [
    "# Final Sözlü Sınavı Soruları\n",
    "## FİZ220 - Bilgisayar Programlama II | 8-12-13/06/2021\n",
    "\n",
    "Dr. Emre S. Taşcı, emre.tasci@hacettepe.edu.tr  \n",
    "Fizik Mühendisliği Bölümü  \n",
    "Hacettepe Üniversitesi\n"
   ]
  },
  {
   "cell_type": "markdown",
   "metadata": {},
   "source": [
    "Sorular çeşitli varyanslarla sorulmuş olup, sonrasında başka değişkenler/bileşenler de eklenmiştir. Tabii ki birden fazla çözüm şekli vardır, aşağıdakiler bir fikir vermesi açısından sunulmaktadır."
   ]
  },
  {
   "cell_type": "code",
   "execution_count": 1,
   "metadata": {},
   "outputs": [],
   "source": [
    "import numpy as np\n",
    "import matplotlib.pyplot as plt"
   ]
  },
  {
   "cell_type": "markdown",
   "metadata": {},
   "source": [
    "**Soru 1.** -20 ile 30 arasında tek sayılardan oluşan dizi üretin."
   ]
  },
  {
   "cell_type": "code",
   "execution_count": 2,
   "metadata": {},
   "outputs": [
    {
     "name": "stdout",
     "output_type": "stream",
     "text": [
      "[-19, -17, -15, -13, -11, -9, -7, -5, -3, -1, 1, 3, 5, 7, 9, 11, 13, 15, 17, 19, 21, 23, 25, 27, 29]\n"
     ]
    }
   ],
   "source": [
    "dizi = list(range(-19,30,2))\n",
    "print(dizi)"
   ]
  },
  {
   "cell_type": "code",
   "execution_count": 3,
   "metadata": {},
   "outputs": [
    {
     "name": "stdout",
     "output_type": "stream",
     "text": [
      "[-19 -17 -15 -13 -11  -9  -7  -5  -3  -1   1   3   5   7   9  11  13  15\n",
      "  17  19  21  23  25  27  29]\n"
     ]
    }
   ],
   "source": [
    "dizi = np.arange(-19,30,2)\n",
    "print(dizi)"
   ]
  },
  {
   "cell_type": "code",
   "execution_count": 4,
   "metadata": {},
   "outputs": [
    {
     "name": "stdout",
     "output_type": "stream",
     "text": [
      "[-19 -17 -15 -13 -11  -9  -7  -5  -3  -1   1   3   5   7   9  11  13  15\n",
      "  17  19  21  23  25  27  29]\n"
     ]
    }
   ],
   "source": [
    "dizi = np.arange(-20,30)\n",
    "dizi = dizi[dizi%2 != 0]\n",
    "print(dizi)"
   ]
  },
  {
   "cell_type": "code",
   "execution_count": 5,
   "metadata": {},
   "outputs": [
    {
     "name": "stdout",
     "output_type": "stream",
     "text": [
      "[-19, -17, -15, -13, -11, -9, -7, -5, -3, -1, 1, 3, 5, 7, 9, 11, 13, 15, 17, 19, 21, 23, 25, 27, 29]\n"
     ]
    }
   ],
   "source": [
    "# Sizlerden en çok gelen çözüm şekli\n",
    "dizi = []\n",
    "for i in range(-20,30):\n",
    "    if (i%2 != 0):\n",
    "        dizi.append(i)\n",
    "print(dizi)"
   ]
  },
  {
   "cell_type": "markdown",
   "metadata": {},
   "source": [
    "**Soru 2.** \n",
    "$x^3-6x^2-x+30$ fonksiyonunun -3'ten büyük köklerinden birini hesaplayınız. \n",
    "\n",
    "(Başka bir varyant: (-3,6) aralığındaki köklerinden birini hesaplayınız)"
   ]
  },
  {
   "cell_type": "code",
   "execution_count": 6,
   "metadata": {},
   "outputs": [
    {
     "name": "stdout",
     "output_type": "stream",
     "text": [
      "kok: -1.9995000000001102  Hata: 0.001\n"
     ]
    }
   ],
   "source": [
    "def f(x):\n",
    "    return x**3 - 6*x**2 - x +30\n",
    "\n",
    "delta = 1E-3\n",
    "x0 = -3\n",
    "f_x0 = f(x0)\n",
    "x1 = x0 + delta\n",
    "f_x1 = f(x1)\n",
    "\n",
    "# iki noktadaki fonksiyon degerleri\n",
    "# ayni isaretliyse, arada kok olma garantisi yok,\n",
    "# carpimlarinin isareti de + olmak zorunda,\n",
    "# onu kontrol ediyoruz\n",
    "while(f_x0 * f_x1 > 0):\n",
    "    x0 = x1\n",
    "    f_x0 = f_x1\n",
    "    x1 = x0 + delta\n",
    "    f_x1 = f(x1)\n",
    "\n",
    "# while dongusu kirildigina gore\n",
    "# aradigimiz kok [x0,x1] araliginda\n",
    "kok = (x0+x1)/2\n",
    "print(\"kok:\",kok,\" Hata:\",delta)   "
   ]
  },
  {
   "cell_type": "markdown",
   "metadata": {},
   "source": [
    "**Soru 3:** $x^3-6x^2-x+30$ fonksiyonunu $-3<x<6$ arasında çizdiriniz."
   ]
  },
  {
   "cell_type": "code",
   "execution_count": 7,
   "metadata": {},
   "outputs": [
    {
     "data": {
      "image/png": "[encoded data removed]",
      "text/plain": [
       "<Figure size 432x288 with 1 Axes>"
      ]
     },
     "metadata": {
      "needs_background": "light"
     },
     "output_type": "display_data"
    }
   ],
   "source": [
    "def f(x):\n",
    "    return x**3 - 6*x**2 - x +30\n",
    "\n",
    "x = np.linspace(-3,6,100)\n",
    "plt.plot(x,f(x),\"-b\")\n",
    "plt.show()"
   ]
  },
  {
   "cell_type": "markdown",
   "metadata": {},
   "source": [
    "**Soru 4:** 120'den sonraki ilk üç asal sayıyı hesaplatınız."
   ]
  },
  {
   "cell_type": "code",
   "execution_count": 8,
   "metadata": {},
   "outputs": [
    {
     "name": "stdout",
     "output_type": "stream",
     "text": [
      "[127, 131, 137]\n"
     ]
    }
   ],
   "source": [
    "asallar = []\n",
    "\n",
    "sayi = 120\n",
    "while (len(asallar)<3):\n",
    "    flag_asal_mi = True\n",
    "    for bolenler in range(2,sayi):\n",
    "        if(sayi%bolenler == 0):\n",
    "            flag_asal_mi = False\n",
    "            break\n",
    "    if(flag_asal_mi == True):\n",
    "        asallar.append(sayi)\n",
    "    sayi = sayi + 1\n",
    "print(asallar)\n",
    "    "
   ]
  },
  {
   "cell_type": "markdown",
   "metadata": {},
   "source": [
    "**Soru 5:** 8,10 başlangıç -> 8. Fibonacci sayısını hesaplatınız."
   ]
  },
  {
   "cell_type": "code",
   "execution_count": 9,
   "metadata": {},
   "outputs": [
    {
     "name": "stdout",
     "output_type": "stream",
     "text": [
      "194\n"
     ]
    }
   ],
   "source": [
    "fibo = [8,10]\n",
    "while(len(fibo)<8):\n",
    "    fibo.append(fibo[-1]+fibo[-2])\n",
    "#print(fibo)\n",
    "print(fibo[-1])"
   ]
  },
  {
   "cell_type": "markdown",
   "metadata": {},
   "source": [
    "**Soru 6:** x ekseni etrafında 90 derece dönüş operatörü ile y ekseni etrafında 90 derece dönüş operatörünü tanımlayınız.\n",
    "\n",
    "(Buradaki amaç, ezberi ne kadar kırabildiğinizi, soruyu ne kadar anlayabildiğinizi görmekti. Derste alışık olduğunuz üzere hep iki boyutta (ve dolayısıyla z-ekseni etrafında) dönüş tanımladık. Beklenen cevap üç boyuta çıkmanızdı.)\n",
    "\n",
    "_Sizlerden gelen cevaplarda \"x-ekseni etrafındaki dönüşü\" saat yönünün tersine; \"y-ekseni etrafındaki dönüşü\" de saat yönünde olarak aldınız. Biz de daha kolay sorularla devam ettik. 8)_"
   ]
  },
  {
   "cell_type": "code",
   "execution_count": 10,
   "metadata": {},
   "outputs": [
    {
     "name": "stdout",
     "output_type": "stream",
     "text": [
      "[[ 1  0  0]\n",
      " [ 0  0 -1]\n",
      " [ 0  1  0]]\n",
      "[[ 0  0  1]\n",
      " [ 0  1  0]\n",
      " [-1  0  0]]\n"
     ]
    }
   ],
   "source": [
    "# x ekseni etrafında döndürünce (1,0,0), (0,1,0) ve (0,0,1) \n",
    "# noktalarının gideceği yerler, sırasıyla,\n",
    "# (1,0,0), (0,0,1), (0,-1,0)\n",
    "R90_x = np.array([[1,0,0],[0,0,-1],[0,1,0]])\n",
    "print(R90_x)\n",
    "\n",
    "# y ekseni etrafında döndürünce (1,0,0), (0,1,0) ve (0,0,1) \n",
    "# noktalarının gideceği yerler, sırasıyla,\n",
    "# (0,0,-1), (0,1,0), (1,0,0)\n",
    "R90_y = np.array([[0,0,1],[0,1,0],[-1,0,0]])\n",
    "print(R90_y)"
   ]
  },
  {
   "cell_type": "markdown",
   "metadata": {},
   "source": [
    "**Soru 7:** (1,0) vektörünün 30 derecelik dönüşlerini hesaplayınız."
   ]
  },
  {
   "cell_type": "code",
   "execution_count": 11,
   "metadata": {},
   "outputs": [
    {
     "name": "stdout",
     "output_type": "stream",
     "text": [
      "[0.8660254 0.5      ]\n",
      "[0.5       0.8660254]\n",
      "[2.77555756e-16 1.00000000e+00]\n",
      "[-0.5        0.8660254]\n",
      "[-0.8660254  0.5      ]\n",
      "[-1.00000000e+00  5.55111512e-16]\n",
      "[-0.8660254 -0.5      ]\n",
      "[-0.5       -0.8660254]\n",
      "[-8.32667268e-16 -1.00000000e+00]\n",
      "[ 0.5       -0.8660254]\n",
      "[ 0.8660254 -0.5      ]\n",
      "[ 1.00000000e+00 -1.11022302e-15]\n"
     ]
    }
   ],
   "source": [
    "vektor = np.array([1,0])\n",
    "theta = np.deg2rad(30)\n",
    "R90 = np.array([[np.cos(theta),-np.sin(theta)],\n",
    "                [np.sin(theta),np.cos(theta)]])\n",
    "\n",
    "# 360 / 30 = 12\n",
    "for i in range(12):\n",
    "    vektor = np.dot(R90,vektor)\n",
    "    print(vektor)"
   ]
  },
  {
   "cell_type": "markdown",
   "metadata": {},
   "source": [
    "**Soru 8:** (-1,1) arasında rasgele değerler alan 100x2'lik matris oluşturup grafiğini çizdirip, kaç noktasının orijine olan mesafesinin 0.5'ten küçük olduğunu hesaplayın."
   ]
  },
  {
   "cell_type": "code",
   "execution_count": 12,
   "metadata": {},
   "outputs": [
    {
     "data": {
      "image/png": "[encoded data removed]",
      "text/plain": [
       "<Figure size 432x288 with 1 Axes>"
      ]
     },
     "metadata": {
      "needs_background": "light"
     },
     "output_type": "display_data"
    }
   ],
   "source": [
    "noktalar = np.random.rand(100,2)*2-1\n",
    "plt.plot(noktalar[:,0],noktalar[:,1],\"ob\")\n",
    "plt.show()"
   ]
  },
  {
   "cell_type": "code",
   "execution_count": 13,
   "metadata": {},
   "outputs": [
    {
     "name": "stdout",
     "output_type": "stream",
     "text": [
      "23\n"
     ]
    }
   ],
   "source": [
    "mesafeler = np.linalg.norm(noktalar,axis=1)\n",
    "filtre = mesafeler < 0.5\n",
    "#print(noktalar[filtre])\n",
    "print(len(noktalar[filtre]))"
   ]
  },
  {
   "cell_type": "code",
   "execution_count": 14,
   "metadata": {},
   "outputs": [
    {
     "data": {
      "image/png": "[encoded data removed]",
      "text/plain": [
       "<Figure size 432x288 with 1 Axes>"
      ]
     },
     "metadata": {
      "needs_background": "light"
     },
     "output_type": "display_data"
    }
   ],
   "source": [
    "plt.plot(noktalar[:,0],noktalar[:,1],\"ob\")\n",
    "plt.plot(noktalar[filtre][:,0],noktalar[filtre][:,1],\"or\")\n",
    "plt.show()"
   ]
  },
  {
   "cell_type": "markdown",
   "metadata": {},
   "source": [
    "**Soru 9:** 0.8'den büyük oluncaya kadar (0,1) aralığında rasgele sayılar oluşturun, 0.8'den büyüğe denk geldiğinde bir önceki attığı sayıyı da göstersin."
   ]
  },
  {
   "cell_type": "code",
   "execution_count": 15,
   "metadata": {},
   "outputs": [
    {
     "name": "stdout",
     "output_type": "stream",
     "text": [
      "onceki: 0.03533370956123327\n",
      "buyuk olan: 0.8910535771259295\n"
     ]
    }
   ],
   "source": [
    "onceki = \"yok\"\n",
    "sayi = np.random.rand()\n",
    "#print(sayi)\n",
    "while sayi < 0.8:\n",
    "    onceki = sayi\n",
    "    sayi = np.random.rand()\n",
    "    #print(sayi)\n",
    "print(\"onceki:\", onceki)\n",
    "print(\"buyuk olan:\", sayi)"
   ]
  }
 ],
 "metadata": {
  "kernelspec": {
   "display_name": "Python 3",
   "language": "python",
   "name": "python3"
  },
  "language_info": {
   "codemirror_mode": {
    "name": "ipython",
    "version": 3
   },
   "file_extension": ".py",
   "mimetype": "text/x-python",
   "name": "python",
   "nbconvert_exporter": "python",
   "pygments_lexer": "ipython3",
   "version": "3.8.5"
  }
 },
 "nbformat": 4,
 "nbformat_minor": 4
}
