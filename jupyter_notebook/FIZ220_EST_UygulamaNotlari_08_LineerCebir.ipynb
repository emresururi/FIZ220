{
 "cells": [
  {
   "cell_type": "markdown",
   "metadata": {},
   "source": [
    "# Uygulama Notları: 8\n",
    "## FİZ220 - Bilgisayar Programlama II | 14/05/2020\n",
    "\n",
    "**Lineer Cebir**\n",
    "\n",
    "* Giriş\n",
    "* Hafıza-i beşer, nisyan ile mâlûldür... (feilün mefaülü mefalülü... 8P) ya da \"...previously on FİZ220...\"\n",
    "* Matematik de bir yere kadar\n",
    "* Sorunlar, sorunsallar...\n",
    "* Özdeğer ve özvektörlerin kısa yoldan bulunması\n",
    "* Tavsiyeler\n",
    "\n",
    "Dr. Emre S. Taşcı, emre.tasci@hacettepe.edu.tr  \n",
    "Fizik Mühendisliği Bölümü  \n",
    "Hacettepe Üniversitesi"
   ]
  },
  {
   "cell_type": "markdown",
   "metadata": {},
   "source": [
    "## Giriş\n",
    "6\\. dersimizin olan \"[Matris Uygulamaları](https://emresururi.github.io/FIZ220/FIZ220_EST_UygulamaNotlari_06_Matris_Uygulamalari.html)\"nda lineer cebiri _n_ bilinmeyenli _n_ denklemi çözmek için kullanmıştık, bu ders bu konuyu biraz daha geliştirip, bir matris işleminin sonuçlarını ve özelliklerini görüp, yorumlayacağız. "
   ]
  },
  {
   "cell_type": "markdown",
   "metadata": {},
   "source": [
    "## _Hafıza-i beşer, nisyan ile mâlûldür..._ (feilün mefaülü mefalülü... 8P) ya da _\"...previously on FİZ220...\"_\n",
    "Birbirimizi kandırmadan, kısa bir hatırlatma yapalım (ne de olsa araya matrissiz, *for*'lu, *if*'li, *while*'lı döngülü kararlı bir ders girdi): $n\\times n$'lik matrisle, _n_ bilinmeyenli _n_ denklem arasındaki yakın ve samimi bağ hakkında. Örneğin, iki bilinmeyenli iki denklemimiz olsun:\n",
    "\n",
    "$$3x+2y = 7\\\\x-y=-1$$\n",
    "\n",
    "Bunu matris çarpımı şeklinde yazabiliriz, yazalım hatta:\n",
    "\n",
    "$$\\begin{bmatrix}3&2\\\\1&-1\\end{bmatrix}_{(2\\times 2)}\\cdot\\left( \\begin{matrix}x\\\\y\\end{matrix} \\right)_{(2\\times 1)}= \\left(\\begin{matrix}7\\\\-1\\end{matrix}\\right)_{(2\\times 1)}$$\n",
    "\n",
    "Yani aslında yaptığımız şey, şu çarpma işlemindeki $x$'i çözmekten ibaret:\n",
    "\n",
    "$$A\\cdot\\vec{x} = \\vec{b}$$\n",
    "\n",
    "Skaler çarpım olsa, $b$'yi $A$'ya böler, muradımıza ererdik ama matrislerde bildiğimiz anlamda bir bölme yok. Biraz felsefi takılırsak, aslında $b$'yi $A$'ya bölmüyoruz, eşitliğin iki yanını da $A$nın çarpma işlemine göre ters elemanı ile çarpıyoruz -- skaler çarpımda bu işlemin tersi bölmeye denk geliyor, matrislerin çarpımında ise matrisin tersi ile çarpmaya, özetle, şöyle bir şey yaptığımız:\n",
    "\n",
    "$$A^{-1}\\cdot A\\cdot\\vec{x} = A^{-1}\\cdot \\vec{b}$$\n",
    "\n",
    "Yönler önemli, işlem sırası değil. $A^{-1}\\cdot A$ işlemini sıralamada öne alıp yaptığımızda, birim elemana dönüşüp eşitliğin sol yanında $\\vec{x}$'i yalnız bırakıyoruz, sağ taraf da bildiğimiz bir matris çarpımı, gayet kolay.\n",
    "\n",
    "Örneğimize dönersek, bu örneği iki farklı şekilde çözmüştük (biri diğerinin kestirmesiydi aslında). İlk olarak sağ tarafı, yukarı yazdığımız şekilde yazıp, $A$'nın tersi ile $b$'yi çarpımıştık:\n"
   ]
  },
  {
   "cell_type": "code",
   "execution_count": 2,
   "metadata": {},
   "outputs": [
    {
     "name": "stdout",
     "output_type": "stream",
     "text": [
      "[[1.]\n",
      " [2.]]\n"
     ]
    }
   ],
   "source": [
    "import numpy as np\n",
    "A = np.array([[3,2],[1,-1]])\n",
    "b = np.array([[7],[-1]])\n",
    "A_inv = np.linalg.inv(A)\n",
    "\n",
    "print(np.dot(A_inv,b))"
   ]
  },
  {
   "cell_type": "markdown",
   "metadata": {},
   "source": [
    "(eşitliğin sol tarafında $\\vec{x}$, yani $\\left( \\begin{matrix}x\\\\y\\end{matrix} \\right)$ olduğundan, birebir eşleşmeyle, $x$'in 1, $y$'nin 2 olduğunu hemen anlıyoruz.\n",
    "\n",
    "Diğer yöntem ise olayın arka planını, formülasyonu vs. atlayıp, sonuca odaklanmamızı sağlıyordu. Basitçe \"çöz\" (*solve*) deyip, keyfimize bakıyorduk:"
   ]
  },
  {
   "cell_type": "code",
   "execution_count": 2,
   "metadata": {},
   "outputs": [
    {
     "name": "stdout",
     "output_type": "stream",
     "text": [
      "[[1.]\n",
      " [2.]]\n"
     ]
    }
   ],
   "source": [
    "print(np.linalg.solve(A,b))"
   ]
  },
  {
   "cell_type": "markdown",
   "metadata": {},
   "source": [
    "Aynı 6. dersin sonrasında, bu sefer dönüş operatörünü gördük, nasıl bir şeydi? Şu şekil bir şeydi ($\\theta$ pozitif yönde, yani saat-yönünün tersine dönüşü işaret ediyor, aman dikkat!):\n",
    "\n",
    "$$R_{\\theta}=\\begin{bmatrix}\\cos{\\theta}&-\\sin{\\theta}\\\\\\sin{\\theta}&\\cos{\\theta}\\end{bmatrix}$$\n",
    "\n",
    "Bu dönüş matrisini kullanarak, iki boyutta istediğimiz herhangi bir $\\left( \\begin{matrix}x_0\\\\y_0\\end{matrix} \\right)$ noktasını istediğimiz $\\theta$ açısıyla çevirebiliyorduk, örneğin:"
   ]
  },
  {
   "cell_type": "code",
   "execution_count": 4,
   "metadata": {},
   "outputs": [
    {
     "name": "stdout",
     "output_type": "stream",
     "text": [
      "[[1.92128129]\n",
      " [3.07224319]]\n"
     ]
    }
   ],
   "source": [
    "theta = np.pi / 6\n",
    "R = np.array([[np.cos(theta),-np.sin(theta)],[np.sin(theta),np.cos(theta)]])\n",
    "p = np.array([[3.2],[1.7]])\n",
    "p_ussu =np.dot(R,p)\n",
    "print(p_ussu)"
   ]
  },
  {
   "cell_type": "markdown",
   "metadata": {},
   "source": [
    "Bakalım gerçekten 30 derece (nam-ı diğer: $\\pi/6$) döndürmüş mü? Nasıl anlarız?.. önce bir çizdirip bakalım (biraz yeni bir şeyler, çokça da kafamızı kullanıyoruz), sonra daha güzel bir şey yapalım:"
   ]
  },
  {
   "cell_type": "code",
   "execution_count": 7,
   "metadata": {
    "scrolled": false
   },
   "outputs": [
    {
     "name": "stdout",
     "output_type": "stream",
     "text": [
      "3.6235341863986883\n",
      "[0.48833395] [1.01193273]\n",
      "[30.]\n"
     ]
    },
    {
     "data": {
      "image/png": "[encoded data removed]",
      "text/plain": [
       "<matplotlib.figure.Figure at 0x7f5a8fdd3358>"
      ]
     },
     "metadata": {
      "needs_background": "light"
     },
     "output_type": "display_data"
    }
   ],
   "source": [
    "import matplotlib.pyplot as plt\n",
    "\n",
    "noktalar = np.empty((0,2))\n",
    "noktalar = np.append(noktalar,p.T,axis=0)\n",
    "noktalar = np.append(noktalar,p_ussu.T,axis=0)\n",
    "\n",
    "plt.xlim([0,4])\n",
    "plt.ylim([0,4])\n",
    "plt.plot(noktalar[:,0],noktalar[:,1],\"*\")\n",
    "\n",
    "# noktalarin merkeze uzakligini hesaplayalim\n",
    "r = np.linalg.norm(p)\n",
    "print(r)\n",
    "\n",
    "yay = np.empty((0,2))\n",
    "theta1 = np.arctan(p[1]/p[0])\n",
    "theta2 = np.arctan(p_ussu[1]/p_ussu[0])\n",
    "print (theta1,theta2)\n",
    "print(np.rad2deg(theta2-theta1))\n",
    "\n",
    "#for theta_0 in np.linspace(theta1,theta2,100):\n",
    "for theta_0 in np.linspace(0,np.pi/2,200):\n",
    "    #print(theta_0,r*np.cos(theta_0),r*np.sin(theta_0))\n",
    "    plt.plot(r*np.cos(theta_0),r*np.sin(theta_0),\".r\")\n",
    "#print(noktalar)\n",
    "\n",
    "plt.plot(noktalar[:,0],noktalar[:,1],\"*b\")\n",
    "plt.plot([0,noktalar[0,0]],[0,noktalar[0,1]],\"k-\")\n",
    "plt.plot([0,noktalar[1,0]],[0,noktalar[1,1]],\"k-\")\n",
    "plt.show()"
   ]
  },
  {
   "cell_type": "markdown",
   "metadata": {},
   "source": [
    "Gayet 30 derece gibi görünüyor, ama siz bilirsiniz. (İşte tam da aynı nedenden dolayı, bilimde genel olarak çizimleri değil de, sayısal değerleri baz alıyoruz). Sayısal değerlerin uğrak mekanı da lineer cebir. Örneğin $\\vec{a}$ ile $\\vec{b}$ vektörleri arasındaki açıyı hesaplamanızı istesem, aklınıza hemen skaler çarpımın formülü gelir (geliyor, değil mi?), ne de olsa:\n",
    "\n",
    "$$\\vec{a}\\cdot\\vec{b} = |\\vec{a}|\\,|\\vec{b}|\\,\\cos(\\theta)$$\n",
    "\n",
    "buradan $\\theta$'yı çekersek:\n",
    "\n",
    "$$\\theta = \\arccos\\left(\\frac{\\vec{a}\\cdot\\vec{b}}{|\\vec{a}|\\,|\\vec{b}|}\\right)$$\n",
    "\n",
    "hemen örneğimizde uygulayalım bunu:"
   ]
  },
  {
   "cell_type": "code",
   "execution_count": 5,
   "metadata": {},
   "outputs": [
    {
     "name": "stdout",
     "output_type": "stream",
     "text": [
      "[[30.]]\n"
     ]
    }
   ],
   "source": [
    "boy_p = np.linalg.norm(p)\n",
    "boy_p_ussu = np.linalg.norm(p_ussu)\n",
    "# (ikisi ayni boydalar tabii ki de! 8)\n",
    "\n",
    "aci = np.arccos(np.dot(p.T,p_ussu)/(boy_p*boy_p_ussu))\n",
    "# vektorlerimiz (2x1) boyutlarinda olduklarindan, \n",
    "# carpabilmek icin ilkini (1x2) haline getiriyoruz:\n",
    "# -> (1x2)*(2x1)\n",
    "print(np.rad2deg(aci))"
   ]
  },
  {
   "attachments": {
    "mindblown.jpg": {
     "image/jpeg": "[encoded data removed]"
    }
   },
   "cell_type": "markdown",
   "metadata": {},
   "source": [
    "## Matematik de bir yere kadar\n",
    "Peki sizce niye durup dururken bunları (\"*n* bilinmeyenli *n* denklemin çözümü\" ile \"bir noktayı döndürmek\") tekrardan hatırladık? İkisi de kendince güzel konular ama sonuçta tekrar ediyorsak bir sebebi olmalı. Soruya soruyla karşılık verirsek:\n",
    "\n",
    "_Denklemleri çözmek için katsayılar matrisinin tersi ile sonuç vektörünü çarpmakla, dönüş matrisini döndürmek istediğimiz noktaya vurdurmak arasında matematiksel olarak bir fark var mı?_\n",
    "\n",
    "(burada \"matematiksel olarak\" deyimini \"bilgisayar açısından\" diye okuyun)\n",
    "\n",
    "[![mindblown.jpg](attachment:mindblown.jpg)](https://www.youtube.com/watch?v=9CS7j5I6aOc)\n",
    "Mindblown!\n",
    "\n",
    "Bizim matrisleri ne amaçla çarptırdığımızın önemi bizde saklı - bilgisayara göre _hepsi aynı_ - bir matrisle, bir vektörü çarptırmak. Şu halde, en karmaşık denklemi bile bir noktayı döndürmek olarak düşünebilir, yorumlayabiliriz (birazdan bu tanıma bir küçük ekleme daha yapacağım), nasıl yaklaşırsak yaklaşalım, hepsi aynı kapıya çıkıyor zira.\n",
    "\n",
    "Peki hazır döndürmeyle ilgilenmekteyken, bir de boy değiştirmece özelliğini eklemeye çalışalım. Mesela, (1,1) noktasında bir noktamız olsun: bunun merkeze uzaklığının $\\sqrt{1^2 + 1^2} = \\sqrt{2}$ olduğunu, *x*-ekseni ile yaptığı açının da $45^o$ olduğunu hemen söyleyebiliriz. Bu noktanın yerini $\\vec{d}$ pozisyon vektörü ile gösterecek olursak kolayca: $\\vec{d} = \\hat{\\imath} + \\hat{\\jmath}$ olduğunu da biliriz. Vektörümüzü lineer cebir notasyonunda yazalım:\n",
    "\n",
    "$$\\vec{d} = \\left( \\begin{matrix}1\\\\1\\end{matrix} \\right)$$\n",
    "\n",
    "Bileşenlerin boyunu iki katına çıkartırsak, o zaman da şöyle bir şey olur:\n",
    "\n",
    "$$\\vec{d'} = \\left( \\begin{matrix}2\\\\2\\end{matrix} \\right)$$\n",
    "\n",
    "$(2\\times1)$lik $\\vec{d}$ vektörünü neyle çarpabiliriz ki bize $\\vec{d'}$yi versin? Sonucun da $(2\\times1)$ boyunda bir vektör olduğunu bildiğimize göre, çarpan şeyin boyutunun $(2\\times2)$lik bir matris olması şart. Hazırsanız cevabı yazıyorum:\n",
    "\n",
    "$$\\begin{bmatrix}2&0\\\\0&2\\end{bmatrix}_{(2\\times 2)}\\cdot\\left( \\begin{matrix}1\\\\1\\end{matrix} \\right)_{(2\\times 1)}= \\left(\\begin{matrix}2\\\\2\\end{matrix}\\right)_{(2\\times 1)}$$\n",
    "\n",
    "Rica ediyorum, şöyle bir arkanıza yaslanın, kafanızdan yukarıdaki çarpma işlemini yapın, çalıştığından emin olun. (1,1) noktası belki de çok basitti, hem simetrik, tam anlaşılmıyor. O yüzden gelin bir de (7,11) noktasına uygulayalım:\n",
    "\n",
    "$$\\begin{bmatrix}2&0\\\\0&2\\end{bmatrix}_{(2\\times 2)}\\cdot\\left( \\begin{matrix}7\\\\11\\end{matrix} \\right)_{(2\\times 1)}= \\left(\\begin{matrix}14\\\\22\\end{matrix}\\right)_{(2\\times 1)}$$\n",
    "\n",
    "siz işlemi yine kafanızdan teyit ededurun, biz de kompütere soralım arada:"
   ]
  },
  {
   "attachments": {
    "spak_zzt.jpg": {
     "image/jpeg": "[encoded data removed]"
    }
   },
   "cell_type": "markdown",
   "metadata": {},
   "source": [
    "[![spak_zzt.jpg](attachment:spak_zzt.jpg)](https://www.youtube.com/watch?v=CtdgC4AfWyo)\n",
    "_Mr. Spak Kabakulak!_ / Turist Ömer Uzay Yolunda (1973 -- Star Trek'in ilk filminin 1979 yılında çekildiğine dikkatinizi çekerim! 8) [dizi: 1966-1969]"
   ]
  },
  {
   "cell_type": "code",
   "execution_count": 6,
   "metadata": {},
   "outputs": [
    {
     "name": "stdout",
     "output_type": "stream",
     "text": [
      "[[2]\n",
      " [2]]\n",
      "---------------------------------------------\n",
      "[[14]\n",
      " [22]]\n"
     ]
    }
   ],
   "source": [
    "M2 = np.array([[2,0],[0,2]])\n",
    "d  = np.array([[1],[1]])\n",
    "\n",
    "print(np.dot(M2,d))\n",
    "print(\"-\"*45)\n",
    "p = np.array([[7],[11]])\n",
    "print(np.dot(M2,p))"
   ]
  },
  {
   "cell_type": "markdown",
   "metadata": {},
   "source": [
    "Doğru yani sonuçta, boy uzatma/kısaltma operatörü birim matrisinin istenen oranla çarpılması sonucunda oranın köşegenlere yerleştiği şekil.\n",
    "\n",
    "Peki o halde şuna da cevap verelim bakalım: önce $\\theta$ kadar döndürüp, sonra boyunu $k$ katına nasıl çıkarırız? \n",
    "\n",
    "Cevap zaten soruda saklı: önce *$\\theta$ kadar döndürün*, sonra *boyunu $k$ katına çıkarın* ;)\n",
    "\n",
    "$$\\left( \\begin{matrix}x_0'\\\\y_0'\\end{matrix} \\right)=\\begin{bmatrix}k&0\\\\0&k\\end{bmatrix}\\begin{bmatrix}\\cos{\\theta}&-\\sin{\\theta}\\\\\\sin{\\theta}&\\cos{\\theta}\\end{bmatrix}\\left( \\begin{matrix}x_0\\\\y_0\\end{matrix} \\right)$$\n",
    "\n",
    "Yukarıda da bahsettiğimiz üzere, yönler/yerler önemli, işlem sırası değil, o zaman yerleri değiştirmeden iki matrisi çarpalım:\n",
    "\n",
    "$$\\left( \\begin{matrix}x_0'\\\\y_0'\\end{matrix} \\right)=\\begin{bmatrix}k\\cos\\theta &-k\\sin\\theta\\\\k\\sin\\theta&k\\cos\\theta\\end{bmatrix}\\left( \\begin{matrix}x_0\\\\y_0\\end{matrix} \\right)$$\n",
    "\n",
    "Bir vektörü döndürdüğünüzde, boyu değişmez, bunu da dönüş operatörünün determinantının 1 olmasından anlıyoruz: $\\cos^2\\theta - (-sin^2\\theta) = \\cos^2\\theta+\\sin^2\\theta = 1$.\n",
    "\n",
    "O zaman elimizde bir başlangıç vektörü, bir de bitiş vektörü varsa, bu iki vektörü kullanarak, vektörün ne kadar döndürüldüğünü de, boyunun ne kadar değiştiğini de anlayabiliriz. Çünkü, iki boyut özelinde konuşursak, bileşke operatörümüzün $(2\\times2)$'lik bir matris olduğunu biliyoruz, dahası köşegendeki değerleri birbirine, köşegen dışı değerler de birbirinin eksilisine eşit. Örnek üzerinden gidelim:"
   ]
  },
  {
   "cell_type": "markdown",
   "metadata": {},
   "source": [
    "*Ayşe'nin merkezden (2,3) noktasına uzanan bir vektörü var, bir gün ona şaka yapmak isteyen Betül, Ayşe dışarıdayken, Ayşe'nin vektörünü $\\theta$ kadar döndürüp, $k$ kadar da boyunu değiştiriyor. Ayşe eve geldiğinde vektörünün bu yeni durumda merkezden (-2.69856,0.17404) noktasına uzandığını görüyorsa, Betül vektörü kaç derecelik açıyla döndürüp, boyunu ne kadar değiştirmiştir?*"
   ]
  },
  {
   "cell_type": "markdown",
   "metadata": {},
   "source": [
    "Önce ölçeklendirme katsayısı $k$'yı hesaplayalım: Bir vektörü ne kadar döndürürseniz döndürün, boyu değişmez. O halde başlangıçtaki ve sondaki vektörlerin boyunun oranı bize doğrudan $k$'yı verecek:"
   ]
  },
  {
   "cell_type": "code",
   "execution_count": 7,
   "metadata": {},
   "outputs": [
    {
     "name": "stdout",
     "output_type": "stream",
     "text": [
      "v1'in boyu : 3.605551275463989\n",
      "v2'nin boyu: 2.704166414109901\n",
      "boylarin orani: k=|v2|/|v1|: 0.7500008202662182\n"
     ]
    }
   ],
   "source": [
    "v1 = np.array([[2],[3]])\n",
    "v2 = np.array([[-2.69856],[0.17404]])\n",
    "\n",
    "v1_boy = np.linalg.norm(v1)\n",
    "v2_boy = np.linalg.norm(v2)\n",
    "print(\"v1'in boyu :\",v1_boy)\n",
    "print(\"v2'nin boyu:\",v2_boy)\n",
    "print(\"boylarin orani: k=|v2|/|v1|:\",v2_boy/v1_boy)"
   ]
  },
  {
   "cell_type": "markdown",
   "metadata": {},
   "source": [
    "Gördük ki, %75 oranında bir kısalma söz konusu, yani ölçek operatörü:\n",
    "\n",
    "$$\\begin{bmatrix}0.75&0\\\\0&0.75\\end{bmatrix}$$\n",
    "\n",
    "şeklinde, işlem zincirimiz ise an itibarı ile:\n",
    "\n",
    "$$\\left( \\begin{matrix}-2.69856\\\\0.17404\\end{matrix} \\right)=\\begin{bmatrix}0.75&0\\\\0&0.75\\end{bmatrix}\\begin{bmatrix}\\cos\\theta &-\\sin\\theta\\\\\\sin\\theta&\\cos\\theta\\end{bmatrix}\\left( \\begin{matrix}2\\\\3\\end{matrix} \\right)$$\n",
    "\n",
    "durumunda.\n",
    "\n",
    "Şimdi sıra, kaç derecelik açıyla döndürdüğüne geldi. Bunun için eşitliğin iki yanını soldan, ölçek operatörümüzün tersi ile çarpacağız. Bu durumda sol taraf:\n",
    "\n",
    "$$\\begin{bmatrix}0.75&0\\\\0&0.75\\end{bmatrix}^{-1}\\,\\left( \\begin{matrix}-2.69856\\\\0.17404\\end{matrix} \\right)$$\n",
    "\n",
    "sağ taraf ise:\n",
    "$$\\underbrace{\\begin{bmatrix}0.75&0\\\\0&0.75\\end{bmatrix}^{-1}\\,\\begin{bmatrix}0.75&0\\\\0&0.75\\end{bmatrix}}_{\\mathbb{1}}\\begin{bmatrix}\\cos\\theta &-\\sin\\theta\\\\\\sin\\theta&\\cos\\theta\\end{bmatrix}\\left( \\begin{matrix}2\\\\3\\end{matrix} \\right)=\\begin{bmatrix}\\cos\\theta &-\\sin\\theta\\\\\\sin\\theta&\\cos\\theta\\end{bmatrix}\\left( \\begin{matrix}2\\\\3\\end{matrix} \\right)$$\n",
    "\n",
    "olacak.\n",
    "\n",
    "Sol tarafı hesaplattıralım bakalım:"
   ]
  },
  {
   "cell_type": "code",
   "execution_count": 8,
   "metadata": {},
   "outputs": [
    {
     "name": "stdout",
     "output_type": "stream",
     "text": [
      "[[0.75 0.  ]\n",
      " [0.   0.75]]\n",
      "---------------------------------------------\n",
      "[[1.33333333 0.        ]\n",
      " [0.         1.33333333]]\n",
      "---------------------------------------------\n",
      "[[-3.59808   ]\n",
      " [ 0.23205333]]\n"
     ]
    }
   ],
   "source": [
    "K = 0.75*np.eye(2,2)\n",
    "print(K)\n",
    "print(\"-\"*45)\n",
    "\n",
    "K_ters = np.linalg.inv(K)\n",
    "print(K_ters)\n",
    "print(\"-\"*45)\n",
    "\n",
    "K_ters_x_v2 = np.dot(K_ters,v2)\n",
    "print(K_ters_x_v2)"
   ]
  },
  {
   "cell_type": "markdown",
   "metadata": {},
   "source": [
    "Sağ tarafın çarpma işlemini yaparsak:\n",
    "\n",
    "$$\\begin{bmatrix}\\cos\\theta &-\\sin\\theta\\\\\\sin\\theta&\\cos\\theta\\end{bmatrix}\\left( \\begin{matrix}2\\\\3\\end{matrix} \\right) = \\left( \\begin{matrix}2\\cos\\theta-3\\sin\\theta\\\\2\\sin\\theta+3\\cos\\theta\\end{matrix} \\right)$$"
   ]
  },
  {
   "cell_type": "markdown",
   "metadata": {},
   "source": [
    "bunu da $\\cos\\theta$ ve $\\sin\\theta$ terimleri cinsinden yazarsak:\n",
    "\n",
    "$$\\left( \\begin{matrix}2\\cos\\theta-3\\sin\\theta\\\\2\\sin\\theta+3\\cos\\theta\\end{matrix} \\right)=\\begin{bmatrix}2&-3\\\\3&2\\end{bmatrix}\\left( \\begin{matrix}\\cos\\theta\\\\\\sin\\theta\\end{matrix} \\right) $$\n",
    "\n",
    "(herkes görebildi mi?)"
   ]
  },
  {
   "cell_type": "markdown",
   "metadata": {},
   "source": [
    "İki tarafı birbirine eşitlediğimizde ise:\n",
    "\n",
    "$$\\left( \\begin{matrix}-3.59808 \\\\0.23205333 \\end{matrix} \\right) =\\begin{bmatrix}2&-3\\\\3&2\\end{bmatrix}\\left( \\begin{matrix}\\cos\\theta\\\\\\sin\\theta\\end{matrix} \\right)$$\n",
    "\n",
    "e kaldı ki, bu tam da en başta yaptığımız iki bilinmeyenli iki denklemin çözümü. Hemen çözelim o zaman (buradaki bilinmeyenlerimiz $\\cos\\theta$ ve $\\sin\\theta$):"
   ]
  },
  {
   "cell_type": "code",
   "execution_count": 9,
   "metadata": {},
   "outputs": [
    {
     "name": "stdout",
     "output_type": "stream",
     "text": [
      "cos(t): -0.5000000007692308 \n",
      "sin(t): 0.8660266661538462\n",
      "120.0000000508919\n",
      "60.00014465719476\n"
     ]
    }
   ],
   "source": [
    "A = np.array([[2,-3],[3,2]])\n",
    "b = np.array([[-3.59808],[0.23205333]])\n",
    "\n",
    "[[cost],[sint]] = np.linalg.solve(A,b)\n",
    "print(\"cos(t):\",cost,\"\\nsin(t):\",sint)\n",
    "\n",
    "theta_c = np.rad2deg(np.arccos(cost))\n",
    "print(theta_c)\n",
    "\n",
    "theta_s = np.rad2deg(np.arcsin(sint))\n",
    "print(theta_s)"
   ]
  },
  {
   "cell_type": "markdown",
   "metadata": {},
   "source": [
    "Kosinüsü $-1/2$, sinüsü ise $\\frac{\\sqrt{3}}{2} = 0.86603$ olan bir açı arıyoruz. İlkini 120 ile 210 dereceler, ikincisini ise 60 ile 120 dereceler karşılıyor. Kosinüsün negatif, sinüsün pozitif olduğu bölge II. bölge olduğundan, cevabımız: 120 derece olarak bulunuyor. Demek ki Betül, Ayşe'nin vektörünü 120 derece çevirip, boyunu da %75 oranında kısaltmış.\n",
    "\n",
    "Bu işi yaparken kullandığı birleşik, ikisi bir arada, yıkıyorum-çıkıyorum operatörünün matris temsili şu şekilde oluyor haliyle:"
   ]
  },
  {
   "cell_type": "code",
   "execution_count": 13,
   "metadata": {},
   "outputs": [
    {
     "name": "stdout",
     "output_type": "stream",
     "text": [
      "[[-0.375      -0.64951905]\n",
      " [ 0.64951905 -0.375     ]]\n"
     ]
    }
   ],
   "source": [
    "K = 0.75*np.eye(2,2)\n",
    "theta = np.deg2rad(120)\n",
    "R = np.array([[np.cos(theta),-np.sin(theta)],[np.sin(theta),np.cos(theta)]])\n",
    "KR = np.dot(K,R)\n",
    "print(KR)"
   ]
  },
  {
   "cell_type": "markdown",
   "metadata": {},
   "source": [
    "$$\\begin{bmatrix}0.75&0\\\\0&0.75\\end{bmatrix}\\begin{bmatrix}\\cos{120^o} &-\\sin{120^o}\\\\\\sin{120^o}&\\cos{120^o}\\end{bmatrix}=\\begin{bmatrix}-0.37500&-0.64952\\\\0.64952&-0.37500\\end{bmatrix}$$\n",
    "\n",
    "Sağlamamızı yapalım:"
   ]
  },
  {
   "cell_type": "code",
   "execution_count": 15,
   "metadata": {},
   "outputs": [
    {
     "name": "stdout",
     "output_type": "stream",
     "text": [
      "[[-2.69855716]\n",
      " [ 0.17403811]]\n",
      "[[-2.69856]\n",
      " [ 0.17404]]\n"
     ]
    }
   ],
   "source": [
    "print(np.dot(KR,v1))\n",
    "print(v2)"
   ]
  },
  {
   "cell_type": "markdown",
   "metadata": {},
   "source": [
    "**Ödev: KR operatörünün rastgele ürettiğiniz 10 vektörün hepsini de $120^o$ döndürüp, boyunu da %75 kısalttığını teyit edin.**\n",
    "\n",
    "**(300 puanlık) Bonus: KR operatörün verilen <u><span style=\"color:red;\">her</span></u> vektörü $120^o$ döndürüp, boyunu da %75 kısalttığını <u><span style=\"color:red;\">ispatlayın</span></u>.**"
   ]
  },
  {
   "cell_type": "markdown",
   "metadata": {},
   "source": [
    "## Sorunlar, sorunsallar..."
   ]
  },
  {
   "cell_type": "markdown",
   "metadata": {},
   "source": [
    "Tabii ki her matris işlemi bu şekilde düzgün davranmaz. Örnek olarak şuna bir bakalım:\n",
    "\n",
    "$$\\begin{bmatrix}2&3\\\\4&5\\end{bmatrix}$$\n",
    "\n",
    "-Hızlıca- yukarıdaki örnekte takip ettiğimiz akıl yolunu izleyelim: $\\vec{p}=\\left( \\begin{matrix}1\\\\0\\end{matrix} \\right)$ vektörüne vurdurduğumuzda:\n",
    "\n",
    "$$\\vec{p}' = \\begin{bmatrix}2&3\\\\4&5\\end{bmatrix}\\left( \\begin{matrix}1\\\\0\\end{matrix} \\right) = \\left( \\begin{matrix}2\\\\4\\end{matrix} \\right)$$"
   ]
  },
  {
   "cell_type": "code",
   "execution_count": 66,
   "metadata": {},
   "outputs": [
    {
     "name": "stdout",
     "output_type": "stream",
     "text": [
      "[[2]\n",
      " [4]]\n",
      "4.47213595499958\n"
     ]
    }
   ],
   "source": [
    "A = np.array([[2,3],[4,5]])\n",
    "p = np.array([[1],[0]])\n",
    "p_ussu = np.dot(A,p)\n",
    "print(p_ussu)\n",
    "p_ussu_boy = np.linalg.norm(p_ussu)\n",
    "print(p_ussu_boy)"
   ]
  },
  {
   "cell_type": "markdown",
   "metadata": {},
   "source": [
    "Yeni vektörün uzama oranı: $\\sqrt{2^2+4^2}=2\\sqrt5 = 4.47213595499958$"
   ]
  },
  {
   "cell_type": "markdown",
   "metadata": {},
   "source": [
    "Dönüş operatörü: "
   ]
  },
  {
   "cell_type": "code",
   "execution_count": 68,
   "metadata": {},
   "outputs": [
    {
     "name": "stdout",
     "output_type": "stream",
     "text": [
      "[[0.4472136  0.67082039]\n",
      " [0.89442719 1.11803399]]\n"
     ]
    }
   ],
   "source": [
    "K=np.sqrt(20)*np.eye(2,2)\n",
    "K_ters = np.linalg.inv(K)\n",
    "R = np.dot(K_ters,A)\n",
    "print(R)"
   ]
  },
  {
   "cell_type": "markdown",
   "metadata": {},
   "source": [
    "Siz sinüsü -0.671 ve 0.894; kosinüsü de aynı anda hem 0.447, hem de 1.118(!!!) olan bir açı biliyor musunuz? Ben bilemiyorum.\n",
    "\n",
    "\n",
    "İşin kötüsü, gariplikler burada da bitmiyor. Dönüşüm matrisimizi $\\vec{p}=\\left( \\begin{matrix}1\\\\0\\end{matrix} \\right)$ vektörü yerine, bu sefer $\\vec{q}=\\left( \\begin{matrix}1\\\\1\\end{matrix} \\right)$ vektörüne vurdurup, yeni vektörün boyunun ölçüsünü alalım:"
   ]
  },
  {
   "cell_type": "code",
   "execution_count": 16,
   "metadata": {},
   "outputs": [
    {
     "name": "stdout",
     "output_type": "stream",
     "text": [
      "1.4142135623730951\n",
      "[[5]\n",
      " [9]]\n",
      "10.295630140987\n",
      "---------------------------------------------\n",
      "7.280109889280518\n"
     ]
    }
   ],
   "source": [
    "A = np.array([[2,3],[4,5]])\n",
    "q = np.array([[1],[1]])\n",
    "q_boy = np.linalg.norm(q)\n",
    "print(q_boy)\n",
    "q_ussu = np.dot(A,q)\n",
    "print(q_ussu)\n",
    "q_ussu_boy = np.linalg.norm(q_ussu)\n",
    "print(q_ussu_boy)\n",
    "print(\"-\"*45)\n",
    "print(q_ussu_boy/q_boy)"
   ]
  },
  {
   "cell_type": "markdown",
   "metadata": {},
   "source": [
    "Yeni vektörün uzama oranı: 7.28. Yani bir nevi nabza göre şerbet veriyor. Vektörümüz (1,0)sa 4.47 oranında uzatıyor, yok (1,1) ise 7.28.. Bunları sineye çekip, vektör başına ne kadar döndürdüğünü sorsak, o da muamma...\n",
    "\n",
    "Baştaki örneğe dönelim: (1,0)'ı (2,4)'e taşımıştı, büyütme oranını 4.47 hesaplayıp, açıyı sayısal olarak bulmaya kalktığımızda *garip* şeylerle karşılaşmıştık. Halbuki kafamızı kullanarak o vektör için uygulanan dönüş açısını bulabiliriz:"
   ]
  },
  {
   "cell_type": "code",
   "execution_count": 39,
   "metadata": {},
   "outputs": [
    {
     "data": {
      "image/png": "[encoded data removed]",
      "text/plain": [
       "<matplotlib.figure.Figure at 0x7f76e45b5cc0>"
      ]
     },
     "metadata": {
      "needs_background": "light"
     },
     "output_type": "display_data"
    }
   ],
   "source": [
    "plt.arrow(0,0,1,0,color=\"blue\",head_width=0.2,length_includes_head=True)\n",
    "plt.arrow(0,0,2,4,color=\"red\",head_width=0.2,length_includes_head=True)\n",
    "plt.xlim(-1,3)\n",
    "plt.ylim(-1,5)\n",
    "plt.show()"
   ]
  },
  {
   "cell_type": "markdown",
   "metadata": {},
   "source": [
    "Vektörler bariz, aradaki açıyı yine eski usül, skaler çarpımdan hesaplayalım:"
   ]
  },
  {
   "cell_type": "code",
   "execution_count": 42,
   "metadata": {},
   "outputs": [
    {
     "name": "stdout",
     "output_type": "stream",
     "text": [
      "Açı: 63.43494882292201 derece\n"
     ]
    }
   ],
   "source": [
    "v1 = np.array([1,0])\n",
    "#v2 = np.array([2,4])\n",
    "v2 = np.dot(A,v1)\n",
    "v1_boy = np.linalg.norm(v1)\n",
    "v2_boy = np.linalg.norm(v2)\n",
    "aci = np.rad2deg(np.arccos(np.dot(v1,v2)/(v1_boy*v2_boy)))\n",
    "print(\"Açı:\",aci,\"derece\")"
   ]
  },
  {
   "cell_type": "markdown",
   "metadata": {},
   "source": [
    "(isteyince oluyormuş demek ki 8).\n",
    "\n",
    "(1,1)i (5,9)a götürdüğünde ne kadar çeviriyormuş, ona da bakalım:"
   ]
  },
  {
   "cell_type": "code",
   "execution_count": 9,
   "metadata": {},
   "outputs": [
    {
     "name": "stdout",
     "output_type": "stream",
     "text": [
      "Açı: 45.00000000000001 derece\n"
     ]
    }
   ],
   "source": [
    "v1 = np.array([1,1])\n",
    "#v2 = np.array([5,9])\n",
    "v2 = np.dot(A,v1)\n",
    "v1_boy = np.linalg.norm(v1)\n",
    "v2_boy = np.linalg.norm(v2)\n",
    "aci = np.rad2deg(np.arccos(np.dot(v1,v2)/(v1_boy*v2_boy)))\n",
    "print(\"Açı:\",aci,\"derece\")"
   ]
  },
  {
   "cell_type": "markdown",
   "metadata": {},
   "source": [
    "Buradan şunu görüyoruz: (1,1)'i, (1,0)'dan çok daha az çeviriyor.\n",
    "\n",
    "Şöyle bir oyun oynayalım o halde: (1,0)'dan başlayalım, *x*-ekseniyle yaptığı açıyı hesaplayalım ($0^o$), sonra operatörü vurduralım, türettiğimiz vektörün *x*-ekseniyle yaptığı açıyı hesaplayalım, sonra bir daha vurduralım, bu şekilde *n* kere tekrar edelim, bakalım nereye varacağız:"
   ]
  },
  {
   "cell_type": "code",
   "execution_count": 46,
   "metadata": {},
   "outputs": [
    {
     "name": "stdout",
     "output_type": "stream",
     "text": [
      "Açı: 0.0\n",
      "Açı: 63.43494882292201\n",
      "Açı: 60.25511870305778\n",
      "Açı: 60.376251248826186\n",
      "Açı: 60.37167490861922\n",
      "Açı: 60.37184784907869\n",
      "Açı: 60.371841313706504\n",
      "Açı: 60.371841560676515\n",
      "Açı: 60.37184155134358\n",
      "Açı: 60.371841551696264\n",
      "Açı: 60.371841551682934\n"
     ]
    }
   ],
   "source": [
    "n = 10\n",
    "v1 = np.array([1,0])\n",
    "v1_boy = np.linalg.norm(v1)\n",
    "v1_aci = np.rad2deg(np.arctan2(v1[1],v1[0]))\n",
    "print(\"Açı:\",v1_aci)\n",
    "for i in range(n):\n",
    "    v1 = np.dot(A,v1)\n",
    "    v1_boy = np.linalg.norm(v2)\n",
    "    v1_aci = np.rad2deg(np.arctan2(v1[1],v1[0]))\n",
    "    print(\"Açı:\",v1_aci)\n",
    "    "
   ]
  },
  {
   "cell_type": "markdown",
   "metadata": {},
   "source": [
    "ilginç... türetilen vektörler belli bir açıya ($60.372^o$) yakınsıyor. Başka bir başlangıç noktasından (örneğin (1,1)'den) başlayalım:"
   ]
  },
  {
   "cell_type": "code",
   "execution_count": 47,
   "metadata": {},
   "outputs": [
    {
     "name": "stdout",
     "output_type": "stream",
     "text": [
      "Açı: 45.0\n",
      "Açı: 60.94539590092286\n",
      "Açı: 60.35013649242442\n",
      "Açı: 60.37266173752195\n",
      "Açı: 60.371810557014264\n",
      "Açı: 60.37184272296377\n",
      "Açı: 60.37184150742105\n",
      "Açı: 60.371841553356084\n",
      "Açı: 60.371841551620214\n",
      "Açı: 60.37184155168581\n",
      "Açı: 60.37184155168333\n"
     ]
    }
   ],
   "source": [
    "n = 10\n",
    "v1 = np.array([1,1])\n",
    "v1_boy = np.linalg.norm(v1)\n",
    "v1_aci = np.rad2deg(np.arctan2(v1[1],v1[0]))\n",
    "print(\"Açı:\",v1_aci)\n",
    "for i in range(n):\n",
    "    v1 = np.dot(A,v1)\n",
    "    v1_boy = np.linalg.norm(v2)\n",
    "    v1_aci = np.rad2deg(np.arctan2(v1[1],v1[0]))\n",
    "    print(\"Açı:\",v1_aci)"
   ]
  },
  {
   "cell_type": "markdown",
   "metadata": {},
   "source": [
    "!!! \n",
    "\n",
    "Aynı yere ulaştık! İyice kafadan uydurup, oradan başlayalım:"
   ]
  },
  {
   "cell_type": "code",
   "execution_count": 21,
   "metadata": {},
   "outputs": [
    {
     "name": "stdout",
     "output_type": "stream",
     "text": [
      "[14 65]\n",
      "Açı: 77.84505830277777\n",
      "Açı: 59.65948299863219\n",
      "Açı: 60.39871684728899\n",
      "Açı: 60.37082587573462\n",
      "Açı: 60.37187993371818\n",
      "Açı: 60.37184010123624\n",
      "Açı: 60.371841606495444\n",
      "Açı: 60.371841549612085\n",
      "Açı: 60.3718415517617\n",
      "Açı: 60.37184155168047\n",
      "Açı: 60.37184155168353\n"
     ]
    }
   ],
   "source": [
    "n = 10\n",
    "v1 = np.random.randint(low=0,high=100,size=2)\n",
    "print(v1)\n",
    "v1_boy = np.linalg.norm(v1)\n",
    "v1_aci = np.rad2deg(np.arctan2(v1[1],v1[0]))\n",
    "print(\"Açı:\",v1_aci)\n",
    "for i in range(n):\n",
    "    v1 = np.dot(A,v1)\n",
    "    v1_boy = np.linalg.norm(v1)\n",
    "    v1_aci = np.rad2deg(np.arctan2(v1[1],v1[0]))\n",
    "    print(\"Açı:\",v1_aci)"
   ]
  },
  {
   "cell_type": "markdown",
   "metadata": {},
   "source": [
    "Hepsinde de aynı yere varıyoruz!\n",
    "\n",
    "Akla çok doğal bir soru geliyor: ilk vektörümüzü doğrudan bu açılı çizginin üzerinde bir vektör versem, onu dönüştürmeye kalktığımda ne elde ederim? Hemen bakalım:"
   ]
  },
  {
   "cell_type": "code",
   "execution_count": 72,
   "metadata": {},
   "outputs": [
    {
     "name": "stdout",
     "output_type": "stream",
     "text": [
      "[1.         1.75830574]\n",
      "Açı: 60.371841551683396\n",
      "---------------------------------------------\n",
      "[ 7.27491722 12.7915287 ]\n",
      "Açı: 60.37184155168343\n"
     ]
    }
   ],
   "source": [
    "theta = 60.371841551683396\n",
    "v_x = 1\n",
    "v_y = v_x*np.tan(np.deg2rad(theta))\n",
    "v = np.array([v_x,v_y])\n",
    "print(v)\n",
    "aci = np.rad2deg(np.arctan2(v[1],v[0]))\n",
    "print(\"Açı:\",aci)\n",
    "print(\"-\"*45)\n",
    "v_ussu = np.dot(A,v)\n",
    "print(v_ussu)\n",
    "aci = np.rad2deg(np.arctan2(v_ussu[1],v_ussu[0]))\n",
    "print(\"Açı:\",aci)"
   ]
  },
  {
   "cell_type": "markdown",
   "metadata": {},
   "source": [
    "Bu doğrultuda verdiğimizde vektörümüzün yönü değişmedi, sadece boyu değişti, değişim oranını da hesaplayalım:"
   ]
  },
  {
   "cell_type": "code",
   "execution_count": 73,
   "metadata": {},
   "outputs": [
    {
     "name": "stdout",
     "output_type": "stream",
     "text": [
      "[7.27491722 7.27491722]\n"
     ]
    }
   ],
   "source": [
    "boy_degisim_orani = v_ussu/v\n",
    "print(boy_degisim_orani)"
   ]
  },
  {
   "cell_type": "markdown",
   "metadata": {},
   "source": [
    "$x$ bileşeni de, $y$ bileşeni de 7.275 katına çıkmış. Bu süreci şu şekilde yazabiliriz demek oluyor bu:"
   ]
  },
  {
   "cell_type": "markdown",
   "metadata": {},
   "source": [
    "$$\\vec{p}' = A\\cdot\\vec{p}= \\begin{bmatrix}2&3\\\\4&5\\end{bmatrix}\\left( \\begin{matrix}1\\\\1.7583\\end{matrix} \\right) = \\left( \\begin{matrix}7.275\\\\12.792\\end{matrix} \\right)=7.275\\left( \\begin{matrix}1\\\\1.7583\\end{matrix} \\right)$$"
   ]
  },
  {
   "cell_type": "markdown",
   "metadata": {},
   "source": [
    "Yani, bu özel yöndeki vektöre, dönüşüm operatörünü vurdurduğumuzda, vektörün yönü değişmeyip, sadece boyu değişiyor. Bir operatör için böyle bir vektör bulursak, o vektöre, o operatörün **özvektörü** (*eigenvector*); boydaki değişim oranına da o operatörün **özdeğeri** (*eigenvalue*) deriz.\n",
    "\n",
    "**Bariz bilgi:** Eğer $\\left( \\begin{matrix}x_1\\\\y_1\\end{matrix} \\right)$, bir $A$ operatörünün $\\lambda$ özdeğerli özvektörü ise, $r\\in\\mathbb{C}$ olmak üzere, $\\left( \\begin{matrix}r.x_1\\\\r.y_1\\end{matrix} \\right)$ da aynı operatörün aynı özdeğerli özvektörüdür:\n",
    "\n",
    "$$A\\left( \\begin{matrix}x_1\\\\y_1\\end{matrix} \\right)=\\lambda \\left( \\begin{matrix}x_1\\\\y_1\\end{matrix} \\right)\\\\\n",
    "A\\left( \\begin{matrix}r.x_1\\\\r.y_1\\end{matrix} \\right)=\\lambda \\left( \\begin{matrix}r.x_1\\\\r.y_1\\end{matrix} \\right)$$"
   ]
  },
  {
   "cell_type": "markdown",
   "metadata": {},
   "source": [
    "**Ödev: $A=\\begin{bmatrix}2&3\\\\4&5\\end{bmatrix}$ operatörü için:**\n",
    "  * $\\left( \\begin{matrix}-0.49437\\\\-0.86925\\end{matrix} \\right)$,\n",
    "  * $\\left( \\begin{matrix}-0.79681\\\\0.60423\\end{matrix} \\right)$  \n",
    "  \n",
    "vektörlerini inceleyin. Bunlar özvektör ise, özdeğerlerini hesaplayıp, yukarıda bulduğumuz $\\left( \\begin{matrix}1\\\\1.7583\\end{matrix} \\right)$ özvektörü ile karşılaştırın."
   ]
  },
  {
   "cell_type": "markdown",
   "metadata": {},
   "source": [
    "**Ödev: $90^0$ dönüş operatörünün özvektörünü ve özdeğerini bulun (bulamazsanız da yorumlayın (50 puan); bulursanız da (100 puan!))**"
   ]
  },
  {
   "cell_type": "markdown",
   "metadata": {},
   "source": [
    "## Özdeğer ve özvektörlerin kısa yoldan bulunması\n",
    "Özdeğer ve özvektörler başta klasik mekanik ve kuantum mekaniği olmak üzere fizikte çok önemlidirler çünkü her şeyi dönüştüren bir işlemi \"ehlileştiren\" bir özel durumu işaret ederler. Bu özel durum, karmaşık (dolaşık, iç içe geçmiş) bir denklem sistemini, birbirinden bağımsız denklemler cinsinden ayırıp, ifade etmemizi, tek tek basitçe çözmemizi sağlarlar (ek olarak uygulamaların olduğu bir notu ekleyeceğim). Matris işlemlerini verilen girdiye bağlı parametreleri olan bir dönüş ve boyut değiştiriş olarak düşünürsek, aslında yaptığımız iş yukarıda da anlatmaya çalıştığımız üzere, bu işlemden yönel olarak etkilenmeyen özel vektörler (yönler) bulmaktan ibaret.\n",
    "\n",
    "Gerek fizikte, gerekse matematikte özdeğer ve özvektörlerin bulunması çoğu zaman epey kritik olduğundan, bu işi bizler için yapan fonksiyonların olması da kaçınılmazdır:"
   ]
  },
  {
   "cell_type": "code",
   "execution_count": 93,
   "metadata": {},
   "outputs": [
    {
     "name": "stdout",
     "output_type": "stream",
     "text": [
      "[[2 3]\n",
      " [4 5]]\n",
      "\n",
      "Özdeğerler:  [-0.27491722  7.27491722] \n",
      "-----\n",
      "Özvektörler:\n",
      " [[-0.79681209 -0.49436913]\n",
      " [ 0.60422718 -0.86925207]]\n"
     ]
    }
   ],
   "source": [
    "A = np.array([[2,3],[4,5]])\n",
    "print(A)\n",
    "print()\n",
    "[ozdegerler,ozvektorler] = np.linalg.eig(A)\n",
    "print(\"Özdeğerler: \",ozdegerler,\"\\n-----\\nÖzvektörler:\\n\",l)"
   ]
  },
  {
   "cell_type": "code",
   "execution_count": 91,
   "metadata": {},
   "outputs": [
    {
     "name": "stdout",
     "output_type": "stream",
     "text": [
      "[-0.79681209  0.60422718]\n",
      "[-0.21905736  0.16611246]\n",
      "0.27491721763537486\n",
      "[-0.79681209  0.60422718]\n",
      "---------------------------------------------\n",
      "[-0.49436913 -0.86925207]\n",
      "[3.59649447 6.32373687]\n",
      "7.274917217635375\n",
      "[0.49436913 0.86925207]\n"
     ]
    }
   ],
   "source": [
    "# Sağlamasını yapalim:\n",
    "ozv_1 = ozvektorler[:,0]\n",
    "print(ozv_1)\n",
    "s_1 = -np.dot(A,ozv_1)\n",
    "print(s_1)\n",
    "l_1 = np.linalg.norm(s_1)\n",
    "print(l_1)\n",
    "print(s_1/l_1)\n",
    "\n",
    "print(\"-\"*45)\n",
    "\n",
    "ozv_2 = ozvektorler[:,1]\n",
    "print(ozv_2)\n",
    "s_2 = -np.dot(A,ozv_2)\n",
    "print(s_2)\n",
    "l_2 = np.linalg.norm(s_2)\n",
    "print(l_2)\n",
    "print(s_2/l_2)"
   ]
  },
  {
   "cell_type": "markdown",
   "metadata": {},
   "source": [
    "# Tavsiyeler:\n",
    "* [3Blue1Brown, \"Linear transformations and matrices\"](https://www.youtube.com/watch?v=kYB8IZa5AuE&list=PLZHQObOWTQDPD3MizzM2xVFitgF8hE_ab&index=3)\n",
    "* [Zach Star, \"The Applications of Matrices | What I wish my teachers told me way earlier\"](https://www.youtube.com/watch?v=rowWM-MijXU)\n",
    "* [Zach Star, \"The applications of eigenvectors and eigenvalues | That thing you heard in Endgame has other uses\"](https://www.youtube.com/watch?v=i8FukKfMKCI)"
   ]
  },
  {
   "cell_type": "code",
   "execution_count": null,
   "metadata": {},
   "outputs": [],
   "source": []
  }
 ],
 "metadata": {
  "kernelspec": {
   "display_name": "Python 3",
   "language": "python",
   "name": "python3"
  },
  "language_info": {
   "codemirror_mode": {
    "name": "ipython",
    "version": 3
   },
   "file_extension": ".py",
   "mimetype": "text/x-python",
   "name": "python",
   "nbconvert_exporter": "python",
   "pygments_lexer": "ipython3",
   "version": "3.8.5"
  }
 },
 "nbformat": 4,
 "nbformat_minor": 2
}
