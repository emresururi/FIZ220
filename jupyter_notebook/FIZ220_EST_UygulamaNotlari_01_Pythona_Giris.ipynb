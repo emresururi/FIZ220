{
 "cells": [
  {
   "cell_type": "markdown",
   "metadata": {},
   "source": [
    "# Uygulama Notları: 1\n",
    "## FİZ220 - Bilgisayar Programlama II | 06/03/2020\n",
    "**Python'la 'Merhaba Dünya!'**\n",
    "\n",
    "* Python'a Giriş\n",
    " * Python hakkında çok kısa bilgi\n",
    " * Python'ın popülerliği\n",
    " * Hangi Python IDE'sini kullanmalıyız?\n",
    "* Jupyter ortamı\n",
    " * Hücreler\n",
    "* Python kütüphaneleri\n",
    "* Jupyter sayfanızı aktarma\n",
    " \n",
    "Dr. Emre S. Taşcı, emre.tasci@hacettepe.edu.tr  \n",
    "Fizik Mühendisliği Bölümü  \n",
    "Hacettepe Üniversitesi"
   ]
  },
  {
   "cell_type": "markdown",
   "metadata": {},
   "source": [
    "# Python'a Giriş\n",
    "## Python hakkında çok kısa bilgi\n",
    "Python dili 1990 yılında, Guido van Rossum tarafından geliştirilmiştir. Yüksek seviye bir dil olup, işlemci tarafında pek çok zahmetli işlem (örn. _hafıza ayarlamaları, çöp toplama_) sistem tarafından otomatik olarak halledilmektedir. Ayrıca nesne tabanlı bir yapıya sahiptir (daha da ileri gidersek: Python'da hemen hemen **her şey** bir nesnedir).\n",
    "\n",
    "Dil, ismini İngiliz anarşist komedi topluluğu [Monty Python](https://en.wikipedia.org/wiki/Monty_Python)'dan almaktadır (hatta, bizzat van Rossum'un örneklerde kullanılacak değişken ve durumların da grubun skeçlerinden seçilmesi konusunda ricası vardır)."
   ]
  },
  {
   "cell_type": "markdown",
   "metadata": {},
   "source": [
    "## Python'ın popülerliği\n",
    "\n",
    "Yaygın kütüphane desteği ve internetin doğrudan işletim sistemlerinde kaynak olarak kullanımının önünün açılması sonucu 2000'li yıllardan itibaren \"en çok kullanılan diller\" listelerinde hep üst sıraya yerleşmiştir. Bu listelerde kriter sayılan [TIOBE endeksinde](https://www.tiobe.com/tiobe-index/) Python, Java (%17.8) ve C'den (%16.3) sonra %10.1'lik kullanımla 3. sırada yer almaktadır ve [yükselişini kararlı bir biçimde sürdürmektedir](https://www.tiobe.com/tiobe-index/python/). GitHub ve Stack Overflow istatistiklerinden yola çıkılarak hazırlanan bir diğer endeks olan [RedMonk sıralamasında](https://redmonk.com/sogrady/2020/02/28/language-rankings-1-20/) ise Ocak 2020 itibarı ile JavaScript ile birinciliğe başabaş oynamaktadır. İnternette en çok başlangıç ve tanıtımları ziyaret edilen diller üzerinden sıralama yapan PYPL endeksinde ise açık ara ile (Python: %30.1; Java: %18.8) birinci sıradadır. _(Bütün istatistikler 2020 Mart ayı açıklamalarına dairdir)_"
   ]
  },
  {
   "cell_type": "markdown",
   "metadata": {},
   "source": [
    "## Hangi Python IDE'sini kullanmalıyız?\n",
    "Temel olarak Python yorumlanarak çalışan (\"interpreted\") bir dil olduğundan, bir yorumcuya (\"interpreter\") ihtiyaç duyar. Python'ın kendisi ile gelen _IDLE_ IDE'si temelde iş görse de, yaşamı kolaylaştırıcı pek çok özellikten mahrumdur. Bu nedenle, zorunlu durumlar dışında pek kullanılmaz.\n",
    "\n",
    "Python'da program geliştirmek için yoğun olarak [PyCharm](https://www.jetbrains.com/pycharm/) ve [IPython](https://ipython.org/) IDE'lerini kullanmaktadırlar. [Anaconda](https://www.anaconda.com/) ise, IPython IDE'sini (Jupyter üzerinden) ve pek çok popüler sayısal analiz kütüphanesini içinde barındıran bir yazılım paketi olup, kullanım kolaylığı açısından benim de tavsiye ettiğim IDE'dir.\n",
    "\n",
    "Jupyter yoluyla bir web tarayıcısında yazılan Jupyter defterleri (_ipynb - IPython Notebooks_) gerek görsel, gerekse kullanım açısından gerçekten de akıcı bir geliştirmeye olanak tanır (bu uygulama notları da bizzat Jupyter ile hazırlanmaktadır 8)."
   ]
  },
  {
   "cell_type": "markdown",
   "metadata": {},
   "source": [
    "# Jupyter ortamı\n",
    "## Hücreler\n",
    "Jupyter'ı bir kelime işlemci (örn: MS Word) belgesi olarak düşünebilirsiniz: bu dökümanın bazı yerlerine açıklamalar yazıp, aralara da resimler eklediğiniz gibi, bir Jupyter defterinin istediğiniz kısımlarına yazı yazıp, istediğiniz kısımlarında da programınızı yazıp çalıştırabilirsiniz -- tıpkı şu anda yapmakta olduğum gibi. Python'da basit bir işlem yapalım:"
   ]
  },
  {
   "cell_type": "code",
   "execution_count": 1,
   "metadata": {},
   "outputs": [
    {
     "data": {
      "text/plain": [
       "12"
      ]
     },
     "execution_count": 1,
     "metadata": {},
     "output_type": "execute_result"
    }
   ],
   "source": [
    "5 + 7"
   ]
  },
  {
   "cell_type": "markdown",
   "metadata": {},
   "source": [
    "Yukarıdaki işlemin olduğu kısım, şu anda bu satırların olduğu kısım gibi, çalışmamızın bir parçası olup, \"hücre\" (_cell_) adıyla anılırlar. Bir hücre şu üç çeşitten biri olabilir:\n",
    "1. **Kod Hücresi:** Bu hücre -doğal olarak- en temel hücre tipimiz olacaktır. Buraya yazılan kodlar çalıştırılıp, çıktıları da aynı hücrenin altında monte şekilde gösterilecektir. (Kısayol tuşu: **Y**)\n",
    "2. **Metin Hücresi:** Metin hücreleri de şu anda okumakta olduğunuz hücreler gibi, bilgi paylaşımı amacıyla oluşturulan hücrelerdir. Bu kısımları programlarda açıklamaları yazdığımız yorum satırlarının gelişmiş versiyonları olarak düşünebiliriz. **Kalın**, _italik_ vs. şeklindeki basit biçimlendirmelere de izin verirler (bu biçimlendirmeler için kullanılan notasyona **MarkDown** notasyonu adı verilmekte olup, detaylı açıklamalar ve örnekler için [Adam Pritchard'ın kapsamlı sayfasına bakabilirsiniz](https://github.com/adam-p/markdown-here/wiki/Markdown-Cheatsheet). Metin hücreleri, MathJax motoru sayesinde, karmaşık formülleri $\\LaTeX$ yoluyla yazmanıza da izin vermektedir, örneğin: $\\oint E \\cdot \\text{d}A = \\frac{\\rho}{\\epsilon_0}$. (Kısayol tuşu: **M**)\n",
    "3. **Çiğ Hücre:** Çiğ hücreler bir kodu (veya _şiiri_ ;) şeklini bozmadan, normalde çeşitli anlamlara gelen sembolleri olduğu gibi girmenize yarar. Şimdilik pek kullanacağımız bir hücre tipi değil. (Kısayol tuşu: **R**)\n",
    "\n",
    "Hücrelerle ilgili çok kullanacağınız birkaç diğer kısayol tuşu ise şunlardır:\n",
    "* &lt;Enter> : Seçili hücreyi değiştirme moduna alır.\n",
    "* &lt;CTRL>+&lt;Enter> : Seçili olan hücreyi _çalıştırır_ (kod hücresi ise yazılı kodu çalıştırıp, çıktısını döndürür; metin hücresi ise markdown ve LateX sembollerini işler)\n",
    "* b (below/aşağı) ve a (above/yukarı) : Seçili olan hücrenin aşağısına (veya yukarısına) yeni bir hücre ekler.\n",
    "* &lt;CTRL>+&lt;Shift>+&lt;-> (split) : Seçili olan hücreyi o anda imleçin olduğu satırdan iki ayrı hücreye böler.\n",
    "* h (help) : Kısayol tuşlarının karşılıklarını gösterir.\n",
    "\n",
    "Bütün defteri çalıştırmak için ise **Kernel** menüsünden \"Restart & Run All\" diyebilirsiniz - bu durumda, defteri yeni açmışsınız gibi çekirdek (_kernel_) baştan yüklenir ve her şey sıfırdan çalıştırılır; **Cell** menüsünden \"Run All\" seçeneği ise, hücreleri en tepeden aşağıya doğru sırayla çalıştırır fakat daha önce çalıştırdığınızda edinilen (değişken değerleri gibi) bilgileri de kullanır. Kod hücrelerinin sol başlarındaki sayılar hücrelerin hangi sırayla çalıştırıldıklarını işaret eder (beklemediğiniz bir çıktı almanız halinde gidişatı kolayca takip edip, durumu anlayabilmeniz için)."
   ]
  },
  {
   "cell_type": "markdown",
   "metadata": {},
   "source": [
    "# Python kütüphaneleri\n",
    "Python, çeşitli işlere özgü (örn: matris hesabı, grafik çizimi, veritabanı, konumsal işlemler, görüntüleme, ses işleme, yapay zeka vs.) metotları barındıran pek çok kütüphane ile desteklenir; zaten bu kadar geniş kullanıcı sayısına ulaşmasında da bu çeşitliliğin büyük katkısı vardır. Python'da kütüphaneler _modül_ (_module_) olarak adlandırılır.\n",
    "\n",
    "Sayısal hesap işlemlerinde yoğun olarak kullanacağımız üç adet kütüphane:\n",
    "1. NumPy : Temel matematiksel fonksiyonları ve gelişmiş dizi & matris tiplerini, işlemlerini içerir. GNU Octave'da yaptığımız hemen her şeyi bu kütüphanedeki tanımlar çerçevesinde yapabiliriz.\n",
    "2. SciPy : NumPy'ın bir üst kütüphanesi olarak düşünebiliriz. İleri fonksiyonlar ve metotlar bu kütüphanede bulunur, hayli kapsamlıdır.\n",
    "3. MatPlotLib : Grafik çizmek için GNU Octave / MATLAB benzeri komutlarla işimizi kolaylaştırır.\n",
    "\n",
    "Python'da istediğimiz kütüphaneyi:  \n",
    "`import <kütüphane-adı> as <kütüphane-adı-kısaltması>`  \n",
    "veya  \n",
    "`from <kütüphane-adı> import <istenilen-metotlar>`  \n",
    "biçimiyle çağırabiliriz. İki kullanım biçimi birbirinden farklıdır: İlkinde kütüphane elemanlarını çağırırken kütüphanenin kısa adıyla işaret ederiz (bu tür aidiyete \"isimuzayı\" (_namespace_) denir); ikinci türde ise kütüphane elemanları doğrudan ana isimuzayına eklenir, ilgili kütüphaneyi işaret etmemiz gerekmez. İkinci yaklaşım daha pratik gelse de birden fazla kütüphanenin aktarıldığı durumlarda karışıklığa yol açabilir, bu nedenle mümkün mertebe ilk yaklaşımı kullanmak gerekir. \n",
    "\n",
    "**Not:** ikinci yaklaşımla sadece bir tek metot eklense bile, Python yine de bütün kütüphaneyi yükleyecektir. `import numpy as np` ile `from numpy import pi` arasında performans bakımından hiçbir fark yoktur: iki durumda da bütün NumPy modülü yüklenir - ikinci durumda sadece _pi_'nin kullanımı mümkün olsa bile!"
   ]
  },
  {
   "cell_type": "code",
   "execution_count": 2,
   "metadata": {},
   "outputs": [
    {
     "ename": "NameError",
     "evalue": "name 'pi' is not defined",
     "output_type": "error",
     "traceback": [
      "\u001b[0;31m---------------------------------------------------------------------------\u001b[0m",
      "\u001b[0;31mNameError\u001b[0m                                 Traceback (most recent call last)",
      "\u001b[0;32m<ipython-input-2-71aa5d951ad9>\u001b[0m in \u001b[0;36m<module>\u001b[0;34m\u001b[0m\n\u001b[1;32m      1\u001b[0m \u001b[0;31m# Örnek:\u001b[0m\u001b[0;34m\u001b[0m\u001b[0;34m\u001b[0m\u001b[0;34m\u001b[0m\u001b[0m\n\u001b[0;32m----> 2\u001b[0;31m \u001b[0mprint\u001b[0m\u001b[0;34m(\u001b[0m\u001b[0mpi\u001b[0m\u001b[0;34m)\u001b[0m \u001b[0;31m# tanımlı olmadığından hata gelecektir\u001b[0m\u001b[0;34m\u001b[0m\u001b[0;34m\u001b[0m\u001b[0m\n\u001b[0m",
      "\u001b[0;31mNameError\u001b[0m: name 'pi' is not defined"
     ]
    }
   ],
   "source": [
    "# Örnek:\n",
    "print(pi) # tanımlı olmadığından hata gelecektir"
   ]
  },
  {
   "cell_type": "code",
   "execution_count": 3,
   "metadata": {},
   "outputs": [
    {
     "name": "stdout",
     "output_type": "stream",
     "text": [
      "3.141592653589793\n",
      "2.718281828459045\n"
     ]
    }
   ],
   "source": [
    "# Kütüphaneyi 'np' kısaltmasıyla aktaralım:\n",
    "import numpy as np\n",
    "print(np.pi) # pi de tanımlı,\n",
    "print(np.e) # e de..."
   ]
  },
  {
   "cell_type": "code",
   "execution_count": 4,
   "metadata": {},
   "outputs": [
    {
     "name": "stdout",
     "output_type": "stream",
     "text": [
      "3.141592653589793\n"
     ]
    },
    {
     "ename": "NameError",
     "evalue": "name 'e' is not defined",
     "output_type": "error",
     "traceback": [
      "\u001b[0;31m---------------------------------------------------------------------------\u001b[0m",
      "\u001b[0;31mNameError\u001b[0m                                 Traceback (most recent call last)",
      "\u001b[0;32m<ipython-input-4-ec3cedfb23f3>\u001b[0m in \u001b[0;36m<module>\u001b[0;34m\u001b[0m\n\u001b[1;32m      2\u001b[0m \u001b[0;32mfrom\u001b[0m \u001b[0mnumpy\u001b[0m \u001b[0;32mimport\u001b[0m \u001b[0mpi\u001b[0m\u001b[0;34m\u001b[0m\u001b[0;34m\u001b[0m\u001b[0m\n\u001b[1;32m      3\u001b[0m \u001b[0mprint\u001b[0m\u001b[0;34m(\u001b[0m\u001b[0mpi\u001b[0m\u001b[0;34m)\u001b[0m \u001b[0;31m# pi tanımlı,\u001b[0m\u001b[0;34m\u001b[0m\u001b[0;34m\u001b[0m\u001b[0m\n\u001b[0;32m----> 4\u001b[0;31m \u001b[0mprint\u001b[0m\u001b[0;34m(\u001b[0m\u001b[0me\u001b[0m\u001b[0;34m)\u001b[0m \u001b[0;31m# fakat e değil...\u001b[0m\u001b[0;34m\u001b[0m\u001b[0;34m\u001b[0m\u001b[0m\n\u001b[0m",
      "\u001b[0;31mNameError\u001b[0m: name 'e' is not defined"
     ]
    }
   ],
   "source": [
    "# Kütüphaneden sadece pi'yi aktarıp, öyle çağıralım:\n",
    "from numpy import pi\n",
    "print(pi) # pi tanımlı,\n",
    "print(e) # fakat e değil..."
   ]
  },
  {
   "cell_type": "markdown",
   "metadata": {},
   "source": [
    "# Jupyter sayfanızı aktarma\n",
    "Jupyter'da hazırladığınız sayfalar otomatik olarak sıklıkla kaydedilir (bunun yanısıra, siz de sol üstteki ikondan veya &lt;CTRL>+s kestirmesinden dilediğiniz zaman kaydedebilirsiniz).\n",
    "\n",
    "Dosyanızı bir başkasına doğrudan veya farklı bir biçimde göndermek içinse **File** menüsünden \"Download as...\" seçeneğini kullanabilirsiniz. Bu menüde çıkan seçeneklerden başlıcaları:\n",
    "\n",
    "* Notebook (.ipynb) : Oluşturmuş olduğunuz defterin tam olarak bir kopyasını verir.\n",
    "* Python (.py) : İlgili kod kısımlarını tutar, yazı kısımlarını ise yorum olarak işleyip verir.\n",
    "* HTML (.html) : Grafikler de dahil olmak üzere, bütün içeriği web tarayıcınızda gördüğünüz şekilde _statik olarak_ kaydeder fakat kod doğrudan çalıştırılamaz ya da siz defterdekine benzer şekilde işlemler yapamazsınız.\n",
    "* PDF (.pdf)"
   ]
  }
 ],
 "metadata": {
  "kernelspec": {
   "display_name": "Python 3",
   "language": "python",
   "name": "python3"
  },
  "language_info": {
   "codemirror_mode": {
    "name": "ipython",
    "version": 3
   },
   "file_extension": ".py",
   "mimetype": "text/x-python",
   "name": "python",
   "nbconvert_exporter": "python",
   "pygments_lexer": "ipython3",
   "version": "3.8.5"
  }
 },
 "nbformat": 4,
 "nbformat_minor": 2
}
