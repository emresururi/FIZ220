{
 "cells": [
  {
   "cell_type": "markdown",
   "metadata": {},
   "source": [
    "# Ödev: 2\n",
    "## FİZ220 - Bilgisayar Programlama II | 17/04/2020\n",
    "\n",
    "**NumPy Dizileri**\n",
    "\n",
    "**Son gönderim tarihi:** 22 Nisan Çarşamba, 23:59  \n",
    "**Gönderim şekli:** FIZ220_Odev_02_Grup_#.ipynb isimli jupyter ipynb formatında dosyayı ödev sayfasından göndermek suretiyle  \n",
    "**Gönderecek kişi:** <u>Grup temsilcisi</u>\n",
    "\n",
    "Dr. Emre S. Taşcı, emre.tasci@hacettepe.edu.tr  \n",
    "Fizik Mühendisliği Bölümü  \n",
    "Hacettepe Üniversitesi"
   ]
  },
  {
   "cell_type": "markdown",
   "metadata": {},
   "source": [
    "## NumPy Dizileri (ndarray) matrisler şeklinde olacak."
   ]
  },
  {
   "cell_type": "markdown",
   "metadata": {},
   "source": [
    "### 1. Soru: 3 boyutlu, rastgele ([5,10) aralığında) değerleri olan bir garip  (2x3x4)'lük matris...\n",
    "(Hepsi başlıkta geçiyor, yine de bir daha yazalım bakalım 8)  \n",
    "(2x3x4) boyutlarında, değerleri 5 veya 5'ten büyük, 10'dan küçük rastgele ondalıklı sayılar olan bir ndarray matrisi üretin."
   ]
  },
  {
   "cell_type": "markdown",
   "metadata": {},
   "source": [
    "### 2. Soru: Matris işlemleri, özdeğerler, özvektörler, aslında hepsi öteleme ve döndürmeden ibaret...\n",
    "\n",
    "Elimizde iki boyutlu bir düzlem olsun. Bu düzlemde, (1,0) noktasını alalım (yani x=1, y=0 noktası). Bu noktayı öyle bir (2x2)'lik matrisle çarpalım ki, bize sonuç olarak (0,1) noktasını versin (yani noktamızı saat yönünün tersine, orijin etrafında 90 derece çevirsin). \n",
    "\n",
    "Aynı matrisi (0,1) ile çarptığımızda da, bu sefer onu (-1,0) noktasına taşısın (yaptığımız işlem aynı aslında: orijin etrafında, saat yönünün tersine 90 derece çevirmek).\n",
    "\n",
    "Sorunun başlığı hakkında detaylı bilgi:\n",
    "* [The Applications of Matrices | What I wish my teachers told me way earlier](https://www.youtube.com/watch?v=rowWM-MijXU)\n",
    "* [Eigenvectors and eigenvalues | Essence of linear algebra, chapter 14](https://www.youtube.com/watch?v=PFDu9oVAE-g)"
   ]
  }
 ],
 "metadata": {
  "kernelspec": {
   "display_name": "Python 3",
   "language": "python",
   "name": "python3"
  },
  "language_info": {
   "codemirror_mode": {
    "name": "ipython",
    "version": 3
   },
   "file_extension": ".py",
   "mimetype": "text/x-python",
   "name": "python",
   "nbconvert_exporter": "python",
   "pygments_lexer": "ipython3",
   "version": "3.8.5"
  }
 },
 "nbformat": 4,
 "nbformat_minor": 2
}
