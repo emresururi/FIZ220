{
 "cells": [
  {
   "cell_type": "markdown",
   "metadata": {},
   "source": [
    "# Ödev: 3\n",
    "## FİZ220 - Bilgisayar Programlama II | 08/05/2020\n",
    "\n",
    "**Döngüler ve Kararlar**\n",
    "\n",
    "**Son gönderim tarihi:** 13 Mayıs Çarşamba, 23:59  \n",
    "**Gönderim şekli:** FIZ220_Odev_03_Grup_#.ipynb isimli jupyter ipynb formatında dosyayı ödev sayfasından göndermek suretiyle  \n",
    "**Gönderecek kişi:** <u>Grup temsilcisi</u>\n",
    "\n",
    "Dr. Emre S. Taşcı, emre.tasci@hacettepe.edu.tr  \n",
    "Fizik Mühendisliği Bölümü  \n",
    "Hacettepe Üniversitesi"
   ]
  },
  {
   "cell_type": "markdown",
   "metadata": {},
   "source": [
    "## NumPy Dizileri (ndarray) matrisler şeklinde olacak."
   ]
  },
  {
   "cell_type": "markdown",
   "metadata": {},
   "source": [
    "### 1. Soru: Asal sayılar (hani hesaplanamıyordu?..)\n",
    "Tanımlanan bir _n_ sayısından büyük ilk asal sayıyı bulan program yazınız."
   ]
  },
  {
   "cell_type": "markdown",
   "metadata": {},
   "source": [
    "### 2. Soru: Kuvvet hesabı\n",
    "\n",
    "İki boyutta, konumları $(x_i\\hat{i} + y_i\\hat{j})\\,\\text{m}$ şeklinde, yükleri de Coulomb cinsinden verilen 5 adet parçanın her birinin üzerine diğerlerinden binen kuvvetleri (vektörel olarak) hesaplayan program yazın."
   ]
  }
 ],
 "metadata": {
  "kernelspec": {
   "display_name": "Python 3",
   "language": "python",
   "name": "python3"
  },
  "language_info": {
   "codemirror_mode": {
    "name": "ipython",
    "version": 3
   },
   "file_extension": ".py",
   "mimetype": "text/x-python",
   "name": "python",
   "nbconvert_exporter": "python",
   "pygments_lexer": "ipython3",
   "version": "3.8.5"
  }
 },
 "nbformat": 4,
 "nbformat_minor": 2
}
